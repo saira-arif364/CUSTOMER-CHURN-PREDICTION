{
  "metadata": {
    "kernelspec": {
      "name": "python3",
      "display_name": "Python 3",
      "language": "python"
    },
    "language_info": {
      "name": "python",
      "version": "3.7.12",
      "mimetype": "text/x-python",
      "codemirror_mode": {
        "name": "ipython",
        "version": 3
      },
      "pygments_lexer": "ipython3",
      "nbconvert_exporter": "python",
      "file_extension": ".py"
    },
    "vscode": {
      "interpreter": {
        "hash": "aff2c5d55c8a9a1b0624383a84cf33467ec028a3db18713dc0b5835aa8a8682a"
      }
    },
    "colab": {
      "provenance": []
    }
  },
  "nbformat_minor": 5,
  "nbformat": 4,
  "cells": [
    {
      "cell_type": "markdown",
      "source": [
        "# Bank Customer Churn Prediction"
      ],
      "metadata": {
        "id": "juaW5gZHpXes"
      },
      "id": "juaW5gZHpXes"
    },
    {
      "cell_type": "markdown",
      "source": [
        "![bank](https://www.processmaker.com/wp-content/uploads/2020/03/4365.jpg)"
      ],
      "metadata": {
        "id": "-AKu4GntpXew"
      },
      "id": "-AKu4GntpXew"
    },
    {
      "cell_type": "markdown",
      "source": [
        "Figure 1: Bank Customer Illustration  \n",
        "Source: Adapted from [1]"
      ],
      "metadata": {
        "id": "kJDL7Q9WpXex"
      },
      "id": "kJDL7Q9WpXex"
    },
    {
      "cell_type": "markdown",
      "source": [
        "**Brief Summary**\n",
        "\n",
        "- Applied linear (logistic regression) & non-linear model (3 tree-based models) prediction.\n",
        "\n",
        "- Data splitting with train (0.7) and test (0.3).\n",
        "\n",
        "- Best performing model is LGBM classifier with tuned hyperparameter, the best score for testing data is **0.776** Macro-average f1 score."
      ],
      "metadata": {
        "id": "dU6Q09GgpXey"
      },
      "id": "dU6Q09GgpXey"
    },
    {
      "cell_type": "markdown",
      "source": [
        "# 1. Problem definition & Data Reading"
      ],
      "metadata": {
        "id": "LoH6Nn0bpXez"
      },
      "id": "LoH6Nn0bpXez"
    },
    {
      "cell_type": "markdown",
      "source": [
        "- classification problem (prediction whether the customer stayed (0) or exited (1) the bank)\n",
        "- given the related features (e.g. credit score, balance, number of products)"
      ],
      "metadata": {
        "id": "NglPpt7lpXez"
      },
      "id": "NglPpt7lpXez"
    },
    {
      "cell_type": "code",
      "source": [
        "import os\n",
        "import sys\n",
        "\n",
        "import IPython\n",
        "import matplotlib.pyplot as plt\n",
        "import mglearn\n",
        "import numpy as np\n",
        "import pandas as pd\n",
        "from IPython.display import HTML, display\n",
        "from sklearn.dummy import DummyClassifier\n",
        "from sklearn.linear_model import LogisticRegression\n",
        "from scipy.stats import lognorm, loguniform, randint\n",
        "from sklearn.model_selection import RandomizedSearchCV\n",
        "\n",
        "from sklearn.model_selection import cross_val_score, cross_validate, train_test_split\n",
        "from sklearn.pipeline import Pipeline, make_pipeline\n",
        "from IPython.display import Image\n",
        "from sklearn.compose import ColumnTransformer, make_column_transformer\n",
        "from sklearn.preprocessing import OneHotEncoder, OrdinalEncoder, StandardScaler, OneHotEncoder\n",
        "from sklearn.feature_extraction.text import CountVectorizer\n",
        "import seaborn as sns\n",
        "import matplotlib.pyplot as plt\n",
        "import altair as alt\n",
        "%matplotlib inline\n",
        "pd.set_option(\"display.max_colwidth\", 200)"
      ],
      "metadata": {
        "id": "kWzw602NpXe0"
      },
      "execution_count": null,
      "outputs": [],
      "id": "kWzw602NpXe0"
    },
    {
      "cell_type": "code",
      "source": [
        "df = pd.read_csv('data/raw/Churn_Modelling.csv')\n",
        "df.head()"
      ],
      "metadata": {
        "id": "1emduGCApXe1",
        "outputId": "471167fc-55f5-48ba-9155-944ccf9c479a"
      },
      "execution_count": null,
      "outputs": [
        {
          "execution_count": 2,
          "output_type": "execute_result",
          "data": {
            "text/html": [
              "<div>\n",
              "<style scoped>\n",
              "    .dataframe tbody tr th:only-of-type {\n",
              "        vertical-align: middle;\n",
              "    }\n",
              "\n",
              "    .dataframe tbody tr th {\n",
              "        vertical-align: top;\n",
              "    }\n",
              "\n",
              "    .dataframe thead th {\n",
              "        text-align: right;\n",
              "    }\n",
              "</style>\n",
              "<table border=\"1\" class=\"dataframe\">\n",
              "  <thead>\n",
              "    <tr style=\"text-align: right;\">\n",
              "      <th></th>\n",
              "      <th>RowNumber</th>\n",
              "      <th>CustomerId</th>\n",
              "      <th>Surname</th>\n",
              "      <th>CreditScore</th>\n",
              "      <th>Geography</th>\n",
              "      <th>Gender</th>\n",
              "      <th>Age</th>\n",
              "      <th>Tenure</th>\n",
              "      <th>Balance</th>\n",
              "      <th>NumOfProducts</th>\n",
              "      <th>HasCrCard</th>\n",
              "      <th>IsActiveMember</th>\n",
              "      <th>EstimatedSalary</th>\n",
              "      <th>Exited</th>\n",
              "    </tr>\n",
              "  </thead>\n",
              "  <tbody>\n",
              "    <tr>\n",
              "      <th>0</th>\n",
              "      <td>1</td>\n",
              "      <td>15634602</td>\n",
              "      <td>Hargrave</td>\n",
              "      <td>619</td>\n",
              "      <td>France</td>\n",
              "      <td>Female</td>\n",
              "      <td>42</td>\n",
              "      <td>2</td>\n",
              "      <td>0.00</td>\n",
              "      <td>1</td>\n",
              "      <td>1</td>\n",
              "      <td>1</td>\n",
              "      <td>101348.88</td>\n",
              "      <td>1</td>\n",
              "    </tr>\n",
              "    <tr>\n",
              "      <th>1</th>\n",
              "      <td>2</td>\n",
              "      <td>15647311</td>\n",
              "      <td>Hill</td>\n",
              "      <td>608</td>\n",
              "      <td>Spain</td>\n",
              "      <td>Female</td>\n",
              "      <td>41</td>\n",
              "      <td>1</td>\n",
              "      <td>83807.86</td>\n",
              "      <td>1</td>\n",
              "      <td>0</td>\n",
              "      <td>1</td>\n",
              "      <td>112542.58</td>\n",
              "      <td>0</td>\n",
              "    </tr>\n",
              "    <tr>\n",
              "      <th>2</th>\n",
              "      <td>3</td>\n",
              "      <td>15619304</td>\n",
              "      <td>Onio</td>\n",
              "      <td>502</td>\n",
              "      <td>France</td>\n",
              "      <td>Female</td>\n",
              "      <td>42</td>\n",
              "      <td>8</td>\n",
              "      <td>159660.80</td>\n",
              "      <td>3</td>\n",
              "      <td>1</td>\n",
              "      <td>0</td>\n",
              "      <td>113931.57</td>\n",
              "      <td>1</td>\n",
              "    </tr>\n",
              "    <tr>\n",
              "      <th>3</th>\n",
              "      <td>4</td>\n",
              "      <td>15701354</td>\n",
              "      <td>Boni</td>\n",
              "      <td>699</td>\n",
              "      <td>France</td>\n",
              "      <td>Female</td>\n",
              "      <td>39</td>\n",
              "      <td>1</td>\n",
              "      <td>0.00</td>\n",
              "      <td>2</td>\n",
              "      <td>0</td>\n",
              "      <td>0</td>\n",
              "      <td>93826.63</td>\n",
              "      <td>0</td>\n",
              "    </tr>\n",
              "    <tr>\n",
              "      <th>4</th>\n",
              "      <td>5</td>\n",
              "      <td>15737888</td>\n",
              "      <td>Mitchell</td>\n",
              "      <td>850</td>\n",
              "      <td>Spain</td>\n",
              "      <td>Female</td>\n",
              "      <td>43</td>\n",
              "      <td>2</td>\n",
              "      <td>125510.82</td>\n",
              "      <td>1</td>\n",
              "      <td>1</td>\n",
              "      <td>1</td>\n",
              "      <td>79084.10</td>\n",
              "      <td>0</td>\n",
              "    </tr>\n",
              "  </tbody>\n",
              "</table>\n",
              "</div>"
            ],
            "text/plain": [
              "   RowNumber  CustomerId   Surname  CreditScore Geography  Gender  Age  \\\n",
              "0          1    15634602  Hargrave          619    France  Female   42   \n",
              "1          2    15647311      Hill          608     Spain  Female   41   \n",
              "2          3    15619304      Onio          502    France  Female   42   \n",
              "3          4    15701354      Boni          699    France  Female   39   \n",
              "4          5    15737888  Mitchell          850     Spain  Female   43   \n",
              "\n",
              "   Tenure    Balance  NumOfProducts  HasCrCard  IsActiveMember  \\\n",
              "0       2       0.00              1          1               1   \n",
              "1       1   83807.86              1          0               1   \n",
              "2       8  159660.80              3          1               0   \n",
              "3       1       0.00              2          0               0   \n",
              "4       2  125510.82              1          1               1   \n",
              "\n",
              "   EstimatedSalary  Exited  \n",
              "0        101348.88       1  \n",
              "1        112542.58       0  \n",
              "2        113931.57       1  \n",
              "3         93826.63       0  \n",
              "4         79084.10       0  "
            ]
          },
          "metadata": {}
        }
      ],
      "id": "1emduGCApXe1"
    },
    {
      "cell_type": "code",
      "source": [
        "# Dropping unnecessary columns\n",
        "df.drop(['RowNumber','CustomerId','Surname'], axis=1, inplace=True)\n",
        "df.info()"
      ],
      "metadata": {
        "id": "-WCmQHFYpXe2",
        "outputId": "ba5d5967-d910-4fd7-8bb5-49dd35fae5df"
      },
      "execution_count": null,
      "outputs": [
        {
          "name": "stdout",
          "output_type": "stream",
          "text": "<class 'pandas.core.frame.DataFrame'>\n\nRangeIndex: 10000 entries, 0 to 9999\n\nData columns (total 11 columns):\n\n #   Column           Non-Null Count  Dtype  \n\n---  ------           --------------  -----  \n\n 0   CreditScore      10000 non-null  int64  \n\n 1   Geography        10000 non-null  object \n\n 2   Gender           10000 non-null  object \n\n 3   Age              10000 non-null  int64  \n\n 4   Tenure           10000 non-null  int64  \n\n 5   Balance          10000 non-null  float64\n\n 6   NumOfProducts    10000 non-null  int64  \n\n 7   HasCrCard        10000 non-null  int64  \n\n 8   IsActiveMember   10000 non-null  int64  \n\n 9   EstimatedSalary  10000 non-null  float64\n\n 10  Exited           10000 non-null  int64  \n\ndtypes: float64(2), int64(7), object(2)\n\nmemory usage: 859.5+ KB\n"
        }
      ],
      "id": "-WCmQHFYpXe2"
    },
    {
      "cell_type": "markdown",
      "source": [
        "# 2. Data splitting"
      ],
      "metadata": {
        "id": "LxQ1vQTIpXe3"
      },
      "id": "LxQ1vQTIpXe3"
    },
    {
      "cell_type": "code",
      "source": [
        "train_df, test_df = train_test_split(df, test_size=0.3, random_state=123)\n"
      ],
      "metadata": {
        "id": "hC2MqA4dpXe3"
      },
      "execution_count": null,
      "outputs": [],
      "id": "hC2MqA4dpXe3"
    },
    {
      "cell_type": "code",
      "source": [
        "train_df.shape"
      ],
      "metadata": {
        "id": "QXmLCv4CpXe3",
        "outputId": "d5cc6a1b-a10f-4831-a72a-5bc38d18a15c"
      },
      "execution_count": null,
      "outputs": [
        {
          "execution_count": 5,
          "output_type": "execute_result",
          "data": {
            "text/plain": [
              "(7000, 11)"
            ]
          },
          "metadata": {}
        }
      ],
      "id": "QXmLCv4CpXe3"
    },
    {
      "cell_type": "markdown",
      "source": [
        "# 3. EDA"
      ],
      "metadata": {
        "id": "Kjw8iKU2pXe4"
      },
      "id": "Kjw8iKU2pXe4"
    },
    {
      "cell_type": "markdown",
      "source": [
        "## 3.1 Training data at a glance"
      ],
      "metadata": {
        "id": "rvCrhNMkpXe4"
      },
      "id": "rvCrhNMkpXe4"
    },
    {
      "cell_type": "code",
      "source": [
        "train_df.info()\n",
        "train_df.describe()"
      ],
      "metadata": {
        "id": "OQEpZf2_pXe4",
        "outputId": "2b536eb7-f5ed-442b-b1d6-f6b61c0fca9f"
      },
      "execution_count": null,
      "outputs": [
        {
          "name": "stdout",
          "output_type": "stream",
          "text": "<class 'pandas.core.frame.DataFrame'>\n\nInt64Index: 7000 entries, 3144 to 3582\n\nData columns (total 11 columns):\n\n #   Column           Non-Null Count  Dtype  \n\n---  ------           --------------  -----  \n\n 0   CreditScore      7000 non-null   int64  \n\n 1   Geography        7000 non-null   object \n\n 2   Gender           7000 non-null   object \n\n 3   Age              7000 non-null   int64  \n\n 4   Tenure           7000 non-null   int64  \n\n 5   Balance          7000 non-null   float64\n\n 6   NumOfProducts    7000 non-null   int64  \n\n 7   HasCrCard        7000 non-null   int64  \n\n 8   IsActiveMember   7000 non-null   int64  \n\n 9   EstimatedSalary  7000 non-null   float64\n\n 10  Exited           7000 non-null   int64  \n\ndtypes: float64(2), int64(7), object(2)\n\nmemory usage: 656.2+ KB\n"
        },
        {
          "execution_count": 6,
          "output_type": "execute_result",
          "data": {
            "text/html": [
              "<div>\n",
              "<style scoped>\n",
              "    .dataframe tbody tr th:only-of-type {\n",
              "        vertical-align: middle;\n",
              "    }\n",
              "\n",
              "    .dataframe tbody tr th {\n",
              "        vertical-align: top;\n",
              "    }\n",
              "\n",
              "    .dataframe thead th {\n",
              "        text-align: right;\n",
              "    }\n",
              "</style>\n",
              "<table border=\"1\" class=\"dataframe\">\n",
              "  <thead>\n",
              "    <tr style=\"text-align: right;\">\n",
              "      <th></th>\n",
              "      <th>CreditScore</th>\n",
              "      <th>Age</th>\n",
              "      <th>Tenure</th>\n",
              "      <th>Balance</th>\n",
              "      <th>NumOfProducts</th>\n",
              "      <th>HasCrCard</th>\n",
              "      <th>IsActiveMember</th>\n",
              "      <th>EstimatedSalary</th>\n",
              "      <th>Exited</th>\n",
              "    </tr>\n",
              "  </thead>\n",
              "  <tbody>\n",
              "    <tr>\n",
              "      <th>count</th>\n",
              "      <td>7000.000000</td>\n",
              "      <td>7000.000000</td>\n",
              "      <td>7000.000000</td>\n",
              "      <td>7000.000000</td>\n",
              "      <td>7000.000000</td>\n",
              "      <td>7000.000000</td>\n",
              "      <td>7000.000000</td>\n",
              "      <td>7000.000000</td>\n",
              "      <td>7000.000000</td>\n",
              "    </tr>\n",
              "    <tr>\n",
              "      <th>mean</th>\n",
              "      <td>650.144571</td>\n",
              "      <td>38.942571</td>\n",
              "      <td>5.020143</td>\n",
              "      <td>76448.489407</td>\n",
              "      <td>1.534429</td>\n",
              "      <td>0.705429</td>\n",
              "      <td>0.515286</td>\n",
              "      <td>99934.226306</td>\n",
              "      <td>0.204571</td>\n",
              "    </tr>\n",
              "    <tr>\n",
              "      <th>std</th>\n",
              "      <td>96.554892</td>\n",
              "      <td>10.612389</td>\n",
              "      <td>2.894639</td>\n",
              "      <td>62700.899244</td>\n",
              "      <td>0.582855</td>\n",
              "      <td>0.455882</td>\n",
              "      <td>0.499802</td>\n",
              "      <td>57555.469387</td>\n",
              "      <td>0.403417</td>\n",
              "    </tr>\n",
              "    <tr>\n",
              "      <th>min</th>\n",
              "      <td>350.000000</td>\n",
              "      <td>18.000000</td>\n",
              "      <td>0.000000</td>\n",
              "      <td>0.000000</td>\n",
              "      <td>1.000000</td>\n",
              "      <td>0.000000</td>\n",
              "      <td>0.000000</td>\n",
              "      <td>11.580000</td>\n",
              "      <td>0.000000</td>\n",
              "    </tr>\n",
              "    <tr>\n",
              "      <th>25%</th>\n",
              "      <td>583.000000</td>\n",
              "      <td>32.000000</td>\n",
              "      <td>3.000000</td>\n",
              "      <td>0.000000</td>\n",
              "      <td>1.000000</td>\n",
              "      <td>0.000000</td>\n",
              "      <td>0.000000</td>\n",
              "      <td>50743.832500</td>\n",
              "      <td>0.000000</td>\n",
              "    </tr>\n",
              "    <tr>\n",
              "      <th>50%</th>\n",
              "      <td>652.000000</td>\n",
              "      <td>37.000000</td>\n",
              "      <td>5.000000</td>\n",
              "      <td>96889.925000</td>\n",
              "      <td>1.000000</td>\n",
              "      <td>1.000000</td>\n",
              "      <td>1.000000</td>\n",
              "      <td>99729.890000</td>\n",
              "      <td>0.000000</td>\n",
              "    </tr>\n",
              "    <tr>\n",
              "      <th>75%</th>\n",
              "      <td>717.000000</td>\n",
              "      <td>44.000000</td>\n",
              "      <td>8.000000</td>\n",
              "      <td>127838.535000</td>\n",
              "      <td>2.000000</td>\n",
              "      <td>1.000000</td>\n",
              "      <td>1.000000</td>\n",
              "      <td>149458.040000</td>\n",
              "      <td>0.000000</td>\n",
              "    </tr>\n",
              "    <tr>\n",
              "      <th>max</th>\n",
              "      <td>850.000000</td>\n",
              "      <td>92.000000</td>\n",
              "      <td>10.000000</td>\n",
              "      <td>238387.560000</td>\n",
              "      <td>4.000000</td>\n",
              "      <td>1.000000</td>\n",
              "      <td>1.000000</td>\n",
              "      <td>199992.480000</td>\n",
              "      <td>1.000000</td>\n",
              "    </tr>\n",
              "  </tbody>\n",
              "</table>\n",
              "</div>"
            ],
            "text/plain": [
              "       CreditScore          Age       Tenure        Balance  NumOfProducts  \\\n",
              "count  7000.000000  7000.000000  7000.000000    7000.000000    7000.000000   \n",
              "mean    650.144571    38.942571     5.020143   76448.489407       1.534429   \n",
              "std      96.554892    10.612389     2.894639   62700.899244       0.582855   \n",
              "min     350.000000    18.000000     0.000000       0.000000       1.000000   \n",
              "25%     583.000000    32.000000     3.000000       0.000000       1.000000   \n",
              "50%     652.000000    37.000000     5.000000   96889.925000       1.000000   \n",
              "75%     717.000000    44.000000     8.000000  127838.535000       2.000000   \n",
              "max     850.000000    92.000000    10.000000  238387.560000       4.000000   \n",
              "\n",
              "         HasCrCard  IsActiveMember  EstimatedSalary       Exited  \n",
              "count  7000.000000     7000.000000      7000.000000  7000.000000  \n",
              "mean      0.705429        0.515286     99934.226306     0.204571  \n",
              "std       0.455882        0.499802     57555.469387     0.403417  \n",
              "min       0.000000        0.000000        11.580000     0.000000  \n",
              "25%       0.000000        0.000000     50743.832500     0.000000  \n",
              "50%       1.000000        1.000000     99729.890000     0.000000  \n",
              "75%       1.000000        1.000000    149458.040000     0.000000  \n",
              "max       1.000000        1.000000    199992.480000     1.000000  "
            ]
          },
          "metadata": {}
        }
      ],
      "id": "OQEpZf2_pXe4"
    },
    {
      "cell_type": "markdown",
      "source": [
        "## 3.2 Label Imbalance"
      ],
      "metadata": {
        "id": "PyvfBwibpXe5"
      },
      "id": "PyvfBwibpXe5"
    },
    {
      "cell_type": "code",
      "source": [
        "train_df[\"Exited\"].value_counts(normalize=True)\n"
      ],
      "metadata": {
        "id": "_G8b88NgpXe5",
        "outputId": "a85a6786-8d02-48fe-9e0b-a5e9e438d011"
      },
      "execution_count": null,
      "outputs": [
        {
          "execution_count": 7,
          "output_type": "execute_result",
          "data": {
            "text/plain": [
              "0    0.795429\n",
              "1    0.204571\n",
              "Name: Exited, dtype: float64"
            ]
          },
          "metadata": {}
        }
      ],
      "id": "_G8b88NgpXe5"
    },
    {
      "cell_type": "markdown",
      "source": [
        "We have a class imbalance. Both classes seem importance here.\n",
        "\n",
        "We will be going to use macro-average f1 score as our evaluation metric."
      ],
      "metadata": {
        "id": "DMvQpdZMpXe5"
      },
      "id": "DMvQpdZMpXe5"
    },
    {
      "cell_type": "code",
      "source": [
        "from sklearn.metrics import f1_score, make_scorer, recall_score\n",
        "\n",
        "custom_scorer = make_scorer(f1_score, average=\"macro\")\n",
        "scoring_metric = custom_scorer"
      ],
      "metadata": {
        "id": "Z8HpW2uwpXe5"
      },
      "execution_count": null,
      "outputs": [],
      "id": "Z8HpW2uwpXe5"
    },
    {
      "cell_type": "markdown",
      "source": [
        "## 3.3 Separating class label & features"
      ],
      "metadata": {
        "id": "gsjn_iQbpXe5"
      },
      "id": "gsjn_iQbpXe5"
    },
    {
      "cell_type": "code",
      "source": [
        "X_train, y_train = (\n",
        "    train_df.drop(columns=[\"Exited\"]),\n",
        "    train_df[\"Exited\"],\n",
        ")\n",
        "X_test, y_test = (\n",
        "    test_df.drop(columns=[\"Exited\"]),\n",
        "    test_df[\"Exited\"],\n",
        ")"
      ],
      "metadata": {
        "id": "-Vj0zMaypXe6"
      },
      "execution_count": null,
      "outputs": [],
      "id": "-Vj0zMaypXe6"
    },
    {
      "cell_type": "markdown",
      "source": [
        "## 3.4 Correlation Plot"
      ],
      "metadata": {
        "id": "XcEf0du6pXe6"
      },
      "id": "XcEf0du6pXe6"
    },
    {
      "cell_type": "code",
      "source": [
        "fig, ax = plt.subplots(figsize=(12,12))\n",
        "sns.heatmap(train_df.corr(), annot=True, ax=ax, cmap='BrBG').set(\n",
        "    title = 'Feature Correlation', xlabel = 'Columns', ylabel = 'Columns')\n",
        "plt.show()"
      ],
      "metadata": {
        "id": "Ypv2sShppXe6",
        "outputId": "21254fa9-3f3e-4a72-b3e6-fd0b450363a0"
      },
      "execution_count": null,
      "outputs": [
        {
          "output_type": "display_data",
          "data": {
            "image/png": "[encoded data removed]",
            "text/plain": [
              "<Figure size 1200x1200 with 2 Axes>"
            ]
          },
          "metadata": {}
        }
      ],
      "id": "Ypv2sShppXe6"
    },
    {
      "cell_type": "code",
      "source": [
        "feat_corr = train_df.drop(columns='Exited').select_dtypes('number').apply(lambda x: x.corr(train_df.Exited))\n",
        "feat_corr = pd.DataFrame(feat_corr, columns=['correlation']).sort_values(['correlation'], ascending=False)\n",
        "\n",
        "# saving correlation heatmap\n",
        "plt.figure(figsize=(10,8))\n",
        "sns.barplot(x=feat_corr['correlation'], y=feat_corr.index, palette=\"vlag\").set(\n",
        "title=\"Feature Correlation of Numeric Features\", xlabel=\"Feature Correlation\",\n",
        "ylabel=\"Feature Names\")\n",
        "plt.show()"
      ],
      "metadata": {
        "id": "ras0wrxMpXe7",
        "outputId": "0a78130d-b2a6-42b2-f576-7ddb70a0b318"
      },
      "execution_count": null,
      "outputs": [
        {
          "output_type": "display_data",
          "data": {
            "image/png": "[encoded data removed]",
            "text/plain": [
              "<Figure size 1000x800 with 1 Axes>"
            ]
          },
          "metadata": {}
        }
      ],
      "id": "ras0wrxMpXe7"
    },
    {
      "cell_type": "markdown",
      "source": [
        "The top two positively correlated features with the target are `Age` and `Balance`, while `isActiveMember` is the negatively correlated feature with the target."
      ],
      "metadata": {
        "id": "reW3kjvbpXe7"
      },
      "id": "reW3kjvbpXe7"
    },
    {
      "cell_type": "code",
      "source": [
        "import altair_ally as aly\n",
        "from altair_data_server import data_server\n",
        "\n",
        "aly.alt.data_transformers.enable('data_server')\n",
        "aly.alt.renderers.enable('mimetype')\n",
        "\n",
        "aly.dist(train_df[train_df.columns[train_df.nunique() <= 20]].astype('object'), dtype='object').resolve_scale(y='independent')\n"
      ],
      "metadata": {
        "id": "VAi7Dy2WpXe7",
        "outputId": "556697b6-edf1-4b5c-f8e4-04550a96e4db"
      },
      "execution_count": null,
      "outputs": [
        {
          "execution_count": 12,
          "output_type": "execute_result",
          "data": {
            "application/vnd.vegalite.v4+json": {
              "$schema": "https://vega.github.io/schema/vega-lite/v4.17.0.json",
              "columns": 3,
              "concat": [
                {
                  "data": {
                    "url": "http://localhost:65054/4bdeb54d63b75f059e45614148c9a2d5.json"
                  },
                  "title": {
                    "anchor": "middle",
                    "text": "Geography"
                  },
                  "vconcat": [
                    {
                      "encoding": {
                        "color": {
                          "field": "",
                          "title": null,
                          "type": "quantitative"
                        },
                        "row": {
                          "field": "Geography",
                          "header": {
                            "labelAlign": "left",
                            "labelAngle": 0,
                            "labelPadding": 5
                          },
                          "title": null,
                          "type": "nominal"
                        },
                        "x": {
                          "aggregate": "count",
                          "type": "quantitative"
                        },
                        "y": {
                          "axis": {
                            "domain": true,
                            "labels": false,
                            "ticks": false,
                            "title": ""
                          },
                          "field": "",
                          "title": null,
                          "type": "quantitative"
                        }
                      },
                      "mark": "bar",
                      "width": 120
                    }
                  ]
                },
                {
                  "data": {
                    "url": "http://localhost:65054/e0bccf1974b06dc875ea3eb21d20681c.json"
                  },
                  "title": {
                    "anchor": "middle",
                    "text": "Gender"
                  },
                  "vconcat": [
                    {
                      "encoding": {
                        "color": {
                          "field": "",
                          "title": null,
                          "type": "quantitative"
                        },
                        "row": {
                          "field": "Gender",
                          "header": {
                            "labelAlign": "left",
                            "labelAngle": 0,
                            "labelPadding": 5
                          },
                          "title": null,
                          "type": "nominal"
                        },
                        "x": {
                          "aggregate": "count",
                          "type": "quantitative"
                        },
                        "y": {
                          "axis": {
                            "domain": true,
                            "labels": false,
                            "ticks": false,
                            "title": ""
                          },
                          "field": "",
                          "title": null,
                          "type": "quantitative"
                        }
                      },
                      "mark": "bar",
                      "width": 120
                    }
                  ]
                },
                {
                  "data": {
                    "url": "http://localhost:65054/15072d122759bc44eb6a6afabfa1bfe2.json"
                  },
                  "title": {
                    "anchor": "middle",
                    "text": "Tenure"
                  },
                  "vconcat": [
                    {
                      "encoding": {
                        "color": {
                          "field": "",
                          "title": null,
                          "type": "quantitative"
                        },
                        "row": {
                          "field": "Tenure",
                          "header": {
                            "labelAlign": "left",
                            "labelAngle": 0,
                            "labelPadding": 5
                          },
                          "title": null,
                          "type": "quantitative"
                        },
                        "x": {
                          "aggregate": "count",
                          "type": "quantitative"
                        },
                        "y": {
                          "axis": {
                            "domain": true,
                            "labels": false,
                            "ticks": false,
                            "title": ""
                          },
                          "field": "",
                          "title": null,
                          "type": "quantitative"
                        }
                      },
                      "mark": "bar",
                      "width": 120
                    }
                  ]
                },
                {
                  "data": {
                    "url": "http://localhost:65054/22de857b670aeea746b4f9fcbcb7d9e0.json"
                  },
                  "title": {
                    "anchor": "middle",
                    "text": "NumOfProducts"
                  },
                  "vconcat": [
                    {
                      "encoding": {
                        "color": {
                          "field": "",
                          "title": null,
                          "type": "quantitative"
                        },
                        "row": {
                          "field": "NumOfProducts",
                          "header": {
                            "labelAlign": "left",
                            "labelAngle": 0,
                            "labelPadding": 5
                          },
                          "title": null,
                          "type": "quantitative"
                        },
                        "x": {
                          "aggregate": "count",
                          "type": "quantitative"
                        },
                        "y": {
                          "axis": {
                            "domain": true,
                            "labels": false,
                            "ticks": false,
                            "title": ""
                          },
                          "field": "",
                          "title": null,
                          "type": "quantitative"
                        }
                      },
                      "mark": "bar",
                      "width": 120
                    }
                  ]
                },
                {
                  "data": {
                    "url": "http://localhost:65054/791a933083a4d04bfe721710fe80c768.json"
                  },
                  "title": {
                    "anchor": "middle",
                    "text": "HasCrCard"
                  },
                  "vconcat": [
                    {
                      "encoding": {
                        "color": {
                          "field": "",
                          "title": null,
                          "type": "quantitative"
                        },
                        "row": {
                          "field": "HasCrCard",
                          "header": {
                            "labelAlign": "left",
                            "labelAngle": 0,
                            "labelPadding": 5
                          },
                          "title": null,
                          "type": "quantitative"
                        },
                        "x": {
                          "aggregate": "count",
                          "type": "quantitative"
                        },
                        "y": {
                          "axis": {
                            "domain": true,
                            "labels": false,
                            "ticks": false,
                            "title": ""
                          },
                          "field": "",
                          "title": null,
                          "type": "quantitative"
                        }
                      },
                      "mark": "bar",
                      "width": 120
                    }
                  ]
                },
                {
                  "data": {
                    "url": "http://localhost:65054/c202b3c1b90f5cca2e572eefae5d514c.json"
                  },
                  "title": {
                    "anchor": "middle",
                    "text": "IsActiveMember"
                  },
                  "vconcat": [
                    {
                      "encoding": {
                        "color": {
                          "field": "",
                          "title": null,
                          "type": "quantitative"
                        },
                        "row": {
                          "field": "IsActiveMember",
                          "header": {
                            "labelAlign": "left",
                            "labelAngle": 0,
                            "labelPadding": 5
                          },
                          "title": null,
                          "type": "quantitative"
                        },
                        "x": {
                          "aggregate": "count",
                          "type": "quantitative"
                        },
                        "y": {
                          "axis": {
                            "domain": true,
                            "labels": false,
                            "ticks": false,
                            "title": ""
                          },
                          "field": "",
                          "title": null,
                          "type": "quantitative"
                        }
                      },
                      "mark": "bar",
                      "width": 120
                    }
                  ]
                },
                {
                  "data": {
                    "url": "http://localhost:65054/759f6c1e3996b30c5126564e5d0c64f0.json"
                  },
                  "title": {
                    "anchor": "middle",
                    "text": "Exited"
                  },
                  "vconcat": [
                    {
                      "encoding": {
                        "color": {
                          "field": "",
                          "title": null,
                          "type": "quantitative"
                        },
                        "row": {
                          "field": "Exited",
                          "header": {
                            "labelAlign": "left",
                            "labelAngle": 0,
                            "labelPadding": 5
                          },
                          "title": null,
                          "type": "quantitative"
                        },
                        "x": {
                          "aggregate": "count",
                          "type": "quantitative"
                        },
                        "y": {
                          "axis": {
                            "domain": true,
                            "labels": false,
                            "ticks": false,
                            "title": ""
                          },
                          "field": "",
                          "title": null,
                          "type": "quantitative"
                        }
                      },
                      "mark": "bar",
                      "width": 120
                    }
                  ]
                }
              ],
              "config": {
                "facet": {
                  "spacing": 0
                },
                "scale": {
                  "bandPaddingInner": 0.06,
                  "bandPaddingOuter": 0.4
                },
                "view": {
                  "continuousHeight": 300,
                  "continuousWidth": 400,
                  "stroke": null
                }
              },
              "resolve": {
                "scale": {
                  "y": "independent"
                }
              }
            },
            "image/png": "[encoded data removed]",
            "text/plain": [
              "<VegaLite 4 object>\n",
              "\n",
              "If you see this message, it means the renderer has not been properly enabled\n",
              "for the frontend that you are using. For more information, see\n",
              "https://altair-viz.github.io/user_guide/troubleshooting.html\n"
            ]
          },
          "metadata": {}
        }
      ],
      "id": "VAi7Dy2WpXe7"
    },
    {
      "cell_type": "markdown",
      "source": [
        "- We have very few features (only 10 features).\n",
        "\n",
        "- We have class imbalance and we handle it by using balanced class in modeling. We selected to use macro average f1 as our scoring metric while assigning equal weight to the class (`Exited`).\n",
        "\n",
        "- `Age` & `Exited` have the positive correlation, while `Balance` & `NumOfProducts` have the negative correlation.\n",
        "\n",
        "- We have quite a few outliers in `NumOfProducts`."
      ],
      "metadata": {
        "id": "kvGJRUiIpXe7"
      },
      "id": "kvGJRUiIpXe7"
    },
    {
      "cell_type": "code",
      "source": [
        "numeric_col = ['Age', 'Balance', 'CreditScore', 'EstimatedSalary']\n",
        "\n",
        "numeric_boxplot = alt.Chart(train_df).mark_boxplot().encode(\n",
        "    x=alt.X(alt.repeat(), type='quantitative'),\n",
        "    y=alt.Y('Exited:N'),\n",
        "    color='Exited:N'\n",
        ").repeat(repeat=numeric_col, columns=1)\n",
        "\n",
        "\n",
        "numeric_boxplot"
      ],
      "metadata": {
        "id": "LtaLyHCcpXe7",
        "outputId": "ad773a75-2274-4938-c214-4b215ddc9864"
      },
      "execution_count": null,
      "outputs": [
        {
          "execution_count": 13,
          "output_type": "execute_result",
          "data": {
            "application/vnd.vegalite.v4+json": {
              "$schema": "https://vega.github.io/schema/vega-lite/v4.17.0.json",
              "columns": 1,
              "config": {
                "view": {
                  "continuousHeight": 300,
                  "continuousWidth": 400
                }
              },
              "repeat": [
                "Age",
                "Balance",
                "CreditScore",
                "EstimatedSalary"
              ],
              "spec": {
                "data": {
                  "url": "http://localhost:65054/757a22cd9a401f20e492876012c5cc29.json"
                },
                "encoding": {
                  "color": {
                    "field": "Exited",
                    "type": "nominal"
                  },
                  "x": {
                    "field": {
                      "repeat": "repeat"
                    },
                    "type": "quantitative"
                  },
                  "y": {
                    "field": "Exited",
                    "type": "nominal"
                  }
                },
                "mark": "boxplot"
              }
            },
            "image/png": "[encoded data removed]",
            "text/plain": [
              "<VegaLite 4 object>\n",
              "\n",
              "If you see this message, it means the renderer has not been properly enabled\n",
              "for the frontend that you are using. For more information, see\n",
              "https://altair-viz.github.io/user_guide/troubleshooting.html\n"
            ]
          },
          "metadata": {}
        }
      ],
      "id": "LtaLyHCcpXe7"
    },
    {
      "cell_type": "markdown",
      "source": [
        "- The feature ranges are very different (`Age`, `Balance`, `CreditScore`, `EstimatedSalary`), standardization is needed.\n",
        "\n",
        "- `Age` shows different quantile value with quit a number of outliers in the staying customer class, and a few in the exiting customer class.\n",
        "\n",
        "- The exited customer have higher mean `Balance` than the stayed customer.\n",
        "\n",
        "- Both `CreditScore` and `EstimatedSalary` have similar quantile value in both classes (they are in different scale)."
      ],
      "metadata": {
        "id": "lVDjQj03pXe8"
      },
      "id": "lVDjQj03pXe8"
    },
    {
      "cell_type": "code",
      "source": [
        "gender_density = (alt.Chart(train_df)\n",
        " .transform_density(\n",
        "     'Age',\n",
        "     groupby=['Exited','Gender'],\n",
        "     as_=['Age', 'density'],\n",
        "     counts=True,\n",
        " )\n",
        " .mark_line().encode(\n",
        "     x='Age',\n",
        "     y='density:Q',\n",
        "     color='Exited:N',\n",
        " tooltip='Age')\n",
        " .facet('Gender',\n",
        "       title=\"Age Density Plot by Gender & Exited\"\n",
        "       )\n",
        ")\n",
        "\n",
        "gender_density"
      ],
      "metadata": {
        "id": "aLdBYYd_pXe8",
        "outputId": "a217bad8-89c9-4a01-b826-cd8fabf818f6"
      },
      "execution_count": null,
      "outputs": [
        {
          "execution_count": 14,
          "output_type": "execute_result",
          "data": {
            "application/vnd.vegalite.v4+json": {
              "$schema": "https://vega.github.io/schema/vega-lite/v4.17.0.json",
              "config": {
                "view": {
                  "continuousHeight": 300,
                  "continuousWidth": 400
                }
              },
              "data": {
                "url": "http://localhost:65054/757a22cd9a401f20e492876012c5cc29.json"
              },
              "facet": {
                "field": "Gender",
                "type": "nominal"
              },
              "spec": {
                "encoding": {
                  "color": {
                    "field": "Exited",
                    "type": "nominal"
                  },
                  "tooltip": {
                    "field": "Age",
                    "type": "quantitative"
                  },
                  "x": {
                    "field": "Age",
                    "type": "quantitative"
                  },
                  "y": {
                    "field": "density",
                    "type": "quantitative"
                  }
                },
                "mark": "line",
                "transform": [
                  {
                    "as": [
                      "Age",
                      "density"
                    ],
                    "counts": true,
                    "density": "Age",
                    "groupby": [
                      "Exited",
                      "Gender"
                    ]
                  }
                ]
              },
              "title": "Age Density Plot by Gender & Exited"
            },
            "image/png": "[encoded data removed]",
            "text/plain": [
              "<VegaLite 4 object>\n",
              "\n",
              "If you see this message, it means the renderer has not been properly enabled\n",
              "for the frontend that you are using. For more information, see\n",
              "https://altair-viz.github.io/user_guide/troubleshooting.html\n"
            ]
          },
          "metadata": {}
        }
      ],
      "id": "aLdBYYd_pXe8"
    },
    {
      "cell_type": "markdown",
      "source": [
        "- The age distribution of male & female is similar for both classes (stayed customer have lower age mean & exited customer have higher age mean)"
      ],
      "metadata": {
        "id": "PgrCVsi6pXe8"
      },
      "id": "PgrCVsi6pXe8"
    },
    {
      "cell_type": "markdown",
      "source": [
        "# 4. Preprocessing and transformations"
      ],
      "metadata": {
        "id": "wSpanAjVpXe8"
      },
      "id": "wSpanAjVpXe8"
    },
    {
      "cell_type": "code",
      "source": [
        "binary_features = ['Gender', 'HasCrCard', 'IsActiveMember']\n",
        "categorical_features = ['Geography']\n",
        "numeric_features = ['CreditScore', 'Age', 'Tenure', 'Balance','NumOfProducts', 'EstimatedSalary']\n",
        "target_column = ['Exited']\n",
        "\n",
        "preprocessor = make_column_transformer(\n",
        "    (StandardScaler(), numeric_features),\n",
        "    (OneHotEncoder(handle_unknown=\"ignore\", sparse=False), categorical_features),\n",
        "    (OneHotEncoder(drop=\"if_binary\", dtype=int), binary_features),\n",
        "    (\"passthrough\", target_column)\n",
        ")\n",
        "\n",
        "train_data = preprocessor.fit_transform(train_df)\n",
        "categorical_feats = preprocessor.named_transformers_['onehotencoder-1'].get_feature_names_out(categorical_features).tolist()\n",
        "binary_feats = preprocessor.named_transformers_['onehotencoder-2'].get_feature_names_out(binary_features).tolist()\n",
        "\n",
        "feature_names = numeric_features + categorical_feats + binary_feats + target_column\n",
        "transformed_train_df = pd.DataFrame(train_data, columns=feature_names)\n",
        "\n",
        "# transform testing data\n",
        "test_data = preprocessor.transform(test_df)\n",
        "transformed_test_df = pd.DataFrame(test_data, columns=feature_names)"
      ],
      "metadata": {
        "id": "AVa-JzZ6pXe9"
      },
      "execution_count": null,
      "outputs": [],
      "id": "AVa-JzZ6pXe9"
    },
    {
      "cell_type": "code",
      "source": [
        "transformed_train_df.to_csv('data/processed/train.csv', index=False)\n",
        "transformed_test_df.to_csv('data/processed/test.csv', index=False)"
      ],
      "metadata": {
        "id": "1xhLJ2SVpXe9"
      },
      "execution_count": null,
      "outputs": [],
      "id": "1xhLJ2SVpXe9"
    },
    {
      "cell_type": "code",
      "source": [
        "X_train, y_train = transformed_train_df.drop(columns=[\"Exited\"]), transformed_train_df[\"Exited\"]\n",
        "X_test, y_test = transformed_test_df.drop(columns=[\"Exited\"]), transformed_test_df[\"Exited\"]\n"
      ],
      "metadata": {
        "id": "y4NOWVP2pXe9"
      },
      "execution_count": null,
      "outputs": [],
      "id": "y4NOWVP2pXe9"
    },
    {
      "cell_type": "markdown",
      "source": [
        "# 5. Define score comparison method"
      ],
      "metadata": {
        "id": "UIVp0KzCpXe9"
      },
      "id": "UIVp0KzCpXe9"
    },
    {
      "cell_type": "code",
      "source": [
        "def mean_std_cross_val_scores(model, X_train, y_train, **kwargs):\n",
        "    \"\"\"\n",
        "    Returns mean and std of cross validation\n",
        "\n",
        "    Parameters\n",
        "    ----------\n",
        "    model :\n",
        "        scikit-learn model\n",
        "    X_train : numpy array or pandas DataFrame\n",
        "        X in the training data\n",
        "    y_train :\n",
        "        y in the training data\n",
        "\n",
        "    Returns\n",
        "    ----------\n",
        "        pandas Series with mean scores from cross_validation\n",
        "    \"\"\"\n",
        "\n",
        "    scores = cross_validate(model, X_train, y_train, **kwargs)\n",
        "\n",
        "    mean_scores = pd.DataFrame(scores).mean()\n",
        "    std_scores = pd.DataFrame(scores).std()\n",
        "    out_col = []\n",
        "\n",
        "    for i in range(len(mean_scores)):\n",
        "        out_col.append((f\"%0.3f (+/- %0.3f)\" % (mean_scores[i], std_scores[i])))\n",
        "\n",
        "    return pd.Series(data=out_col, index=mean_scores.index)\n",
        "\n",
        "results = {}"
      ],
      "metadata": {
        "id": "tlAK0SbKpXe9"
      },
      "execution_count": null,
      "outputs": [],
      "id": "tlAK0SbKpXe9"
    },
    {
      "cell_type": "markdown",
      "source": [
        "# 6. Baseline model"
      ],
      "metadata": {
        "id": "POMZK2SnpXe-"
      },
      "id": "POMZK2SnpXe-"
    },
    {
      "cell_type": "code",
      "source": [
        "dummy = DummyClassifier()\n",
        "results[\"dummy\"] = mean_std_cross_val_scores(\n",
        "    dummy, X_train, y_train, return_train_score=True, scoring=scoring_metric\n",
        ")\n",
        "pd.DataFrame(results)"
      ],
      "metadata": {
        "id": "Zp5jxpSupXe-",
        "outputId": "7e2ef5ff-e93f-43ac-fdb6-2fd033ca417c"
      },
      "execution_count": null,
      "outputs": [
        {
          "execution_count": 19,
          "output_type": "execute_result",
          "data": {
            "text/html": [
              "<div>\n",
              "<style scoped>\n",
              "    .dataframe tbody tr th:only-of-type {\n",
              "        vertical-align: middle;\n",
              "    }\n",
              "\n",
              "    .dataframe tbody tr th {\n",
              "        vertical-align: top;\n",
              "    }\n",
              "\n",
              "    .dataframe thead th {\n",
              "        text-align: right;\n",
              "    }\n",
              "</style>\n",
              "<table border=\"1\" class=\"dataframe\">\n",
              "  <thead>\n",
              "    <tr style=\"text-align: right;\">\n",
              "      <th></th>\n",
              "      <th>dummy</th>\n",
              "    </tr>\n",
              "  </thead>\n",
              "  <tbody>\n",
              "    <tr>\n",
              "      <th>fit_time</th>\n",
              "      <td>0.001 (+/- 0.000)</td>\n",
              "    </tr>\n",
              "    <tr>\n",
              "      <th>score_time</th>\n",
              "      <td>0.001 (+/- 0.001)</td>\n",
              "    </tr>\n",
              "    <tr>\n",
              "      <th>test_score</th>\n",
              "      <td>0.443 (+/- 0.000)</td>\n",
              "    </tr>\n",
              "    <tr>\n",
              "      <th>train_score</th>\n",
              "      <td>0.443 (+/- 0.000)</td>\n",
              "    </tr>\n",
              "  </tbody>\n",
              "</table>\n",
              "</div>"
            ],
            "text/plain": [
              "                         dummy\n",
              "fit_time     0.001 (+/- 0.000)\n",
              "score_time   0.001 (+/- 0.001)\n",
              "test_score   0.443 (+/- 0.000)\n",
              "train_score  0.443 (+/- 0.000)"
            ]
          },
          "metadata": {}
        }
      ],
      "id": "Zp5jxpSupXe-"
    },
    {
      "cell_type": "markdown",
      "source": [
        "# 7. Linear models\n",
        "\n",
        "- Try a linear model as a first real attempt.\n",
        "\n",
        "- Carry out hyperparameter tuning to explore different values for the regularization hyperparameter."
      ],
      "metadata": {
        "id": "AGK4mrBupXfG"
      },
      "id": "AGK4mrBupXfG"
    },
    {
      "cell_type": "markdown",
      "source": [
        "## 7.1 Try Linear Model"
      ],
      "metadata": {
        "id": "0yS_RFjdpXfG"
      },
      "id": "0yS_RFjdpXfG"
    },
    {
      "cell_type": "code",
      "source": [
        "pipe_lr = make_pipeline(\n",
        "    LogisticRegression(max_iter=1000, class_weight=\"balanced\")\n",
        ")\n",
        "results[\"logreg\"] = mean_std_cross_val_scores(\n",
        "    pipe_lr, X_train, y_train, return_train_score=True, scoring=scoring_metric\n",
        ")\n",
        "pd.DataFrame(results)"
      ],
      "metadata": {
        "id": "VMijaDv6pXfH",
        "outputId": "91966a12-6d24-47c8-8baa-a1f39dfa0ee9"
      },
      "execution_count": null,
      "outputs": [
        {
          "execution_count": 20,
          "output_type": "execute_result",
          "data": {
            "text/html": [
              "<div>\n",
              "<style scoped>\n",
              "    .dataframe tbody tr th:only-of-type {\n",
              "        vertical-align: middle;\n",
              "    }\n",
              "\n",
              "    .dataframe tbody tr th {\n",
              "        vertical-align: top;\n",
              "    }\n",
              "\n",
              "    .dataframe thead th {\n",
              "        text-align: right;\n",
              "    }\n",
              "</style>\n",
              "<table border=\"1\" class=\"dataframe\">\n",
              "  <thead>\n",
              "    <tr style=\"text-align: right;\">\n",
              "      <th></th>\n",
              "      <th>dummy</th>\n",
              "      <th>logreg</th>\n",
              "    </tr>\n",
              "  </thead>\n",
              "  <tbody>\n",
              "    <tr>\n",
              "      <th>fit_time</th>\n",
              "      <td>0.001 (+/- 0.000)</td>\n",
              "      <td>0.014 (+/- 0.003)</td>\n",
              "    </tr>\n",
              "    <tr>\n",
              "      <th>score_time</th>\n",
              "      <td>0.001 (+/- 0.001)</td>\n",
              "      <td>0.002 (+/- 0.001)</td>\n",
              "    </tr>\n",
              "    <tr>\n",
              "      <th>test_score</th>\n",
              "      <td>0.443 (+/- 0.000)</td>\n",
              "      <td>0.644 (+/- 0.016)</td>\n",
              "    </tr>\n",
              "    <tr>\n",
              "      <th>train_score</th>\n",
              "      <td>0.443 (+/- 0.000)</td>\n",
              "      <td>0.645 (+/- 0.004)</td>\n",
              "    </tr>\n",
              "  </tbody>\n",
              "</table>\n",
              "</div>"
            ],
            "text/plain": [
              "                         dummy             logreg\n",
              "fit_time     0.001 (+/- 0.000)  0.014 (+/- 0.003)\n",
              "score_time   0.001 (+/- 0.001)  0.002 (+/- 0.001)\n",
              "test_score   0.443 (+/- 0.000)  0.644 (+/- 0.016)\n",
              "train_score  0.443 (+/- 0.000)  0.645 (+/- 0.004)"
            ]
          },
          "metadata": {}
        }
      ],
      "id": "VMijaDv6pXfH"
    },
    {
      "cell_type": "markdown",
      "source": [
        "## 7.2 Hyperparameter for linear model (regularization)"
      ],
      "metadata": {
        "id": "rp7tN0JbpXfH"
      },
      "id": "rp7tN0JbpXfH"
    },
    {
      "cell_type": "code",
      "source": [
        "param_grid = {\"logisticregression__C\": loguniform(1e-3, 1e3)}\n",
        "\n",
        "random_search = RandomizedSearchCV(\n",
        "    pipe_lr,\n",
        "    param_grid,\n",
        "    n_iter=50,\n",
        "    verbose=1,\n",
        "    scoring=scoring_metric,\n",
        "    random_state=123,\n",
        "    return_train_score=True,\n",
        ")\n",
        "\n",
        "random_search.fit(X_train, y_train)"
      ],
      "metadata": {
        "id": "jyUFHWhnpXfH",
        "outputId": "c5ce09cf-1d86-468f-c02c-840fedc12f3a"
      },
      "execution_count": null,
      "outputs": [
        {
          "name": "stdout",
          "output_type": "stream",
          "text": "Fitting 5 folds for each of 50 candidates, totalling 250 fits\n"
        },
        {
          "execution_count": 21,
          "output_type": "execute_result",
          "data": {
            "text/html": [
              "<style>#sk-container-id-1 {color: black;background-color: white;}#sk-container-id-1 pre{padding: 0;}#sk-container-id-1 div.sk-toggleable {background-color: white;}#sk-container-id-1 label.sk-toggleable__label {cursor: pointer;display: block;width: 100%;margin-bottom: 0;padding: 0.3em;box-sizing: border-box;text-align: center;}#sk-container-id-1 label.sk-toggleable__label-arrow:before {content: \"▸\";float: left;margin-right: 0.25em;color: #696969;}#sk-container-id-1 label.sk-toggleable__label-arrow:hover:before {color: black;}#sk-container-id-1 div.sk-estimator:hover label.sk-toggleable__label-arrow:before {color: black;}#sk-container-id-1 div.sk-toggleable__content {max-height: 0;max-width: 0;overflow: hidden;text-align: left;background-color: #f0f8ff;}#sk-container-id-1 div.sk-toggleable__content pre {margin: 0.2em;color: black;border-radius: 0.25em;background-color: #f0f8ff;}#sk-container-id-1 input.sk-toggleable__control:checked~div.sk-toggleable__content {max-height: 200px;max-width: 100%;overflow: auto;}#sk-container-id-1 input.sk-toggleable__control:checked~label.sk-toggleable__label-arrow:before {content: \"▾\";}#sk-container-id-1 div.sk-estimator input.sk-toggleable__control:checked~label.sk-toggleable__label {background-color: #d4ebff;}#sk-container-id-1 div.sk-label input.sk-toggleable__control:checked~label.sk-toggleable__label {background-color: #d4ebff;}#sk-container-id-1 input.sk-hidden--visually {border: 0;clip: rect(1px 1px 1px 1px);clip: rect(1px, 1px, 1px, 1px);height: 1px;margin: -1px;overflow: hidden;padding: 0;position: absolute;width: 1px;}#sk-container-id-1 div.sk-estimator {font-family: monospace;background-color: #f0f8ff;border: 1px dotted black;border-radius: 0.25em;box-sizing: border-box;margin-bottom: 0.5em;}#sk-container-id-1 div.sk-estimator:hover {background-color: #d4ebff;}#sk-container-id-1 div.sk-parallel-item::after {content: \"\";width: 100%;border-bottom: 1px solid gray;flex-grow: 1;}#sk-container-id-1 div.sk-label:hover label.sk-toggleable__label {background-color: #d4ebff;}#sk-container-id-1 div.sk-serial::before {content: \"\";position: absolute;border-left: 1px solid gray;box-sizing: border-box;top: 0;bottom: 0;left: 50%;z-index: 0;}#sk-container-id-1 div.sk-serial {display: flex;flex-direction: column;align-items: center;background-color: white;padding-right: 0.2em;padding-left: 0.2em;position: relative;}#sk-container-id-1 div.sk-item {position: relative;z-index: 1;}#sk-container-id-1 div.sk-parallel {display: flex;align-items: stretch;justify-content: center;background-color: white;position: relative;}#sk-container-id-1 div.sk-item::before, #sk-container-id-1 div.sk-parallel-item::before {content: \"\";position: absolute;border-left: 1px solid gray;box-sizing: border-box;top: 0;bottom: 0;left: 50%;z-index: -1;}#sk-container-id-1 div.sk-parallel-item {display: flex;flex-direction: column;z-index: 1;position: relative;background-color: white;}#sk-container-id-1 div.sk-parallel-item:first-child::after {align-self: flex-end;width: 50%;}#sk-container-id-1 div.sk-parallel-item:last-child::after {align-self: flex-start;width: 50%;}#sk-container-id-1 div.sk-parallel-item:only-child::after {width: 0;}#sk-container-id-1 div.sk-dashed-wrapped {border: 1px dashed gray;margin: 0 0.4em 0.5em 0.4em;box-sizing: border-box;padding-bottom: 0.4em;background-color: white;}#sk-container-id-1 div.sk-label label {font-family: monospace;font-weight: bold;display: inline-block;line-height: 1.2em;}#sk-container-id-1 div.sk-label-container {text-align: center;}#sk-container-id-1 div.sk-container {/* jupyter's `normalize.less` sets `[hidden] { display: none; }` but bootstrap.min.css set `[hidden] { display: none !important; }` so we also need the `!important` here to be able to override the default hidden behavior on the sphinx rendered scikit-learn.org. See: https://github.com/scikit-learn/scikit-learn/issues/21755 */display: inline-block !important;position: relative;}#sk-container-id-1 div.sk-text-repr-fallback {display: none;}</style><div id=\"sk-container-id-1\" class=\"sk-top-container\"><div class=\"sk-text-repr-fallback\"><pre>RandomizedSearchCV(estimator=Pipeline(steps=[(&#x27;logisticregression&#x27;,\n",
              "                                              LogisticRegression(class_weight=&#x27;balanced&#x27;,\n",
              "                                                                 max_iter=1000))]),\n",
              "                   n_iter=50,\n",
              "                   param_distributions={&#x27;logisticregression__C&#x27;: &lt;scipy.stats._distn_infrastructure.rv_continuous_frozen object at 0x0000022F34D72A70&gt;},\n",
              "                   random_state=123, return_train_score=True,\n",
              "                   scoring=make_scorer(f1_score, average=macro), verbose=1)</pre><b>In a Jupyter environment, please rerun this cell to show the HTML representation or trust the notebook. <br />On GitHub, the HTML representation is unable to render, please try loading this page with nbviewer.org.</b></div><div class=\"sk-container\" hidden><div class=\"sk-item sk-dashed-wrapped\"><div class=\"sk-label-container\"><div class=\"sk-label sk-toggleable\"><input class=\"sk-toggleable__control sk-hidden--visually\" id=\"sk-estimator-id-1\" type=\"checkbox\" ><label for=\"sk-estimator-id-1\" class=\"sk-toggleable__label sk-toggleable__label-arrow\">RandomizedSearchCV</label><div class=\"sk-toggleable__content\"><pre>RandomizedSearchCV(estimator=Pipeline(steps=[(&#x27;logisticregression&#x27;,\n",
              "                                              LogisticRegression(class_weight=&#x27;balanced&#x27;,\n",
              "                                                                 max_iter=1000))]),\n",
              "                   n_iter=50,\n",
              "                   param_distributions={&#x27;logisticregression__C&#x27;: &lt;scipy.stats._distn_infrastructure.rv_continuous_frozen object at 0x0000022F34D72A70&gt;},\n",
              "                   random_state=123, return_train_score=True,\n",
              "                   scoring=make_scorer(f1_score, average=macro), verbose=1)</pre></div></div></div><div class=\"sk-parallel\"><div class=\"sk-parallel-item\"><div class=\"sk-item\"><div class=\"sk-label-container\"><div class=\"sk-label sk-toggleable\"><input class=\"sk-toggleable__control sk-hidden--visually\" id=\"sk-estimator-id-2\" type=\"checkbox\" ><label for=\"sk-estimator-id-2\" class=\"sk-toggleable__label sk-toggleable__label-arrow\">estimator: Pipeline</label><div class=\"sk-toggleable__content\"><pre>Pipeline(steps=[(&#x27;logisticregression&#x27;,\n",
              "                 LogisticRegression(class_weight=&#x27;balanced&#x27;, max_iter=1000))])</pre></div></div></div><div class=\"sk-serial\"><div class=\"sk-item\"><div class=\"sk-serial\"><div class=\"sk-item\"><div class=\"sk-estimator sk-toggleable\"><input class=\"sk-toggleable__control sk-hidden--visually\" id=\"sk-estimator-id-3\" type=\"checkbox\" ><label for=\"sk-estimator-id-3\" class=\"sk-toggleable__label sk-toggleable__label-arrow\">LogisticRegression</label><div class=\"sk-toggleable__content\"><pre>LogisticRegression(class_weight=&#x27;balanced&#x27;, max_iter=1000)</pre></div></div></div></div></div></div></div></div></div></div></div></div>"
            ],
            "text/plain": [
              "RandomizedSearchCV(estimator=Pipeline(steps=[('logisticregression',\n",
              "                                              LogisticRegression(class_weight='balanced',\n",
              "                                                                 max_iter=1000))]),\n",
              "                   n_iter=50,\n",
              "                   param_distributions={'logisticregression__C': <scipy.stats._distn_infrastructure.rv_continuous_frozen object at 0x0000022F34D72A70>},\n",
              "                   random_state=123, return_train_score=True,\n",
              "                   scoring=make_scorer(f1_score, average=macro), verbose=1)"
            ]
          },
          "metadata": {}
        }
      ],
      "id": "jyUFHWhnpXfH"
    },
    {
      "cell_type": "markdown",
      "source": [
        "## 7.3 Report Regularized Linear Model Result"
      ],
      "metadata": {
        "id": "bdSpoBH7pXfI"
      },
      "id": "bdSpoBH7pXfI"
    },
    {
      "cell_type": "code",
      "source": [
        "print(\"Best hyperparameter values: \", random_search.best_params_)\n",
        "print(\"Best score: %0.3f\" % (random_search.best_score_))"
      ],
      "metadata": {
        "id": "qU1WS5tvpXfI",
        "outputId": "88db63b2-ab84-4789-ce26-a5eef91430b6"
      },
      "execution_count": null,
      "outputs": [
        {
          "name": "stdout",
          "output_type": "stream",
          "text": "Best hyperparameter values:  {'logisticregression__C': 0.002280695888578118}\n\nBest score: 0.649\n"
        }
      ],
      "id": "qU1WS5tvpXfI"
    },
    {
      "cell_type": "code",
      "source": [
        "# top 10 Search CV results\n",
        "pd.DataFrame(random_search.cv_results_)[\n",
        "    [\n",
        "        \"mean_train_score\",\n",
        "        \"mean_test_score\",\n",
        "        \"param_logisticregression__C\",\n",
        "        \"mean_fit_time\",\n",
        "        \"rank_test_score\",\n",
        "        \"std_test_score\",\n",
        "    ]\n",
        "].set_index(\"rank_test_score\").sort_index()[:10]"
      ],
      "metadata": {
        "id": "vBCjiPR1pXfI",
        "outputId": "f34d79c4-5a1d-42de-b692-60d84da52edd"
      },
      "execution_count": null,
      "outputs": [
        {
          "execution_count": 23,
          "output_type": "execute_result",
          "data": {
            "text/html": [
              "<div>\n",
              "<style scoped>\n",
              "    .dataframe tbody tr th:only-of-type {\n",
              "        vertical-align: middle;\n",
              "    }\n",
              "\n",
              "    .dataframe tbody tr th {\n",
              "        vertical-align: top;\n",
              "    }\n",
              "\n",
              "    .dataframe thead th {\n",
              "        text-align: right;\n",
              "    }\n",
              "</style>\n",
              "<table border=\"1\" class=\"dataframe\">\n",
              "  <thead>\n",
              "    <tr style=\"text-align: right;\">\n",
              "      <th></th>\n",
              "      <th>mean_train_score</th>\n",
              "      <th>mean_test_score</th>\n",
              "      <th>param_logisticregression__C</th>\n",
              "      <th>mean_fit_time</th>\n",
              "      <th>std_test_score</th>\n",
              "    </tr>\n",
              "    <tr>\n",
              "      <th>rank_test_score</th>\n",
              "      <th></th>\n",
              "      <th></th>\n",
              "      <th></th>\n",
              "      <th></th>\n",
              "      <th></th>\n",
              "    </tr>\n",
              "  </thead>\n",
              "  <tbody>\n",
              "    <tr>\n",
              "      <th>1</th>\n",
              "      <td>0.651795</td>\n",
              "      <td>0.649018</td>\n",
              "      <td>0.002281</td>\n",
              "      <td>0.007190</td>\n",
              "      <td>0.010649</td>\n",
              "    </tr>\n",
              "    <tr>\n",
              "      <th>2</th>\n",
              "      <td>0.652270</td>\n",
              "      <td>0.648914</td>\n",
              "      <td>0.00357</td>\n",
              "      <td>0.007374</td>\n",
              "      <td>0.012515</td>\n",
              "    </tr>\n",
              "    <tr>\n",
              "      <th>3</th>\n",
              "      <td>0.652381</td>\n",
              "      <td>0.647924</td>\n",
              "      <td>0.00494</td>\n",
              "      <td>0.008382</td>\n",
              "      <td>0.011498</td>\n",
              "    </tr>\n",
              "    <tr>\n",
              "      <th>4</th>\n",
              "      <td>0.649850</td>\n",
              "      <td>0.647775</td>\n",
              "      <td>0.012444</td>\n",
              "      <td>0.008182</td>\n",
              "      <td>0.013100</td>\n",
              "    </tr>\n",
              "    <tr>\n",
              "      <th>5</th>\n",
              "      <td>0.650490</td>\n",
              "      <td>0.647512</td>\n",
              "      <td>0.01129</td>\n",
              "      <td>0.007780</td>\n",
              "      <td>0.012860</td>\n",
              "    </tr>\n",
              "    <tr>\n",
              "      <th>6</th>\n",
              "      <td>0.648191</td>\n",
              "      <td>0.647465</td>\n",
              "      <td>0.022967</td>\n",
              "      <td>0.009599</td>\n",
              "      <td>0.014078</td>\n",
              "    </tr>\n",
              "    <tr>\n",
              "      <th>7</th>\n",
              "      <td>0.648007</td>\n",
              "      <td>0.647342</td>\n",
              "      <td>0.02342</td>\n",
              "      <td>0.009368</td>\n",
              "      <td>0.014023</td>\n",
              "    </tr>\n",
              "    <tr>\n",
              "      <th>8</th>\n",
              "      <td>0.647309</td>\n",
              "      <td>0.646754</td>\n",
              "      <td>0.031822</td>\n",
              "      <td>0.011721</td>\n",
              "      <td>0.013869</td>\n",
              "    </tr>\n",
              "    <tr>\n",
              "      <th>9</th>\n",
              "      <td>0.646226</td>\n",
              "      <td>0.646210</td>\n",
              "      <td>0.080115</td>\n",
              "      <td>0.015247</td>\n",
              "      <td>0.014958</td>\n",
              "    </tr>\n",
              "    <tr>\n",
              "      <th>10</th>\n",
              "      <td>0.647010</td>\n",
              "      <td>0.646173</td>\n",
              "      <td>0.0521</td>\n",
              "      <td>0.010193</td>\n",
              "      <td>0.014249</td>\n",
              "    </tr>\n",
              "  </tbody>\n",
              "</table>\n",
              "</div>"
            ],
            "text/plain": [
              "                 mean_train_score  mean_test_score  \\\n",
              "rank_test_score                                      \n",
              "1                        0.651795         0.649018   \n",
              "2                        0.652270         0.648914   \n",
              "3                        0.652381         0.647924   \n",
              "4                        0.649850         0.647775   \n",
              "5                        0.650490         0.647512   \n",
              "6                        0.648191         0.647465   \n",
              "7                        0.648007         0.647342   \n",
              "8                        0.647309         0.646754   \n",
              "9                        0.646226         0.646210   \n",
              "10                       0.647010         0.646173   \n",
              "\n",
              "                param_logisticregression__C  mean_fit_time  std_test_score  \n",
              "rank_test_score                                                             \n",
              "1                                  0.002281       0.007190        0.010649  \n",
              "2                                   0.00357       0.007374        0.012515  \n",
              "3                                   0.00494       0.008382        0.011498  \n",
              "4                                  0.012444       0.008182        0.013100  \n",
              "5                                   0.01129       0.007780        0.012860  \n",
              "6                                  0.022967       0.009599        0.014078  \n",
              "7                                   0.02342       0.009368        0.014023  \n",
              "8                                  0.031822       0.011721        0.013869  \n",
              "9                                  0.080115       0.015247        0.014958  \n",
              "10                                   0.0521       0.010193        0.014249  "
            ]
          },
          "metadata": {}
        }
      ],
      "id": "vBCjiPR1pXfI"
    },
    {
      "cell_type": "code",
      "source": [
        "best_logreg = random_search.best_estimator_\n",
        "results[\"logreg (tuned)\"] = mean_std_cross_val_scores(\n",
        "    best_logreg, X_train, y_train, return_train_score=True, scoring=scoring_metric\n",
        ")\n",
        "\n",
        "pd.DataFrame(results)"
      ],
      "metadata": {
        "id": "ObkSga6PpXfI",
        "outputId": "edf8f139-038c-49d2-ae6d-fee3a7aeeab3"
      },
      "execution_count": null,
      "outputs": [
        {
          "execution_count": 24,
          "output_type": "execute_result",
          "data": {
            "text/html": [
              "<div>\n",
              "<style scoped>\n",
              "    .dataframe tbody tr th:only-of-type {\n",
              "        vertical-align: middle;\n",
              "    }\n",
              "\n",
              "    .dataframe tbody tr th {\n",
              "        vertical-align: top;\n",
              "    }\n",
              "\n",
              "    .dataframe thead th {\n",
              "        text-align: right;\n",
              "    }\n",
              "</style>\n",
              "<table border=\"1\" class=\"dataframe\">\n",
              "  <thead>\n",
              "    <tr style=\"text-align: right;\">\n",
              "      <th></th>\n",
              "      <th>dummy</th>\n",
              "      <th>logreg</th>\n",
              "      <th>logreg (tuned)</th>\n",
              "    </tr>\n",
              "  </thead>\n",
              "  <tbody>\n",
              "    <tr>\n",
              "      <th>fit_time</th>\n",
              "      <td>0.001 (+/- 0.000)</td>\n",
              "      <td>0.014 (+/- 0.003)</td>\n",
              "      <td>0.012 (+/- 0.001)</td>\n",
              "    </tr>\n",
              "    <tr>\n",
              "      <th>score_time</th>\n",
              "      <td>0.001 (+/- 0.001)</td>\n",
              "      <td>0.002 (+/- 0.001)</td>\n",
              "      <td>0.002 (+/- 0.000)</td>\n",
              "    </tr>\n",
              "    <tr>\n",
              "      <th>test_score</th>\n",
              "      <td>0.443 (+/- 0.000)</td>\n",
              "      <td>0.644 (+/- 0.016)</td>\n",
              "      <td>0.649 (+/- 0.012)</td>\n",
              "    </tr>\n",
              "    <tr>\n",
              "      <th>train_score</th>\n",
              "      <td>0.443 (+/- 0.000)</td>\n",
              "      <td>0.645 (+/- 0.004)</td>\n",
              "      <td>0.652 (+/- 0.006)</td>\n",
              "    </tr>\n",
              "  </tbody>\n",
              "</table>\n",
              "</div>"
            ],
            "text/plain": [
              "                         dummy             logreg     logreg (tuned)\n",
              "fit_time     0.001 (+/- 0.000)  0.014 (+/- 0.003)  0.012 (+/- 0.001)\n",
              "score_time   0.001 (+/- 0.001)  0.002 (+/- 0.001)  0.002 (+/- 0.000)\n",
              "test_score   0.443 (+/- 0.000)  0.644 (+/- 0.016)  0.649 (+/- 0.012)\n",
              "train_score  0.443 (+/- 0.000)  0.645 (+/- 0.004)  0.652 (+/- 0.006)"
            ]
          },
          "metadata": {}
        }
      ],
      "id": "ObkSga6PpXfI"
    },
    {
      "cell_type": "markdown",
      "source": [
        "- The results of the `logistic regression` are better than those of the `dummy classifier` (with or without best regularisation parameter).\n",
        "\n",
        "- The validation scores were slightly improved by adjusting the regularisation hyperparameter of `logistic regression` (from 0.644 to 0.645).\n",
        "\n",
        "- The gap between the train and validation scores is quite small, suggesting that we are underfitting. We can try other non-linear models to improve the score."
      ],
      "metadata": {
        "id": "cBM0PwA1pXfJ"
      },
      "id": "cBM0PwA1pXfJ"
    },
    {
      "cell_type": "markdown",
      "source": [
        "# 8. Different models"
      ],
      "metadata": {
        "id": "RCI9dgC4pXfJ"
      },
      "id": "RCI9dgC4pXfJ"
    },
    {
      "cell_type": "code",
      "source": [
        "# ratio of 0 vs 1 (for non sklearn model)\n",
        "import numpy as np\n",
        "\n",
        "ratio = np.bincount(y_train)[0] / np.bincount(y_train)[1]\n",
        "ratio"
      ],
      "metadata": {
        "id": "Vb1OuGxGpXfJ",
        "outputId": "4ca500d0-f42b-4d04-e532-7360224b29fa"
      },
      "execution_count": null,
      "outputs": [
        {
          "execution_count": 25,
          "output_type": "execute_result",
          "data": {
            "text/plain": [
              "3.888268156424581"
            ]
          },
          "metadata": {}
        }
      ],
      "id": "Vb1OuGxGpXfJ"
    },
    {
      "cell_type": "code",
      "source": [
        "from lightgbm.sklearn import LGBMClassifier\n",
        "from sklearn.ensemble import RandomForestClassifier\n",
        "from xgboost import XGBClassifier\n",
        "\n",
        "models = {\n",
        "    \"random forest\": RandomForestClassifier(class_weight=\"balanced\", random_state=np.random.RandomState(123)),\n",
        "    \"xgboost\": XGBClassifier(scale_pos_weight=ratio, random_state=np.random.RandomState(123)),\n",
        "    \"lgbm\": LGBMClassifier(scale_pos_weight=ratio, random_state=np.random.RandomState(123)),\n",
        "}\n",
        "\n",
        "for name, model in models.items():\n",
        "    pipe = make_pipeline(model)\n",
        "    results[name] = mean_std_cross_val_scores(\n",
        "        pipe, X_train, y_train, return_train_score=True, scoring=scoring_metric\n",
        "    )\n",
        "\n",
        "pd.DataFrame(results).T"
      ],
      "metadata": {
        "id": "x4PYBIxRpXfK",
        "outputId": "55d4e3e5-66db-4611-ceb5-a613bc1340d3"
      },
      "execution_count": null,
      "outputs": [
        {
          "execution_count": 26,
          "output_type": "execute_result",
          "data": {
            "text/html": [
              "<div>\n",
              "<style scoped>\n",
              "    .dataframe tbody tr th:only-of-type {\n",
              "        vertical-align: middle;\n",
              "    }\n",
              "\n",
              "    .dataframe tbody tr th {\n",
              "        vertical-align: top;\n",
              "    }\n",
              "\n",
              "    .dataframe thead th {\n",
              "        text-align: right;\n",
              "    }\n",
              "</style>\n",
              "<table border=\"1\" class=\"dataframe\">\n",
              "  <thead>\n",
              "    <tr style=\"text-align: right;\">\n",
              "      <th></th>\n",
              "      <th>fit_time</th>\n",
              "      <th>score_time</th>\n",
              "      <th>test_score</th>\n",
              "      <th>train_score</th>\n",
              "    </tr>\n",
              "  </thead>\n",
              "  <tbody>\n",
              "    <tr>\n",
              "      <th>dummy</th>\n",
              "      <td>0.001 (+/- 0.000)</td>\n",
              "      <td>0.001 (+/- 0.001)</td>\n",
              "      <td>0.443 (+/- 0.000)</td>\n",
              "      <td>0.443 (+/- 0.000)</td>\n",
              "    </tr>\n",
              "    <tr>\n",
              "      <th>logreg</th>\n",
              "      <td>0.014 (+/- 0.003)</td>\n",
              "      <td>0.002 (+/- 0.001)</td>\n",
              "      <td>0.644 (+/- 0.016)</td>\n",
              "      <td>0.645 (+/- 0.004)</td>\n",
              "    </tr>\n",
              "    <tr>\n",
              "      <th>logreg (tuned)</th>\n",
              "      <td>0.012 (+/- 0.001)</td>\n",
              "      <td>0.002 (+/- 0.000)</td>\n",
              "      <td>0.649 (+/- 0.012)</td>\n",
              "      <td>0.652 (+/- 0.006)</td>\n",
              "    </tr>\n",
              "    <tr>\n",
              "      <th>random forest</th>\n",
              "      <td>0.570 (+/- 0.027)</td>\n",
              "      <td>0.033 (+/- 0.001)</td>\n",
              "      <td>0.737 (+/- 0.031)</td>\n",
              "      <td>1.000 (+/- 0.000)</td>\n",
              "    </tr>\n",
              "    <tr>\n",
              "      <th>xgboost</th>\n",
              "      <td>0.254 (+/- 0.019)</td>\n",
              "      <td>0.005 (+/- 0.001)</td>\n",
              "      <td>0.729 (+/- 0.018)</td>\n",
              "      <td>0.958 (+/- 0.005)</td>\n",
              "    </tr>\n",
              "    <tr>\n",
              "      <th>lgbm</th>\n",
              "      <td>0.179 (+/- 0.021)</td>\n",
              "      <td>0.004 (+/- 0.001)</td>\n",
              "      <td>0.739 (+/- 0.011)</td>\n",
              "      <td>0.884 (+/- 0.006)</td>\n",
              "    </tr>\n",
              "  </tbody>\n",
              "</table>\n",
              "</div>"
            ],
            "text/plain": [
              "                         fit_time         score_time         test_score  \\\n",
              "dummy           0.001 (+/- 0.000)  0.001 (+/- 0.001)  0.443 (+/- 0.000)   \n",
              "logreg          0.014 (+/- 0.003)  0.002 (+/- 0.001)  0.644 (+/- 0.016)   \n",
              "logreg (tuned)  0.012 (+/- 0.001)  0.002 (+/- 0.000)  0.649 (+/- 0.012)   \n",
              "random forest   0.570 (+/- 0.027)  0.033 (+/- 0.001)  0.737 (+/- 0.031)   \n",
              "xgboost         0.254 (+/- 0.019)  0.005 (+/- 0.001)  0.729 (+/- 0.018)   \n",
              "lgbm            0.179 (+/- 0.021)  0.004 (+/- 0.001)  0.739 (+/- 0.011)   \n",
              "\n",
              "                      train_score  \n",
              "dummy           0.443 (+/- 0.000)  \n",
              "logreg          0.645 (+/- 0.004)  \n",
              "logreg (tuned)  0.652 (+/- 0.006)  \n",
              "random forest   1.000 (+/- 0.000)  \n",
              "xgboost         0.958 (+/- 0.005)  \n",
              "lgbm            0.884 (+/- 0.006)  "
            ]
          },
          "metadata": {}
        }
      ],
      "id": "x4PYBIxRpXfK"
    },
    {
      "cell_type": "markdown",
      "source": [
        "- We are using 3 non-linear `tree-based models`.\n",
        "\n",
        "- All models are set with default hyperparameters.\n",
        "\n",
        "- `LGBM` seems to be the best performing model among the tree-based models. It also seems to be much faster and overfitting less compared to `random forest` and `xgboost`."
      ],
      "metadata": {
        "id": "A1yXmdXjpXfK"
      },
      "id": "A1yXmdXjpXfK"
    },
    {
      "cell_type": "markdown",
      "source": [
        "# 9. Feature selection"
      ],
      "metadata": {
        "id": "WDp_5M8EpXfK"
      },
      "id": "WDp_5M8EpXfK"
    },
    {
      "cell_type": "markdown",
      "source": [
        "## 9.1 Applying logistic regression for feature selection"
      ],
      "metadata": {
        "id": "yQ-EcorvpXfL"
      },
      "id": "yQ-EcorvpXfL"
    },
    {
      "cell_type": "code",
      "source": [
        "from sklearn.feature_selection import SelectFromModel\n",
        "\n",
        "for name, model in models.items():\n",
        "    pipe = make_pipeline(\n",
        "        SelectFromModel(\n",
        "            LogisticRegression(solver=\"liblinear\", penalty=\"l1\", max_iter=1000, random_state=123)\n",
        "        ),\n",
        "        model,\n",
        "    )\n",
        "    results[name + \"+ feat_sel\"] = mean_std_cross_val_scores(\n",
        "        pipe, X_train, y_train, return_train_score=True, scoring=scoring_metric\n",
        "    )"
      ],
      "metadata": {
        "id": "gtHm6fCdpXfL"
      },
      "execution_count": null,
      "outputs": [],
      "id": "gtHm6fCdpXfL"
    },
    {
      "cell_type": "code",
      "source": [
        "pd.DataFrame(results).T"
      ],
      "metadata": {
        "id": "TDwTtm9ppXfL",
        "outputId": "b9d7463b-0270-4583-bbd6-152d7b35a34b"
      },
      "execution_count": null,
      "outputs": [
        {
          "execution_count": 28,
          "output_type": "execute_result",
          "data": {
            "text/html": [
              "<div>\n",
              "<style scoped>\n",
              "    .dataframe tbody tr th:only-of-type {\n",
              "        vertical-align: middle;\n",
              "    }\n",
              "\n",
              "    .dataframe tbody tr th {\n",
              "        vertical-align: top;\n",
              "    }\n",
              "\n",
              "    .dataframe thead th {\n",
              "        text-align: right;\n",
              "    }\n",
              "</style>\n",
              "<table border=\"1\" class=\"dataframe\">\n",
              "  <thead>\n",
              "    <tr style=\"text-align: right;\">\n",
              "      <th></th>\n",
              "      <th>fit_time</th>\n",
              "      <th>score_time</th>\n",
              "      <th>test_score</th>\n",
              "      <th>train_score</th>\n",
              "    </tr>\n",
              "  </thead>\n",
              "  <tbody>\n",
              "    <tr>\n",
              "      <th>dummy</th>\n",
              "      <td>0.001 (+/- 0.000)</td>\n",
              "      <td>0.001 (+/- 0.001)</td>\n",
              "      <td>0.443 (+/- 0.000)</td>\n",
              "      <td>0.443 (+/- 0.000)</td>\n",
              "    </tr>\n",
              "    <tr>\n",
              "      <th>logreg</th>\n",
              "      <td>0.014 (+/- 0.003)</td>\n",
              "      <td>0.002 (+/- 0.001)</td>\n",
              "      <td>0.644 (+/- 0.016)</td>\n",
              "      <td>0.645 (+/- 0.004)</td>\n",
              "    </tr>\n",
              "    <tr>\n",
              "      <th>logreg (tuned)</th>\n",
              "      <td>0.012 (+/- 0.001)</td>\n",
              "      <td>0.002 (+/- 0.000)</td>\n",
              "      <td>0.649 (+/- 0.012)</td>\n",
              "      <td>0.652 (+/- 0.006)</td>\n",
              "    </tr>\n",
              "    <tr>\n",
              "      <th>random forest</th>\n",
              "      <td>0.570 (+/- 0.027)</td>\n",
              "      <td>0.033 (+/- 0.001)</td>\n",
              "      <td>0.737 (+/- 0.031)</td>\n",
              "      <td>1.000 (+/- 0.000)</td>\n",
              "    </tr>\n",
              "    <tr>\n",
              "      <th>xgboost</th>\n",
              "      <td>0.254 (+/- 0.019)</td>\n",
              "      <td>0.005 (+/- 0.001)</td>\n",
              "      <td>0.729 (+/- 0.018)</td>\n",
              "      <td>0.958 (+/- 0.005)</td>\n",
              "    </tr>\n",
              "    <tr>\n",
              "      <th>lgbm</th>\n",
              "      <td>0.179 (+/- 0.021)</td>\n",
              "      <td>0.004 (+/- 0.001)</td>\n",
              "      <td>0.739 (+/- 0.011)</td>\n",
              "      <td>0.884 (+/- 0.006)</td>\n",
              "    </tr>\n",
              "    <tr>\n",
              "      <th>random forest+ feat_sel</th>\n",
              "      <td>0.565 (+/- 0.026)</td>\n",
              "      <td>0.033 (+/- 0.002)</td>\n",
              "      <td>0.729 (+/- 0.029)</td>\n",
              "      <td>1.000 (+/- 0.000)</td>\n",
              "    </tr>\n",
              "    <tr>\n",
              "      <th>xgboost+ feat_sel</th>\n",
              "      <td>0.235 (+/- 0.005)</td>\n",
              "      <td>0.005 (+/- 0.001)</td>\n",
              "      <td>0.733 (+/- 0.018)</td>\n",
              "      <td>0.961 (+/- 0.005)</td>\n",
              "    </tr>\n",
              "    <tr>\n",
              "      <th>lgbm+ feat_sel</th>\n",
              "      <td>0.138 (+/- 0.018)</td>\n",
              "      <td>0.005 (+/- 0.000)</td>\n",
              "      <td>0.742 (+/- 0.011)</td>\n",
              "      <td>0.885 (+/- 0.006)</td>\n",
              "    </tr>\n",
              "  </tbody>\n",
              "</table>\n",
              "</div>"
            ],
            "text/plain": [
              "                                  fit_time         score_time  \\\n",
              "dummy                    0.001 (+/- 0.000)  0.001 (+/- 0.001)   \n",
              "logreg                   0.014 (+/- 0.003)  0.002 (+/- 0.001)   \n",
              "logreg (tuned)           0.012 (+/- 0.001)  0.002 (+/- 0.000)   \n",
              "random forest            0.570 (+/- 0.027)  0.033 (+/- 0.001)   \n",
              "xgboost                  0.254 (+/- 0.019)  0.005 (+/- 0.001)   \n",
              "lgbm                     0.179 (+/- 0.021)  0.004 (+/- 0.001)   \n",
              "random forest+ feat_sel  0.565 (+/- 0.026)  0.033 (+/- 0.002)   \n",
              "xgboost+ feat_sel        0.235 (+/- 0.005)  0.005 (+/- 0.001)   \n",
              "lgbm+ feat_sel           0.138 (+/- 0.018)  0.005 (+/- 0.000)   \n",
              "\n",
              "                                test_score        train_score  \n",
              "dummy                    0.443 (+/- 0.000)  0.443 (+/- 0.000)  \n",
              "logreg                   0.644 (+/- 0.016)  0.645 (+/- 0.004)  \n",
              "logreg (tuned)           0.649 (+/- 0.012)  0.652 (+/- 0.006)  \n",
              "random forest            0.737 (+/- 0.031)  1.000 (+/- 0.000)  \n",
              "xgboost                  0.729 (+/- 0.018)  0.958 (+/- 0.005)  \n",
              "lgbm                     0.739 (+/- 0.011)  0.884 (+/- 0.006)  \n",
              "random forest+ feat_sel  0.729 (+/- 0.029)  1.000 (+/- 0.000)  \n",
              "xgboost+ feat_sel        0.733 (+/- 0.018)  0.961 (+/- 0.005)  \n",
              "lgbm+ feat_sel           0.742 (+/- 0.011)  0.885 (+/- 0.006)  "
            ]
          },
          "metadata": {}
        }
      ],
      "id": "TDwTtm9ppXfL"
    },
    {
      "cell_type": "markdown",
      "source": [
        "## 9.2 Counting the number of selected features"
      ],
      "metadata": {
        "id": "roLrEqJ8pXfL"
      },
      "id": "roLrEqJ8pXfL"
    },
    {
      "cell_type": "code",
      "source": [
        "pipe_random_forest = make_pipeline(\n",
        "    SelectFromModel(\n",
        "        LogisticRegression(solver=\"liblinear\", penalty=\"l1\", max_iter=1000, random_state=123)\n",
        "    ),\n",
        "    models[\"random forest\"],\n",
        ")\n",
        "\n",
        "pipe_random_forest.fit(X_train, y_train)\n",
        "print(\n",
        "    \"Number of features selected: \",\n",
        "    pipe_random_forest.named_steps[\"randomforestclassifier\"].n_features_in_,\n",
        ")"
      ],
      "metadata": {
        "id": "QsPZwisMpXfM",
        "outputId": "50c73a02-56ea-4cc8-ac82-647c8cb389d7"
      },
      "execution_count": null,
      "outputs": [
        {
          "name": "stdout",
          "output_type": "stream",
          "text": "Number of features selected:  11\n"
        }
      ],
      "id": "QsPZwisMpXfM"
    },
    {
      "cell_type": "markdown",
      "source": [
        "- L2 regularisation identified a total of 11 features.\n",
        "\n",
        "- With logistic regression and L2 regularisation, the results show very slight improvements. but not much.\n",
        "\n",
        "- Additionally, we do not have a lot of features. So let's disregard feature selection from the pipeline."
      ],
      "metadata": {
        "id": "pgM4lU0opXfM"
      },
      "id": "pgM4lU0opXfM"
    },
    {
      "cell_type": "markdown",
      "source": [
        "# 10. Hyperparameter optimization"
      ],
      "metadata": {
        "id": "B8DhGYSspXfM"
      },
      "id": "B8DhGYSspXfM"
    },
    {
      "cell_type": "markdown",
      "source": [
        "## 10.1 Random forest hyperparameter optimization\n"
      ],
      "metadata": {
        "id": "aDGUeMKUpXfM"
      },
      "id": "aDGUeMKUpXfM"
    },
    {
      "cell_type": "code",
      "source": [
        "param_grid_rf = {\n",
        "    \"randomforestclassifier__n_estimators\": randint(low=10, high=100),\n",
        "    \"randomforestclassifier__max_depth\": randint(low=2, high=20),\n",
        "}\n",
        "\n",
        "pipe_random_forest = make_pipeline(models[\"random forest\"])\n"
      ],
      "metadata": {
        "id": "-cy_AXR1pXfN"
      },
      "execution_count": null,
      "outputs": [],
      "id": "-cy_AXR1pXfN"
    },
    {
      "cell_type": "code",
      "source": [
        "random_search_rf = RandomizedSearchCV(\n",
        "    pipe_random_forest,\n",
        "    param_grid_rf,\n",
        "    n_iter=50,\n",
        "    verbose=1,\n",
        "    scoring=scoring_metric,\n",
        "    random_state=123,\n",
        "    return_train_score=True,\n",
        ")\n",
        "\n",
        "random_search_rf.fit(X_train, y_train)"
      ],
      "metadata": {
        "id": "1tUisO51pXfN",
        "outputId": "6a9ead9d-dbbf-4efd-c457-b1914212f01c"
      },
      "execution_count": null,
      "outputs": [
        {
          "name": "stdout",
          "output_type": "stream",
          "text": "Fitting 5 folds for each of 50 candidates, totalling 250 fits\n"
        },
        {
          "execution_count": 31,
          "output_type": "execute_result",
          "data": {
            "text/html": [
              "<style>#sk-container-id-2 {color: black;background-color: white;}#sk-container-id-2 pre{padding: 0;}#sk-container-id-2 div.sk-toggleable {background-color: white;}#sk-container-id-2 label.sk-toggleable__label {cursor: pointer;display: block;width: 100%;margin-bottom: 0;padding: 0.3em;box-sizing: border-box;text-align: center;}#sk-container-id-2 label.sk-toggleable__label-arrow:before {content: \"▸\";float: left;margin-right: 0.25em;color: #696969;}#sk-container-id-2 label.sk-toggleable__label-arrow:hover:before {color: black;}#sk-container-id-2 div.sk-estimator:hover label.sk-toggleable__label-arrow:before {color: black;}#sk-container-id-2 div.sk-toggleable__content {max-height: 0;max-width: 0;overflow: hidden;text-align: left;background-color: #f0f8ff;}#sk-container-id-2 div.sk-toggleable__content pre {margin: 0.2em;color: black;border-radius: 0.25em;background-color: #f0f8ff;}#sk-container-id-2 input.sk-toggleable__control:checked~div.sk-toggleable__content {max-height: 200px;max-width: 100%;overflow: auto;}#sk-container-id-2 input.sk-toggleable__control:checked~label.sk-toggleable__label-arrow:before {content: \"▾\";}#sk-container-id-2 div.sk-estimator input.sk-toggleable__control:checked~label.sk-toggleable__label {background-color: #d4ebff;}#sk-container-id-2 div.sk-label input.sk-toggleable__control:checked~label.sk-toggleable__label {background-color: #d4ebff;}#sk-container-id-2 input.sk-hidden--visually {border: 0;clip: rect(1px 1px 1px 1px);clip: rect(1px, 1px, 1px, 1px);height: 1px;margin: -1px;overflow: hidden;padding: 0;position: absolute;width: 1px;}#sk-container-id-2 div.sk-estimator {font-family: monospace;background-color: #f0f8ff;border: 1px dotted black;border-radius: 0.25em;box-sizing: border-box;margin-bottom: 0.5em;}#sk-container-id-2 div.sk-estimator:hover {background-color: #d4ebff;}#sk-container-id-2 div.sk-parallel-item::after {content: \"\";width: 100%;border-bottom: 1px solid gray;flex-grow: 1;}#sk-container-id-2 div.sk-label:hover label.sk-toggleable__label {background-color: #d4ebff;}#sk-container-id-2 div.sk-serial::before {content: \"\";position: absolute;border-left: 1px solid gray;box-sizing: border-box;top: 0;bottom: 0;left: 50%;z-index: 0;}#sk-container-id-2 div.sk-serial {display: flex;flex-direction: column;align-items: center;background-color: white;padding-right: 0.2em;padding-left: 0.2em;position: relative;}#sk-container-id-2 div.sk-item {position: relative;z-index: 1;}#sk-container-id-2 div.sk-parallel {display: flex;align-items: stretch;justify-content: center;background-color: white;position: relative;}#sk-container-id-2 div.sk-item::before, #sk-container-id-2 div.sk-parallel-item::before {content: \"\";position: absolute;border-left: 1px solid gray;box-sizing: border-box;top: 0;bottom: 0;left: 50%;z-index: -1;}#sk-container-id-2 div.sk-parallel-item {display: flex;flex-direction: column;z-index: 1;position: relative;background-color: white;}#sk-container-id-2 div.sk-parallel-item:first-child::after {align-self: flex-end;width: 50%;}#sk-container-id-2 div.sk-parallel-item:last-child::after {align-self: flex-start;width: 50%;}#sk-container-id-2 div.sk-parallel-item:only-child::after {width: 0;}#sk-container-id-2 div.sk-dashed-wrapped {border: 1px dashed gray;margin: 0 0.4em 0.5em 0.4em;box-sizing: border-box;padding-bottom: 0.4em;background-color: white;}#sk-container-id-2 div.sk-label label {font-family: monospace;font-weight: bold;display: inline-block;line-height: 1.2em;}#sk-container-id-2 div.sk-label-container {text-align: center;}#sk-container-id-2 div.sk-container {/* jupyter's `normalize.less` sets `[hidden] { display: none; }` but bootstrap.min.css set `[hidden] { display: none !important; }` so we also need the `!important` here to be able to override the default hidden behavior on the sphinx rendered scikit-learn.org. See: https://github.com/scikit-learn/scikit-learn/issues/21755 */display: inline-block !important;position: relative;}#sk-container-id-2 div.sk-text-repr-fallback {display: none;}</style><div id=\"sk-container-id-2\" class=\"sk-top-container\"><div class=\"sk-text-repr-fallback\"><pre>RandomizedSearchCV(estimator=Pipeline(steps=[(&#x27;randomforestclassifier&#x27;,\n",
              "                                              RandomForestClassifier(class_weight=&#x27;balanced&#x27;,\n",
              "                                                                     random_state=RandomState(MT19937) at 0x22F358BFB40))]),\n",
              "                   n_iter=50,\n",
              "                   param_distributions={&#x27;randomforestclassifier__max_depth&#x27;: &lt;scipy.stats._distn_infrastructure.rv_discrete_frozen object at 0x0000022F353B9450&gt;,\n",
              "                                        &#x27;randomforestclassifier__n_estimators&#x27;: &lt;scipy.stats._distn_infrastructure.rv_discrete_frozen object at 0x0000022F37A81990&gt;},\n",
              "                   random_state=123, return_train_score=True,\n",
              "                   scoring=make_scorer(f1_score, average=macro), verbose=1)</pre><b>In a Jupyter environment, please rerun this cell to show the HTML representation or trust the notebook. <br />On GitHub, the HTML representation is unable to render, please try loading this page with nbviewer.org.</b></div><div class=\"sk-container\" hidden><div class=\"sk-item sk-dashed-wrapped\"><div class=\"sk-label-container\"><div class=\"sk-label sk-toggleable\"><input class=\"sk-toggleable__control sk-hidden--visually\" id=\"sk-estimator-id-4\" type=\"checkbox\" ><label for=\"sk-estimator-id-4\" class=\"sk-toggleable__label sk-toggleable__label-arrow\">RandomizedSearchCV</label><div class=\"sk-toggleable__content\"><pre>RandomizedSearchCV(estimator=Pipeline(steps=[(&#x27;randomforestclassifier&#x27;,\n",
              "                                              RandomForestClassifier(class_weight=&#x27;balanced&#x27;,\n",
              "                                                                     random_state=RandomState(MT19937) at 0x22F358BFB40))]),\n",
              "                   n_iter=50,\n",
              "                   param_distributions={&#x27;randomforestclassifier__max_depth&#x27;: &lt;scipy.stats._distn_infrastructure.rv_discrete_frozen object at 0x0000022F353B9450&gt;,\n",
              "                                        &#x27;randomforestclassifier__n_estimators&#x27;: &lt;scipy.stats._distn_infrastructure.rv_discrete_frozen object at 0x0000022F37A81990&gt;},\n",
              "                   random_state=123, return_train_score=True,\n",
              "                   scoring=make_scorer(f1_score, average=macro), verbose=1)</pre></div></div></div><div class=\"sk-parallel\"><div class=\"sk-parallel-item\"><div class=\"sk-item\"><div class=\"sk-label-container\"><div class=\"sk-label sk-toggleable\"><input class=\"sk-toggleable__control sk-hidden--visually\" id=\"sk-estimator-id-5\" type=\"checkbox\" ><label for=\"sk-estimator-id-5\" class=\"sk-toggleable__label sk-toggleable__label-arrow\">estimator: Pipeline</label><div class=\"sk-toggleable__content\"><pre>Pipeline(steps=[(&#x27;randomforestclassifier&#x27;,\n",
              "                 RandomForestClassifier(class_weight=&#x27;balanced&#x27;,\n",
              "                                        random_state=RandomState(MT19937) at 0x22F358BFB40))])</pre></div></div></div><div class=\"sk-serial\"><div class=\"sk-item\"><div class=\"sk-serial\"><div class=\"sk-item\"><div class=\"sk-estimator sk-toggleable\"><input class=\"sk-toggleable__control sk-hidden--visually\" id=\"sk-estimator-id-6\" type=\"checkbox\" ><label for=\"sk-estimator-id-6\" class=\"sk-toggleable__label sk-toggleable__label-arrow\">RandomForestClassifier</label><div class=\"sk-toggleable__content\"><pre>RandomForestClassifier(class_weight=&#x27;balanced&#x27;,\n",
              "                       random_state=RandomState(MT19937) at 0x22F358BFB40)</pre></div></div></div></div></div></div></div></div></div></div></div></div>"
            ],
            "text/plain": [
              "RandomizedSearchCV(estimator=Pipeline(steps=[('randomforestclassifier',\n",
              "                                              RandomForestClassifier(class_weight='balanced',\n",
              "                                                                     random_state=RandomState(MT19937) at 0x22F358BFB40))]),\n",
              "                   n_iter=50,\n",
              "                   param_distributions={'randomforestclassifier__max_depth': <scipy.stats._distn_infrastructure.rv_discrete_frozen object at 0x0000022F353B9450>,\n",
              "                                        'randomforestclassifier__n_estimators': <scipy.stats._distn_infrastructure.rv_discrete_frozen object at 0x0000022F37A81990>},\n",
              "                   random_state=123, return_train_score=True,\n",
              "                   scoring=make_scorer(f1_score, average=macro), verbose=1)"
            ]
          },
          "metadata": {}
        }
      ],
      "id": "1tUisO51pXfN"
    },
    {
      "cell_type": "code",
      "source": [
        "print(\"Best hyperparameter values: \", random_search_rf.best_params_)\n",
        "print(\"Best score: %0.3f\" % (random_search_rf.best_score_))"
      ],
      "metadata": {
        "id": "NPl3r_BipXfO",
        "outputId": "ca2f7688-adbf-4314-af55-df0dd97458f6"
      },
      "execution_count": null,
      "outputs": [
        {
          "name": "stdout",
          "output_type": "stream",
          "text": "Best hyperparameter values:  {'randomforestclassifier__max_depth': 11, 'randomforestclassifier__n_estimators': 42}\n\nBest score: 0.752\n"
        }
      ],
      "id": "NPl3r_BipXfO"
    },
    {
      "cell_type": "code",
      "source": [
        "pd.DataFrame(random_search_rf.cv_results_)[\n",
        "    [\n",
        "        \"mean_train_score\",\n",
        "        \"mean_test_score\",\n",
        "        \"param_randomforestclassifier__n_estimators\",\n",
        "        \"param_randomforestclassifier__max_depth\",\n",
        "        \"mean_fit_time\",\n",
        "        \"rank_test_score\",\n",
        "        \"std_test_score\",\n",
        "    ]\n",
        "].set_index(\"rank_test_score\").sort_index()[:10]"
      ],
      "metadata": {
        "id": "7dENmPxwpXfO",
        "outputId": "90264e63-9158-47a2-ea7b-169c1ca76230"
      },
      "execution_count": null,
      "outputs": [
        {
          "execution_count": 33,
          "output_type": "execute_result",
          "data": {
            "text/html": [
              "<div>\n",
              "<style scoped>\n",
              "    .dataframe tbody tr th:only-of-type {\n",
              "        vertical-align: middle;\n",
              "    }\n",
              "\n",
              "    .dataframe tbody tr th {\n",
              "        vertical-align: top;\n",
              "    }\n",
              "\n",
              "    .dataframe thead th {\n",
              "        text-align: right;\n",
              "    }\n",
              "</style>\n",
              "<table border=\"1\" class=\"dataframe\">\n",
              "  <thead>\n",
              "    <tr style=\"text-align: right;\">\n",
              "      <th></th>\n",
              "      <th>mean_train_score</th>\n",
              "      <th>mean_test_score</th>\n",
              "      <th>param_randomforestclassifier__n_estimators</th>\n",
              "      <th>param_randomforestclassifier__max_depth</th>\n",
              "      <th>mean_fit_time</th>\n",
              "      <th>std_test_score</th>\n",
              "    </tr>\n",
              "    <tr>\n",
              "      <th>rank_test_score</th>\n",
              "      <th></th>\n",
              "      <th></th>\n",
              "      <th></th>\n",
              "      <th></th>\n",
              "      <th></th>\n",
              "      <th></th>\n",
              "    </tr>\n",
              "  </thead>\n",
              "  <tbody>\n",
              "    <tr>\n",
              "      <th>1</th>\n",
              "      <td>0.919323</td>\n",
              "      <td>0.751987</td>\n",
              "      <td>42</td>\n",
              "      <td>11</td>\n",
              "      <td>0.201822</td>\n",
              "      <td>0.018550</td>\n",
              "    </tr>\n",
              "    <tr>\n",
              "      <th>2</th>\n",
              "      <td>0.847936</td>\n",
              "      <td>0.751636</td>\n",
              "      <td>76</td>\n",
              "      <td>9</td>\n",
              "      <td>0.321228</td>\n",
              "      <td>0.013800</td>\n",
              "    </tr>\n",
              "    <tr>\n",
              "      <th>3</th>\n",
              "      <td>0.954626</td>\n",
              "      <td>0.750649</td>\n",
              "      <td>79</td>\n",
              "      <td>12</td>\n",
              "      <td>0.395564</td>\n",
              "      <td>0.024627</td>\n",
              "    </tr>\n",
              "    <tr>\n",
              "      <th>4</th>\n",
              "      <td>0.918972</td>\n",
              "      <td>0.750401</td>\n",
              "      <td>62</td>\n",
              "      <td>11</td>\n",
              "      <td>0.260278</td>\n",
              "      <td>0.023619</td>\n",
              "    </tr>\n",
              "    <tr>\n",
              "      <th>5</th>\n",
              "      <td>0.953776</td>\n",
              "      <td>0.749497</td>\n",
              "      <td>67</td>\n",
              "      <td>12</td>\n",
              "      <td>0.337155</td>\n",
              "      <td>0.019409</td>\n",
              "    </tr>\n",
              "    <tr>\n",
              "      <th>6</th>\n",
              "      <td>0.812487</td>\n",
              "      <td>0.746164</td>\n",
              "      <td>95</td>\n",
              "      <td>8</td>\n",
              "      <td>0.372821</td>\n",
              "      <td>0.012791</td>\n",
              "    </tr>\n",
              "    <tr>\n",
              "      <th>7</th>\n",
              "      <td>0.885718</td>\n",
              "      <td>0.745820</td>\n",
              "      <td>35</td>\n",
              "      <td>10</td>\n",
              "      <td>0.159611</td>\n",
              "      <td>0.018387</td>\n",
              "    </tr>\n",
              "    <tr>\n",
              "      <th>8</th>\n",
              "      <td>0.977290</td>\n",
              "      <td>0.742928</td>\n",
              "      <td>68</td>\n",
              "      <td>13</td>\n",
              "      <td>0.356009</td>\n",
              "      <td>0.029279</td>\n",
              "    </tr>\n",
              "    <tr>\n",
              "      <th>9</th>\n",
              "      <td>0.949317</td>\n",
              "      <td>0.742738</td>\n",
              "      <td>32</td>\n",
              "      <td>12</td>\n",
              "      <td>0.160399</td>\n",
              "      <td>0.020531</td>\n",
              "    </tr>\n",
              "    <tr>\n",
              "      <th>10</th>\n",
              "      <td>0.784457</td>\n",
              "      <td>0.741635</td>\n",
              "      <td>96</td>\n",
              "      <td>7</td>\n",
              "      <td>0.348439</td>\n",
              "      <td>0.009074</td>\n",
              "    </tr>\n",
              "  </tbody>\n",
              "</table>\n",
              "</div>"
            ],
            "text/plain": [
              "                 mean_train_score  mean_test_score  \\\n",
              "rank_test_score                                      \n",
              "1                        0.919323         0.751987   \n",
              "2                        0.847936         0.751636   \n",
              "3                        0.954626         0.750649   \n",
              "4                        0.918972         0.750401   \n",
              "5                        0.953776         0.749497   \n",
              "6                        0.812487         0.746164   \n",
              "7                        0.885718         0.745820   \n",
              "8                        0.977290         0.742928   \n",
              "9                        0.949317         0.742738   \n",
              "10                       0.784457         0.741635   \n",
              "\n",
              "                param_randomforestclassifier__n_estimators  \\\n",
              "rank_test_score                                              \n",
              "1                                                       42   \n",
              "2                                                       76   \n",
              "3                                                       79   \n",
              "4                                                       62   \n",
              "5                                                       67   \n",
              "6                                                       95   \n",
              "7                                                       35   \n",
              "8                                                       68   \n",
              "9                                                       32   \n",
              "10                                                      96   \n",
              "\n",
              "                param_randomforestclassifier__max_depth  mean_fit_time  \\\n",
              "rank_test_score                                                          \n",
              "1                                                    11       0.201822   \n",
              "2                                                     9       0.321228   \n",
              "3                                                    12       0.395564   \n",
              "4                                                    11       0.260278   \n",
              "5                                                    12       0.337155   \n",
              "6                                                     8       0.372821   \n",
              "7                                                    10       0.159611   \n",
              "8                                                    13       0.356009   \n",
              "9                                                    12       0.160399   \n",
              "10                                                    7       0.348439   \n",
              "\n",
              "                 std_test_score  \n",
              "rank_test_score                  \n",
              "1                      0.018550  \n",
              "2                      0.013800  \n",
              "3                      0.024627  \n",
              "4                      0.023619  \n",
              "5                      0.019409  \n",
              "6                      0.012791  \n",
              "7                      0.018387  \n",
              "8                      0.029279  \n",
              "9                      0.020531  \n",
              "10                     0.009074  "
            ]
          },
          "metadata": {}
        }
      ],
      "id": "7dENmPxwpXfO"
    },
    {
      "cell_type": "code",
      "source": [
        "best_rf_model = random_search_rf.best_estimator_\n",
        "results[\"random forest (tuned)\"] = mean_std_cross_val_scores(\n",
        "    best_rf_model, X_train, y_train, return_train_score=True, scoring=scoring_metric\n",
        ")\n",
        "pd.DataFrame(results).T"
      ],
      "metadata": {
        "id": "olV6ppHBpXfO",
        "outputId": "f2e5d4f0-d185-4e5f-ae6a-8832ca438164"
      },
      "execution_count": null,
      "outputs": [
        {
          "execution_count": 34,
          "output_type": "execute_result",
          "data": {
            "text/html": [
              "<div>\n",
              "<style scoped>\n",
              "    .dataframe tbody tr th:only-of-type {\n",
              "        vertical-align: middle;\n",
              "    }\n",
              "\n",
              "    .dataframe tbody tr th {\n",
              "        vertical-align: top;\n",
              "    }\n",
              "\n",
              "    .dataframe thead th {\n",
              "        text-align: right;\n",
              "    }\n",
              "</style>\n",
              "<table border=\"1\" class=\"dataframe\">\n",
              "  <thead>\n",
              "    <tr style=\"text-align: right;\">\n",
              "      <th></th>\n",
              "      <th>fit_time</th>\n",
              "      <th>score_time</th>\n",
              "      <th>test_score</th>\n",
              "      <th>train_score</th>\n",
              "    </tr>\n",
              "  </thead>\n",
              "  <tbody>\n",
              "    <tr>\n",
              "      <th>dummy</th>\n",
              "      <td>0.001 (+/- 0.000)</td>\n",
              "      <td>0.001 (+/- 0.001)</td>\n",
              "      <td>0.443 (+/- 0.000)</td>\n",
              "      <td>0.443 (+/- 0.000)</td>\n",
              "    </tr>\n",
              "    <tr>\n",
              "      <th>logreg</th>\n",
              "      <td>0.014 (+/- 0.003)</td>\n",
              "      <td>0.002 (+/- 0.001)</td>\n",
              "      <td>0.644 (+/- 0.016)</td>\n",
              "      <td>0.645 (+/- 0.004)</td>\n",
              "    </tr>\n",
              "    <tr>\n",
              "      <th>logreg (tuned)</th>\n",
              "      <td>0.012 (+/- 0.001)</td>\n",
              "      <td>0.002 (+/- 0.000)</td>\n",
              "      <td>0.649 (+/- 0.012)</td>\n",
              "      <td>0.652 (+/- 0.006)</td>\n",
              "    </tr>\n",
              "    <tr>\n",
              "      <th>random forest</th>\n",
              "      <td>0.570 (+/- 0.027)</td>\n",
              "      <td>0.033 (+/- 0.001)</td>\n",
              "      <td>0.737 (+/- 0.031)</td>\n",
              "      <td>1.000 (+/- 0.000)</td>\n",
              "    </tr>\n",
              "    <tr>\n",
              "      <th>xgboost</th>\n",
              "      <td>0.254 (+/- 0.019)</td>\n",
              "      <td>0.005 (+/- 0.001)</td>\n",
              "      <td>0.729 (+/- 0.018)</td>\n",
              "      <td>0.958 (+/- 0.005)</td>\n",
              "    </tr>\n",
              "    <tr>\n",
              "      <th>lgbm</th>\n",
              "      <td>0.179 (+/- 0.021)</td>\n",
              "      <td>0.004 (+/- 0.001)</td>\n",
              "      <td>0.739 (+/- 0.011)</td>\n",
              "      <td>0.884 (+/- 0.006)</td>\n",
              "    </tr>\n",
              "    <tr>\n",
              "      <th>random forest+ feat_sel</th>\n",
              "      <td>0.565 (+/- 0.026)</td>\n",
              "      <td>0.033 (+/- 0.002)</td>\n",
              "      <td>0.729 (+/- 0.029)</td>\n",
              "      <td>1.000 (+/- 0.000)</td>\n",
              "    </tr>\n",
              "    <tr>\n",
              "      <th>xgboost+ feat_sel</th>\n",
              "      <td>0.235 (+/- 0.005)</td>\n",
              "      <td>0.005 (+/- 0.001)</td>\n",
              "      <td>0.733 (+/- 0.018)</td>\n",
              "      <td>0.961 (+/- 0.005)</td>\n",
              "    </tr>\n",
              "    <tr>\n",
              "      <th>lgbm+ feat_sel</th>\n",
              "      <td>0.138 (+/- 0.018)</td>\n",
              "      <td>0.005 (+/- 0.000)</td>\n",
              "      <td>0.742 (+/- 0.011)</td>\n",
              "      <td>0.885 (+/- 0.006)</td>\n",
              "    </tr>\n",
              "    <tr>\n",
              "      <th>random forest (tuned)</th>\n",
              "      <td>0.182 (+/- 0.027)</td>\n",
              "      <td>0.013 (+/- 0.002)</td>\n",
              "      <td>0.751 (+/- 0.034)</td>\n",
              "      <td>0.915 (+/- 0.005)</td>\n",
              "    </tr>\n",
              "  </tbody>\n",
              "</table>\n",
              "</div>"
            ],
            "text/plain": [
              "                                  fit_time         score_time  \\\n",
              "dummy                    0.001 (+/- 0.000)  0.001 (+/- 0.001)   \n",
              "logreg                   0.014 (+/- 0.003)  0.002 (+/- 0.001)   \n",
              "logreg (tuned)           0.012 (+/- 0.001)  0.002 (+/- 0.000)   \n",
              "random forest            0.570 (+/- 0.027)  0.033 (+/- 0.001)   \n",
              "xgboost                  0.254 (+/- 0.019)  0.005 (+/- 0.001)   \n",
              "lgbm                     0.179 (+/- 0.021)  0.004 (+/- 0.001)   \n",
              "random forest+ feat_sel  0.565 (+/- 0.026)  0.033 (+/- 0.002)   \n",
              "xgboost+ feat_sel        0.235 (+/- 0.005)  0.005 (+/- 0.001)   \n",
              "lgbm+ feat_sel           0.138 (+/- 0.018)  0.005 (+/- 0.000)   \n",
              "random forest (tuned)    0.182 (+/- 0.027)  0.013 (+/- 0.002)   \n",
              "\n",
              "                                test_score        train_score  \n",
              "dummy                    0.443 (+/- 0.000)  0.443 (+/- 0.000)  \n",
              "logreg                   0.644 (+/- 0.016)  0.645 (+/- 0.004)  \n",
              "logreg (tuned)           0.649 (+/- 0.012)  0.652 (+/- 0.006)  \n",
              "random forest            0.737 (+/- 0.031)  1.000 (+/- 0.000)  \n",
              "xgboost                  0.729 (+/- 0.018)  0.958 (+/- 0.005)  \n",
              "lgbm                     0.739 (+/- 0.011)  0.884 (+/- 0.006)  \n",
              "random forest+ feat_sel  0.729 (+/- 0.029)  1.000 (+/- 0.000)  \n",
              "xgboost+ feat_sel        0.733 (+/- 0.018)  0.961 (+/- 0.005)  \n",
              "lgbm+ feat_sel           0.742 (+/- 0.011)  0.885 (+/- 0.006)  \n",
              "random forest (tuned)    0.751 (+/- 0.034)  0.915 (+/- 0.005)  "
            ]
          },
          "metadata": {}
        }
      ],
      "id": "olV6ppHBpXfO"
    },
    {
      "cell_type": "markdown",
      "source": [
        "## 10.2 XGBoost hyperparameter optimization"
      ],
      "metadata": {
        "id": "nkyHaimcpXfP"
      },
      "id": "nkyHaimcpXfP"
    },
    {
      "cell_type": "code",
      "source": [
        "param_grid_xgboost = {\n",
        "    \"xgbclassifier__n_estimators\": randint(10, 100),\n",
        "    \"xgbclassifier__max_depth\": randint(low=2, high=20),\n",
        "    \"xgbclassifier__learning_rate\": [0.01, 0.1],\n",
        "    \"xgbclassifier__subsample\": [0.5, 0.75, 1],\n",
        "}\n",
        "\n",
        "pipe_xgboost = make_pipeline(\n",
        "    models[\"xgboost\"],\n",
        ")"
      ],
      "metadata": {
        "id": "M_3b_PkQpXfP"
      },
      "execution_count": null,
      "outputs": [],
      "id": "M_3b_PkQpXfP"
    },
    {
      "cell_type": "code",
      "source": [
        "random_search_xgboost = RandomizedSearchCV(\n",
        "    pipe_xgboost,\n",
        "    param_grid_xgboost,\n",
        "    n_iter=50,\n",
        "    verbose=1,\n",
        "    n_jobs=1,\n",
        "    scoring=scoring_metric,\n",
        "    random_state=123,\n",
        "    return_train_score=True,\n",
        ")\n",
        "\n",
        "random_search_xgboost.fit(X_train, y_train)"
      ],
      "metadata": {
        "id": "IZZYkFgMpXfP",
        "outputId": "12588d33-d997-4cc7-932d-567bb528241d"
      },
      "execution_count": null,
      "outputs": [
        {
          "name": "stdout",
          "output_type": "stream",
          "text": "Fitting 5 folds for each of 50 candidates, totalling 250 fits\n"
        },
        {
          "execution_count": 36,
          "output_type": "execute_result",
          "data": {
            "text/html": [
              "<style>#sk-container-id-3 {color: black;background-color: white;}#sk-container-id-3 pre{padding: 0;}#sk-container-id-3 div.sk-toggleable {background-color: white;}#sk-container-id-3 label.sk-toggleable__label {cursor: pointer;display: block;width: 100%;margin-bottom: 0;padding: 0.3em;box-sizing: border-box;text-align: center;}#sk-container-id-3 label.sk-toggleable__label-arrow:before {content: \"▸\";float: left;margin-right: 0.25em;color: #696969;}#sk-container-id-3 label.sk-toggleable__label-arrow:hover:before {color: black;}#sk-container-id-3 div.sk-estimator:hover label.sk-toggleable__label-arrow:before {color: black;}#sk-container-id-3 div.sk-toggleable__content {max-height: 0;max-width: 0;overflow: hidden;text-align: left;background-color: #f0f8ff;}#sk-container-id-3 div.sk-toggleable__content pre {margin: 0.2em;color: black;border-radius: 0.25em;background-color: #f0f8ff;}#sk-container-id-3 input.sk-toggleable__control:checked~div.sk-toggleable__content {max-height: 200px;max-width: 100%;overflow: auto;}#sk-container-id-3 input.sk-toggleable__control:checked~label.sk-toggleable__label-arrow:before {content: \"▾\";}#sk-container-id-3 div.sk-estimator input.sk-toggleable__control:checked~label.sk-toggleable__label {background-color: #d4ebff;}#sk-container-id-3 div.sk-label input.sk-toggleable__control:checked~label.sk-toggleable__label {background-color: #d4ebff;}#sk-container-id-3 input.sk-hidden--visually {border: 0;clip: rect(1px 1px 1px 1px);clip: rect(1px, 1px, 1px, 1px);height: 1px;margin: -1px;overflow: hidden;padding: 0;position: absolute;width: 1px;}#sk-container-id-3 div.sk-estimator {font-family: monospace;background-color: #f0f8ff;border: 1px dotted black;border-radius: 0.25em;box-sizing: border-box;margin-bottom: 0.5em;}#sk-container-id-3 div.sk-estimator:hover {background-color: #d4ebff;}#sk-container-id-3 div.sk-parallel-item::after {content: \"\";width: 100%;border-bottom: 1px solid gray;flex-grow: 1;}#sk-container-id-3 div.sk-label:hover label.sk-toggleable__label {background-color: #d4ebff;}#sk-container-id-3 div.sk-serial::before {content: \"\";position: absolute;border-left: 1px solid gray;box-sizing: border-box;top: 0;bottom: 0;left: 50%;z-index: 0;}#sk-container-id-3 div.sk-serial {display: flex;flex-direction: column;align-items: center;background-color: white;padding-right: 0.2em;padding-left: 0.2em;position: relative;}#sk-container-id-3 div.sk-item {position: relative;z-index: 1;}#sk-container-id-3 div.sk-parallel {display: flex;align-items: stretch;justify-content: center;background-color: white;position: relative;}#sk-container-id-3 div.sk-item::before, #sk-container-id-3 div.sk-parallel-item::before {content: \"\";position: absolute;border-left: 1px solid gray;box-sizing: border-box;top: 0;bottom: 0;left: 50%;z-index: -1;}#sk-container-id-3 div.sk-parallel-item {display: flex;flex-direction: column;z-index: 1;position: relative;background-color: white;}#sk-container-id-3 div.sk-parallel-item:first-child::after {align-self: flex-end;width: 50%;}#sk-container-id-3 div.sk-parallel-item:last-child::after {align-self: flex-start;width: 50%;}#sk-container-id-3 div.sk-parallel-item:only-child::after {width: 0;}#sk-container-id-3 div.sk-dashed-wrapped {border: 1px dashed gray;margin: 0 0.4em 0.5em 0.4em;box-sizing: border-box;padding-bottom: 0.4em;background-color: white;}#sk-container-id-3 div.sk-label label {font-family: monospace;font-weight: bold;display: inline-block;line-height: 1.2em;}#sk-container-id-3 div.sk-label-container {text-align: center;}#sk-container-id-3 div.sk-container {/* jupyter's `normalize.less` sets `[hidden] { display: none; }` but bootstrap.min.css set `[hidden] { display: none !important; }` so we also need the `!important` here to be able to override the default hidden behavior on the sphinx rendered scikit-learn.org. See: https://github.com/scikit-learn/scikit-learn/issues/21755 */display: inline-block !important;position: relative;}#sk-container-id-3 div.sk-text-repr-fallback {display: none;}</style><div id=\"sk-container-id-3\" class=\"sk-top-container\"><div class=\"sk-text-repr-fallback\"><pre>RandomizedSearchCV(estimator=Pipeline(steps=[(&#x27;xgbclassifier&#x27;,\n",
              "                                              XGBClassifier(base_score=None,\n",
              "                                                            booster=None,\n",
              "                                                            callbacks=None,\n",
              "                                                            colsample_bylevel=None,\n",
              "                                                            colsample_bynode=None,\n",
              "                                                            colsample_bytree=None,\n",
              "                                                            early_stopping_rounds=None,\n",
              "                                                            enable_categorical=False,\n",
              "                                                            eval_metric=None,\n",
              "                                                            feature_types=None,\n",
              "                                                            gamma=None,\n",
              "                                                            gpu_id=None,\n",
              "                                                            grow_policy=None,\n",
              "                                                            importance_type=None,\n",
              "                                                            interaction_co...\n",
              "                                        &#x27;xgbclassifier__max_depth&#x27;: &lt;scipy.stats._distn_infrastructure.rv_discrete_frozen object at 0x0000022F354D16C0&gt;,\n",
              "                                        &#x27;xgbclassifier__n_estimators&#x27;: &lt;scipy.stats._distn_infrastructure.rv_discrete_frozen object at 0x0000022F354D35E0&gt;,\n",
              "                                        &#x27;xgbclassifier__subsample&#x27;: [0.5, 0.75,\n",
              "                                                                     1]},\n",
              "                   random_state=123, return_train_score=True,\n",
              "                   scoring=make_scorer(f1_score, average=macro), verbose=1)</pre><b>In a Jupyter environment, please rerun this cell to show the HTML representation or trust the notebook. <br />On GitHub, the HTML representation is unable to render, please try loading this page with nbviewer.org.</b></div><div class=\"sk-container\" hidden><div class=\"sk-item sk-dashed-wrapped\"><div class=\"sk-label-container\"><div class=\"sk-label sk-toggleable\"><input class=\"sk-toggleable__control sk-hidden--visually\" id=\"sk-estimator-id-7\" type=\"checkbox\" ><label for=\"sk-estimator-id-7\" class=\"sk-toggleable__label sk-toggleable__label-arrow\">RandomizedSearchCV</label><div class=\"sk-toggleable__content\"><pre>RandomizedSearchCV(estimator=Pipeline(steps=[(&#x27;xgbclassifier&#x27;,\n",
              "                                              XGBClassifier(base_score=None,\n",
              "                                                            booster=None,\n",
              "                                                            callbacks=None,\n",
              "                                                            colsample_bylevel=None,\n",
              "                                                            colsample_bynode=None,\n",
              "                                                            colsample_bytree=None,\n",
              "                                                            early_stopping_rounds=None,\n",
              "                                                            enable_categorical=False,\n",
              "                                                            eval_metric=None,\n",
              "                                                            feature_types=None,\n",
              "                                                            gamma=None,\n",
              "                                                            gpu_id=None,\n",
              "                                                            grow_policy=None,\n",
              "                                                            importance_type=None,\n",
              "                                                            interaction_co...\n",
              "                                        &#x27;xgbclassifier__max_depth&#x27;: &lt;scipy.stats._distn_infrastructure.rv_discrete_frozen object at 0x0000022F354D16C0&gt;,\n",
              "                                        &#x27;xgbclassifier__n_estimators&#x27;: &lt;scipy.stats._distn_infrastructure.rv_discrete_frozen object at 0x0000022F354D35E0&gt;,\n",
              "                                        &#x27;xgbclassifier__subsample&#x27;: [0.5, 0.75,\n",
              "                                                                     1]},\n",
              "                   random_state=123, return_train_score=True,\n",
              "                   scoring=make_scorer(f1_score, average=macro), verbose=1)</pre></div></div></div><div class=\"sk-parallel\"><div class=\"sk-parallel-item\"><div class=\"sk-item\"><div class=\"sk-label-container\"><div class=\"sk-label sk-toggleable\"><input class=\"sk-toggleable__control sk-hidden--visually\" id=\"sk-estimator-id-8\" type=\"checkbox\" ><label for=\"sk-estimator-id-8\" class=\"sk-toggleable__label sk-toggleable__label-arrow\">estimator: Pipeline</label><div class=\"sk-toggleable__content\"><pre>Pipeline(steps=[(&#x27;xgbclassifier&#x27;,\n",
              "                 XGBClassifier(base_score=None, booster=None, callbacks=None,\n",
              "                               colsample_bylevel=None, colsample_bynode=None,\n",
              "                               colsample_bytree=None,\n",
              "                               early_stopping_rounds=None,\n",
              "                               enable_categorical=False, eval_metric=None,\n",
              "                               feature_types=None, gamma=None, gpu_id=None,\n",
              "                               grow_policy=None, importance_type=None,\n",
              "                               interaction_constraints=None, learning_rate=None,\n",
              "                               max_bin=None, max_cat_threshold=None,\n",
              "                               max_cat_to_onehot=None, max_delta_step=None,\n",
              "                               max_depth=None, max_leaves=None,\n",
              "                               min_child_weight=None, missing=nan,\n",
              "                               monotone_constraints=None, n_estimators=100,\n",
              "                               n_jobs=None, num_parallel_tree=None,\n",
              "                               predictor=None, random_state=1850541474, ...))])</pre></div></div></div><div class=\"sk-serial\"><div class=\"sk-item\"><div class=\"sk-serial\"><div class=\"sk-item\"><div class=\"sk-estimator sk-toggleable\"><input class=\"sk-toggleable__control sk-hidden--visually\" id=\"sk-estimator-id-9\" type=\"checkbox\" ><label for=\"sk-estimator-id-9\" class=\"sk-toggleable__label sk-toggleable__label-arrow\">XGBClassifier</label><div class=\"sk-toggleable__content\"><pre>XGBClassifier(base_score=None, booster=None, callbacks=None,\n",
              "              colsample_bylevel=None, colsample_bynode=None,\n",
              "              colsample_bytree=None, early_stopping_rounds=None,\n",
              "              enable_categorical=False, eval_metric=None, feature_types=None,\n",
              "              gamma=None, gpu_id=None, grow_policy=None, importance_type=None,\n",
              "              interaction_constraints=None, learning_rate=None, max_bin=None,\n",
              "              max_cat_threshold=None, max_cat_to_onehot=None,\n",
              "              max_delta_step=None, max_depth=None, max_leaves=None,\n",
              "              min_child_weight=None, missing=nan, monotone_constraints=None,\n",
              "              n_estimators=100, n_jobs=None, num_parallel_tree=None,\n",
              "              predictor=None, random_state=331083922, ...)</pre></div></div></div></div></div></div></div></div></div></div></div></div>"
            ],
            "text/plain": [
              "RandomizedSearchCV(estimator=Pipeline(steps=[('xgbclassifier',\n",
              "                                              XGBClassifier(base_score=None,\n",
              "                                                            booster=None,\n",
              "                                                            callbacks=None,\n",
              "                                                            colsample_bylevel=None,\n",
              "                                                            colsample_bynode=None,\n",
              "                                                            colsample_bytree=None,\n",
              "                                                            early_stopping_rounds=None,\n",
              "                                                            enable_categorical=False,\n",
              "                                                            eval_metric=None,\n",
              "                                                            feature_types=None,\n",
              "                                                            gamma=None,\n",
              "                                                            gpu_id=None,\n",
              "                                                            grow_policy=None,\n",
              "                                                            importance_type=None,\n",
              "                                                            interaction_co...\n",
              "                                        'xgbclassifier__max_depth': <scipy.stats._distn_infrastructure.rv_discrete_frozen object at 0x0000022F354D16C0>,\n",
              "                                        'xgbclassifier__n_estimators': <scipy.stats._distn_infrastructure.rv_discrete_frozen object at 0x0000022F354D35E0>,\n",
              "                                        'xgbclassifier__subsample': [0.5, 0.75,\n",
              "                                                                     1]},\n",
              "                   random_state=123, return_train_score=True,\n",
              "                   scoring=make_scorer(f1_score, average=macro), verbose=1)"
            ]
          },
          "metadata": {}
        }
      ],
      "id": "IZZYkFgMpXfP"
    },
    {
      "cell_type": "code",
      "source": [
        "print(\"Best hyperparameter values: \", random_search_xgboost.best_params_)\n",
        "print(\"Best score: %0.3f\" % (random_search_xgboost.best_score_))\n"
      ],
      "metadata": {
        "id": "CqgkGS1OpXfP",
        "outputId": "4f070c9f-50b2-4cf6-ef82-b1402f1d70b8"
      },
      "execution_count": null,
      "outputs": [
        {
          "name": "stdout",
          "output_type": "stream",
          "text": "Best hyperparameter values:  {'xgbclassifier__learning_rate': 0.01, 'xgbclassifier__max_depth': 15, 'xgbclassifier__n_estimators': 76, 'xgbclassifier__subsample': 0.5}\n\nBest score: 0.749\n"
        }
      ],
      "id": "CqgkGS1OpXfP"
    },
    {
      "cell_type": "code",
      "source": [
        "\n",
        "pd.DataFrame(random_search_xgboost.cv_results_)[\n",
        "    [\n",
        "        \"mean_train_score\",\n",
        "        \"mean_test_score\",\n",
        "        \"param_xgbclassifier__n_estimators\",\n",
        "        \"param_xgbclassifier__learning_rate\",\n",
        "        \"param_xgbclassifier__subsample\",\n",
        "        \"mean_fit_time\",\n",
        "        \"rank_test_score\",\n",
        "    ]\n",
        "].set_index(\"rank_test_score\").sort_index()[:10]"
      ],
      "metadata": {
        "id": "zBheuKw1pXfQ",
        "outputId": "c1eed2e9-bf99-44cb-c244-91d563076c77"
      },
      "execution_count": null,
      "outputs": [
        {
          "execution_count": 38,
          "output_type": "execute_result",
          "data": {
            "text/html": [
              "<div>\n",
              "<style scoped>\n",
              "    .dataframe tbody tr th:only-of-type {\n",
              "        vertical-align: middle;\n",
              "    }\n",
              "\n",
              "    .dataframe tbody tr th {\n",
              "        vertical-align: top;\n",
              "    }\n",
              "\n",
              "    .dataframe thead th {\n",
              "        text-align: right;\n",
              "    }\n",
              "</style>\n",
              "<table border=\"1\" class=\"dataframe\">\n",
              "  <thead>\n",
              "    <tr style=\"text-align: right;\">\n",
              "      <th></th>\n",
              "      <th>mean_train_score</th>\n",
              "      <th>mean_test_score</th>\n",
              "      <th>param_xgbclassifier__n_estimators</th>\n",
              "      <th>param_xgbclassifier__learning_rate</th>\n",
              "      <th>param_xgbclassifier__subsample</th>\n",
              "      <th>mean_fit_time</th>\n",
              "    </tr>\n",
              "    <tr>\n",
              "      <th>rank_test_score</th>\n",
              "      <th></th>\n",
              "      <th></th>\n",
              "      <th></th>\n",
              "      <th></th>\n",
              "      <th></th>\n",
              "      <th></th>\n",
              "    </tr>\n",
              "  </thead>\n",
              "  <tbody>\n",
              "    <tr>\n",
              "      <th>1</th>\n",
              "      <td>0.907580</td>\n",
              "      <td>0.748699</td>\n",
              "      <td>76</td>\n",
              "      <td>0.01</td>\n",
              "      <td>0.5</td>\n",
              "      <td>0.362017</td>\n",
              "    </tr>\n",
              "    <tr>\n",
              "      <th>2</th>\n",
              "      <td>0.912700</td>\n",
              "      <td>0.747325</td>\n",
              "      <td>87</td>\n",
              "      <td>0.01</td>\n",
              "      <td>0.5</td>\n",
              "      <td>0.410220</td>\n",
              "    </tr>\n",
              "    <tr>\n",
              "      <th>3</th>\n",
              "      <td>0.989270</td>\n",
              "      <td>0.747140</td>\n",
              "      <td>73</td>\n",
              "      <td>0.1</td>\n",
              "      <td>0.5</td>\n",
              "      <td>0.330180</td>\n",
              "    </tr>\n",
              "    <tr>\n",
              "      <th>4</th>\n",
              "      <td>0.955831</td>\n",
              "      <td>0.746225</td>\n",
              "      <td>97</td>\n",
              "      <td>0.01</td>\n",
              "      <td>0.75</td>\n",
              "      <td>0.570104</td>\n",
              "    </tr>\n",
              "    <tr>\n",
              "      <th>5</th>\n",
              "      <td>0.978529</td>\n",
              "      <td>0.746201</td>\n",
              "      <td>37</td>\n",
              "      <td>0.1</td>\n",
              "      <td>0.75</td>\n",
              "      <td>0.241325</td>\n",
              "    </tr>\n",
              "    <tr>\n",
              "      <th>6</th>\n",
              "      <td>0.934152</td>\n",
              "      <td>0.746125</td>\n",
              "      <td>75</td>\n",
              "      <td>0.01</td>\n",
              "      <td>0.75</td>\n",
              "      <td>0.476632</td>\n",
              "    </tr>\n",
              "    <tr>\n",
              "      <th>7</th>\n",
              "      <td>0.871948</td>\n",
              "      <td>0.745627</td>\n",
              "      <td>84</td>\n",
              "      <td>0.01</td>\n",
              "      <td>0.5</td>\n",
              "      <td>0.313624</td>\n",
              "    </tr>\n",
              "    <tr>\n",
              "      <th>8</th>\n",
              "      <td>0.933118</td>\n",
              "      <td>0.745471</td>\n",
              "      <td>95</td>\n",
              "      <td>0.1</td>\n",
              "      <td>1</td>\n",
              "      <td>0.316003</td>\n",
              "    </tr>\n",
              "    <tr>\n",
              "      <th>9</th>\n",
              "      <td>0.995742</td>\n",
              "      <td>0.744688</td>\n",
              "      <td>64</td>\n",
              "      <td>0.1</td>\n",
              "      <td>0.75</td>\n",
              "      <td>0.375797</td>\n",
              "    </tr>\n",
              "    <tr>\n",
              "      <th>10</th>\n",
              "      <td>0.943296</td>\n",
              "      <td>0.744181</td>\n",
              "      <td>35</td>\n",
              "      <td>0.1</td>\n",
              "      <td>0.75</td>\n",
              "      <td>0.157610</td>\n",
              "    </tr>\n",
              "  </tbody>\n",
              "</table>\n",
              "</div>"
            ],
            "text/plain": [
              "                 mean_train_score  mean_test_score  \\\n",
              "rank_test_score                                      \n",
              "1                        0.907580         0.748699   \n",
              "2                        0.912700         0.747325   \n",
              "3                        0.989270         0.747140   \n",
              "4                        0.955831         0.746225   \n",
              "5                        0.978529         0.746201   \n",
              "6                        0.934152         0.746125   \n",
              "7                        0.871948         0.745627   \n",
              "8                        0.933118         0.745471   \n",
              "9                        0.995742         0.744688   \n",
              "10                       0.943296         0.744181   \n",
              "\n",
              "                param_xgbclassifier__n_estimators  \\\n",
              "rank_test_score                                     \n",
              "1                                              76   \n",
              "2                                              87   \n",
              "3                                              73   \n",
              "4                                              97   \n",
              "5                                              37   \n",
              "6                                              75   \n",
              "7                                              84   \n",
              "8                                              95   \n",
              "9                                              64   \n",
              "10                                             35   \n",
              "\n",
              "                param_xgbclassifier__learning_rate  \\\n",
              "rank_test_score                                      \n",
              "1                                             0.01   \n",
              "2                                             0.01   \n",
              "3                                              0.1   \n",
              "4                                             0.01   \n",
              "5                                              0.1   \n",
              "6                                             0.01   \n",
              "7                                             0.01   \n",
              "8                                              0.1   \n",
              "9                                              0.1   \n",
              "10                                             0.1   \n",
              "\n",
              "                param_xgbclassifier__subsample  mean_fit_time  \n",
              "rank_test_score                                                \n",
              "1                                          0.5       0.362017  \n",
              "2                                          0.5       0.410220  \n",
              "3                                          0.5       0.330180  \n",
              "4                                         0.75       0.570104  \n",
              "5                                         0.75       0.241325  \n",
              "6                                         0.75       0.476632  \n",
              "7                                          0.5       0.313624  \n",
              "8                                            1       0.316003  \n",
              "9                                         0.75       0.375797  \n",
              "10                                        0.75       0.157610  "
            ]
          },
          "metadata": {}
        }
      ],
      "id": "zBheuKw1pXfQ"
    },
    {
      "cell_type": "code",
      "source": [
        "best_xgboost_model = random_search_xgboost.best_estimator_\n",
        "results[\"xgboost (tuned)\"] = mean_std_cross_val_scores(\n",
        "    best_xgboost_model, X_train, y_train, return_train_score=True, scoring=scoring_metric\n",
        ")\n",
        "pd.DataFrame(results).T"
      ],
      "metadata": {
        "id": "mVMHslNwpXfQ",
        "outputId": "de5c0d81-1e32-4bab-fa6c-80996eac588e"
      },
      "execution_count": null,
      "outputs": [
        {
          "execution_count": 39,
          "output_type": "execute_result",
          "data": {
            "text/html": [
              "<div>\n",
              "<style scoped>\n",
              "    .dataframe tbody tr th:only-of-type {\n",
              "        vertical-align: middle;\n",
              "    }\n",
              "\n",
              "    .dataframe tbody tr th {\n",
              "        vertical-align: top;\n",
              "    }\n",
              "\n",
              "    .dataframe thead th {\n",
              "        text-align: right;\n",
              "    }\n",
              "</style>\n",
              "<table border=\"1\" class=\"dataframe\">\n",
              "  <thead>\n",
              "    <tr style=\"text-align: right;\">\n",
              "      <th></th>\n",
              "      <th>fit_time</th>\n",
              "      <th>score_time</th>\n",
              "      <th>test_score</th>\n",
              "      <th>train_score</th>\n",
              "    </tr>\n",
              "  </thead>\n",
              "  <tbody>\n",
              "    <tr>\n",
              "      <th>dummy</th>\n",
              "      <td>0.001 (+/- 0.000)</td>\n",
              "      <td>0.001 (+/- 0.001)</td>\n",
              "      <td>0.443 (+/- 0.000)</td>\n",
              "      <td>0.443 (+/- 0.000)</td>\n",
              "    </tr>\n",
              "    <tr>\n",
              "      <th>logreg</th>\n",
              "      <td>0.014 (+/- 0.003)</td>\n",
              "      <td>0.002 (+/- 0.001)</td>\n",
              "      <td>0.644 (+/- 0.016)</td>\n",
              "      <td>0.645 (+/- 0.004)</td>\n",
              "    </tr>\n",
              "    <tr>\n",
              "      <th>logreg (tuned)</th>\n",
              "      <td>0.012 (+/- 0.001)</td>\n",
              "      <td>0.002 (+/- 0.000)</td>\n",
              "      <td>0.649 (+/- 0.012)</td>\n",
              "      <td>0.652 (+/- 0.006)</td>\n",
              "    </tr>\n",
              "    <tr>\n",
              "      <th>random forest</th>\n",
              "      <td>0.570 (+/- 0.027)</td>\n",
              "      <td>0.033 (+/- 0.001)</td>\n",
              "      <td>0.737 (+/- 0.031)</td>\n",
              "      <td>1.000 (+/- 0.000)</td>\n",
              "    </tr>\n",
              "    <tr>\n",
              "      <th>xgboost</th>\n",
              "      <td>0.254 (+/- 0.019)</td>\n",
              "      <td>0.005 (+/- 0.001)</td>\n",
              "      <td>0.729 (+/- 0.018)</td>\n",
              "      <td>0.958 (+/- 0.005)</td>\n",
              "    </tr>\n",
              "    <tr>\n",
              "      <th>lgbm</th>\n",
              "      <td>0.179 (+/- 0.021)</td>\n",
              "      <td>0.004 (+/- 0.001)</td>\n",
              "      <td>0.739 (+/- 0.011)</td>\n",
              "      <td>0.884 (+/- 0.006)</td>\n",
              "    </tr>\n",
              "    <tr>\n",
              "      <th>random forest+ feat_sel</th>\n",
              "      <td>0.565 (+/- 0.026)</td>\n",
              "      <td>0.033 (+/- 0.002)</td>\n",
              "      <td>0.729 (+/- 0.029)</td>\n",
              "      <td>1.000 (+/- 0.000)</td>\n",
              "    </tr>\n",
              "    <tr>\n",
              "      <th>xgboost+ feat_sel</th>\n",
              "      <td>0.235 (+/- 0.005)</td>\n",
              "      <td>0.005 (+/- 0.001)</td>\n",
              "      <td>0.733 (+/- 0.018)</td>\n",
              "      <td>0.961 (+/- 0.005)</td>\n",
              "    </tr>\n",
              "    <tr>\n",
              "      <th>lgbm+ feat_sel</th>\n",
              "      <td>0.138 (+/- 0.018)</td>\n",
              "      <td>0.005 (+/- 0.000)</td>\n",
              "      <td>0.742 (+/- 0.011)</td>\n",
              "      <td>0.885 (+/- 0.006)</td>\n",
              "    </tr>\n",
              "    <tr>\n",
              "      <th>random forest (tuned)</th>\n",
              "      <td>0.182 (+/- 0.027)</td>\n",
              "      <td>0.013 (+/- 0.002)</td>\n",
              "      <td>0.751 (+/- 0.034)</td>\n",
              "      <td>0.915 (+/- 0.005)</td>\n",
              "    </tr>\n",
              "    <tr>\n",
              "      <th>xgboost (tuned)</th>\n",
              "      <td>0.387 (+/- 0.020)</td>\n",
              "      <td>0.006 (+/- 0.001)</td>\n",
              "      <td>0.749 (+/- 0.022)</td>\n",
              "      <td>0.908 (+/- 0.003)</td>\n",
              "    </tr>\n",
              "  </tbody>\n",
              "</table>\n",
              "</div>"
            ],
            "text/plain": [
              "                                  fit_time         score_time  \\\n",
              "dummy                    0.001 (+/- 0.000)  0.001 (+/- 0.001)   \n",
              "logreg                   0.014 (+/- 0.003)  0.002 (+/- 0.001)   \n",
              "logreg (tuned)           0.012 (+/- 0.001)  0.002 (+/- 0.000)   \n",
              "random forest            0.570 (+/- 0.027)  0.033 (+/- 0.001)   \n",
              "xgboost                  0.254 (+/- 0.019)  0.005 (+/- 0.001)   \n",
              "lgbm                     0.179 (+/- 0.021)  0.004 (+/- 0.001)   \n",
              "random forest+ feat_sel  0.565 (+/- 0.026)  0.033 (+/- 0.002)   \n",
              "xgboost+ feat_sel        0.235 (+/- 0.005)  0.005 (+/- 0.001)   \n",
              "lgbm+ feat_sel           0.138 (+/- 0.018)  0.005 (+/- 0.000)   \n",
              "random forest (tuned)    0.182 (+/- 0.027)  0.013 (+/- 0.002)   \n",
              "xgboost (tuned)          0.387 (+/- 0.020)  0.006 (+/- 0.001)   \n",
              "\n",
              "                                test_score        train_score  \n",
              "dummy                    0.443 (+/- 0.000)  0.443 (+/- 0.000)  \n",
              "logreg                   0.644 (+/- 0.016)  0.645 (+/- 0.004)  \n",
              "logreg (tuned)           0.649 (+/- 0.012)  0.652 (+/- 0.006)  \n",
              "random forest            0.737 (+/- 0.031)  1.000 (+/- 0.000)  \n",
              "xgboost                  0.729 (+/- 0.018)  0.958 (+/- 0.005)  \n",
              "lgbm                     0.739 (+/- 0.011)  0.884 (+/- 0.006)  \n",
              "random forest+ feat_sel  0.729 (+/- 0.029)  1.000 (+/- 0.000)  \n",
              "xgboost+ feat_sel        0.733 (+/- 0.018)  0.961 (+/- 0.005)  \n",
              "lgbm+ feat_sel           0.742 (+/- 0.011)  0.885 (+/- 0.006)  \n",
              "random forest (tuned)    0.751 (+/- 0.034)  0.915 (+/- 0.005)  \n",
              "xgboost (tuned)          0.749 (+/- 0.022)  0.908 (+/- 0.003)  "
            ]
          },
          "metadata": {}
        }
      ],
      "id": "mVMHslNwpXfQ"
    },
    {
      "cell_type": "markdown",
      "source": [
        "## 10.3 LGBM hyperparameter optimization"
      ],
      "metadata": {
        "id": "q6LhNFhHpXfQ"
      },
      "id": "q6LhNFhHpXfQ"
    },
    {
      "cell_type": "code",
      "source": [
        "param_grid_lgbm = {\n",
        "    \"lgbmclassifier__n_estimators\": randint(10, 100),\n",
        "    \"lgbmclassifier__max_depth\": randint(low=2, high=20),\n",
        "    \"lgbmclassifier__learning_rate\": [0.01, 0.1],\n",
        "    \"lgbmclassifier__subsample\": [0.5, 0.75, 1],\n",
        "}\n",
        "\n",
        "pipe_lgbm = make_pipeline(\n",
        "    models[\"lgbm\"],\n",
        ")"
      ],
      "metadata": {
        "id": "wSTrjR3UpXfQ"
      },
      "execution_count": null,
      "outputs": [],
      "id": "wSTrjR3UpXfQ"
    },
    {
      "cell_type": "code",
      "source": [
        "random_search_lgbm = RandomizedSearchCV(\n",
        "    pipe_lgbm,\n",
        "    param_grid_lgbm,\n",
        "    n_iter=50,\n",
        "    verbose=1,\n",
        "    n_jobs=1,\n",
        "    scoring=scoring_metric,\n",
        "    random_state=123,\n",
        "    return_train_score=True,\n",
        ")\n",
        "\n",
        "random_search_lgbm.fit(X_train, y_train)"
      ],
      "metadata": {
        "id": "D9f12ks6pXfR",
        "outputId": "0d5eb95f-75c2-438c-a777-d784fca0ab9f"
      },
      "execution_count": null,
      "outputs": [
        {
          "name": "stdout",
          "output_type": "stream",
          "text": "Fitting 5 folds for each of 50 candidates, totalling 250 fits\n"
        },
        {
          "execution_count": 41,
          "output_type": "execute_result",
          "data": {
            "text/html": [
              "<style>#sk-container-id-4 {color: black;background-color: white;}#sk-container-id-4 pre{padding: 0;}#sk-container-id-4 div.sk-toggleable {background-color: white;}#sk-container-id-4 label.sk-toggleable__label {cursor: pointer;display: block;width: 100%;margin-bottom: 0;padding: 0.3em;box-sizing: border-box;text-align: center;}#sk-container-id-4 label.sk-toggleable__label-arrow:before {content: \"▸\";float: left;margin-right: 0.25em;color: #696969;}#sk-container-id-4 label.sk-toggleable__label-arrow:hover:before {color: black;}#sk-container-id-4 div.sk-estimator:hover label.sk-toggleable__label-arrow:before {color: black;}#sk-container-id-4 div.sk-toggleable__content {max-height: 0;max-width: 0;overflow: hidden;text-align: left;background-color: #f0f8ff;}#sk-container-id-4 div.sk-toggleable__content pre {margin: 0.2em;color: black;border-radius: 0.25em;background-color: #f0f8ff;}#sk-container-id-4 input.sk-toggleable__control:checked~div.sk-toggleable__content {max-height: 200px;max-width: 100%;overflow: auto;}#sk-container-id-4 input.sk-toggleable__control:checked~label.sk-toggleable__label-arrow:before {content: \"▾\";}#sk-container-id-4 div.sk-estimator input.sk-toggleable__control:checked~label.sk-toggleable__label {background-color: #d4ebff;}#sk-container-id-4 div.sk-label input.sk-toggleable__control:checked~label.sk-toggleable__label {background-color: #d4ebff;}#sk-container-id-4 input.sk-hidden--visually {border: 0;clip: rect(1px 1px 1px 1px);clip: rect(1px, 1px, 1px, 1px);height: 1px;margin: -1px;overflow: hidden;padding: 0;position: absolute;width: 1px;}#sk-container-id-4 div.sk-estimator {font-family: monospace;background-color: #f0f8ff;border: 1px dotted black;border-radius: 0.25em;box-sizing: border-box;margin-bottom: 0.5em;}#sk-container-id-4 div.sk-estimator:hover {background-color: #d4ebff;}#sk-container-id-4 div.sk-parallel-item::after {content: \"\";width: 100%;border-bottom: 1px solid gray;flex-grow: 1;}#sk-container-id-4 div.sk-label:hover label.sk-toggleable__label {background-color: #d4ebff;}#sk-container-id-4 div.sk-serial::before {content: \"\";position: absolute;border-left: 1px solid gray;box-sizing: border-box;top: 0;bottom: 0;left: 50%;z-index: 0;}#sk-container-id-4 div.sk-serial {display: flex;flex-direction: column;align-items: center;background-color: white;padding-right: 0.2em;padding-left: 0.2em;position: relative;}#sk-container-id-4 div.sk-item {position: relative;z-index: 1;}#sk-container-id-4 div.sk-parallel {display: flex;align-items: stretch;justify-content: center;background-color: white;position: relative;}#sk-container-id-4 div.sk-item::before, #sk-container-id-4 div.sk-parallel-item::before {content: \"\";position: absolute;border-left: 1px solid gray;box-sizing: border-box;top: 0;bottom: 0;left: 50%;z-index: -1;}#sk-container-id-4 div.sk-parallel-item {display: flex;flex-direction: column;z-index: 1;position: relative;background-color: white;}#sk-container-id-4 div.sk-parallel-item:first-child::after {align-self: flex-end;width: 50%;}#sk-container-id-4 div.sk-parallel-item:last-child::after {align-self: flex-start;width: 50%;}#sk-container-id-4 div.sk-parallel-item:only-child::after {width: 0;}#sk-container-id-4 div.sk-dashed-wrapped {border: 1px dashed gray;margin: 0 0.4em 0.5em 0.4em;box-sizing: border-box;padding-bottom: 0.4em;background-color: white;}#sk-container-id-4 div.sk-label label {font-family: monospace;font-weight: bold;display: inline-block;line-height: 1.2em;}#sk-container-id-4 div.sk-label-container {text-align: center;}#sk-container-id-4 div.sk-container {/* jupyter's `normalize.less` sets `[hidden] { display: none; }` but bootstrap.min.css set `[hidden] { display: none !important; }` so we also need the `!important` here to be able to override the default hidden behavior on the sphinx rendered scikit-learn.org. See: https://github.com/scikit-learn/scikit-learn/issues/21755 */display: inline-block !important;position: relative;}#sk-container-id-4 div.sk-text-repr-fallback {display: none;}</style><div id=\"sk-container-id-4\" class=\"sk-top-container\"><div class=\"sk-text-repr-fallback\"><pre>RandomizedSearchCV(estimator=Pipeline(steps=[(&#x27;lgbmclassifier&#x27;,\n",
              "                                              LGBMClassifier(random_state=RandomState(MT19937) at 0x22F3565E640,\n",
              "                                                             scale_pos_weight=3.888268156424581))]),\n",
              "                   n_iter=50, n_jobs=1,\n",
              "                   param_distributions={&#x27;lgbmclassifier__learning_rate&#x27;: [0.01,\n",
              "                                                                          0.1],\n",
              "                                        &#x27;lgbmclassifier__max_depth&#x27;: &lt;scipy.stats._distn_infrastructure.rv_discrete_frozen object at 0x0000022F354D18D0&gt;,\n",
              "                                        &#x27;lgbmclassifier__n_estimators&#x27;: &lt;scipy.stats._distn_infrastructure.rv_discrete_frozen object at 0x0000022F2C5152A0&gt;,\n",
              "                                        &#x27;lgbmclassifier__subsample&#x27;: [0.5, 0.75,\n",
              "                                                                      1]},\n",
              "                   random_state=123, return_train_score=True,\n",
              "                   scoring=make_scorer(f1_score, average=macro), verbose=1)</pre><b>In a Jupyter environment, please rerun this cell to show the HTML representation or trust the notebook. <br />On GitHub, the HTML representation is unable to render, please try loading this page with nbviewer.org.</b></div><div class=\"sk-container\" hidden><div class=\"sk-item sk-dashed-wrapped\"><div class=\"sk-label-container\"><div class=\"sk-label sk-toggleable\"><input class=\"sk-toggleable__control sk-hidden--visually\" id=\"sk-estimator-id-10\" type=\"checkbox\" ><label for=\"sk-estimator-id-10\" class=\"sk-toggleable__label sk-toggleable__label-arrow\">RandomizedSearchCV</label><div class=\"sk-toggleable__content\"><pre>RandomizedSearchCV(estimator=Pipeline(steps=[(&#x27;lgbmclassifier&#x27;,\n",
              "                                              LGBMClassifier(random_state=RandomState(MT19937) at 0x22F3565E640,\n",
              "                                                             scale_pos_weight=3.888268156424581))]),\n",
              "                   n_iter=50, n_jobs=1,\n",
              "                   param_distributions={&#x27;lgbmclassifier__learning_rate&#x27;: [0.01,\n",
              "                                                                          0.1],\n",
              "                                        &#x27;lgbmclassifier__max_depth&#x27;: &lt;scipy.stats._distn_infrastructure.rv_discrete_frozen object at 0x0000022F354D18D0&gt;,\n",
              "                                        &#x27;lgbmclassifier__n_estimators&#x27;: &lt;scipy.stats._distn_infrastructure.rv_discrete_frozen object at 0x0000022F2C5152A0&gt;,\n",
              "                                        &#x27;lgbmclassifier__subsample&#x27;: [0.5, 0.75,\n",
              "                                                                      1]},\n",
              "                   random_state=123, return_train_score=True,\n",
              "                   scoring=make_scorer(f1_score, average=macro), verbose=1)</pre></div></div></div><div class=\"sk-parallel\"><div class=\"sk-parallel-item\"><div class=\"sk-item\"><div class=\"sk-label-container\"><div class=\"sk-label sk-toggleable\"><input class=\"sk-toggleable__control sk-hidden--visually\" id=\"sk-estimator-id-11\" type=\"checkbox\" ><label for=\"sk-estimator-id-11\" class=\"sk-toggleable__label sk-toggleable__label-arrow\">estimator: Pipeline</label><div class=\"sk-toggleable__content\"><pre>Pipeline(steps=[(&#x27;lgbmclassifier&#x27;,\n",
              "                 LGBMClassifier(random_state=RandomState(MT19937) at 0x22F3565E640,\n",
              "                                scale_pos_weight=3.888268156424581))])</pre></div></div></div><div class=\"sk-serial\"><div class=\"sk-item\"><div class=\"sk-serial\"><div class=\"sk-item\"><div class=\"sk-estimator sk-toggleable\"><input class=\"sk-toggleable__control sk-hidden--visually\" id=\"sk-estimator-id-12\" type=\"checkbox\" ><label for=\"sk-estimator-id-12\" class=\"sk-toggleable__label sk-toggleable__label-arrow\">LGBMClassifier</label><div class=\"sk-toggleable__content\"><pre>LGBMClassifier(random_state=RandomState(MT19937) at 0x22F3565E640,\n",
              "               scale_pos_weight=3.888268156424581)</pre></div></div></div></div></div></div></div></div></div></div></div></div>"
            ],
            "text/plain": [
              "RandomizedSearchCV(estimator=Pipeline(steps=[('lgbmclassifier',\n",
              "                                              LGBMClassifier(random_state=RandomState(MT19937) at 0x22F3565E640,\n",
              "                                                             scale_pos_weight=3.888268156424581))]),\n",
              "                   n_iter=50, n_jobs=1,\n",
              "                   param_distributions={'lgbmclassifier__learning_rate': [0.01,\n",
              "                                                                          0.1],\n",
              "                                        'lgbmclassifier__max_depth': <scipy.stats._distn_infrastructure.rv_discrete_frozen object at 0x0000022F354D18D0>,\n",
              "                                        'lgbmclassifier__n_estimators': <scipy.stats._distn_infrastructure.rv_discrete_frozen object at 0x0000022F2C5152A0>,\n",
              "                                        'lgbmclassifier__subsample': [0.5, 0.75,\n",
              "                                                                      1]},\n",
              "                   random_state=123, return_train_score=True,\n",
              "                   scoring=make_scorer(f1_score, average=macro), verbose=1)"
            ]
          },
          "metadata": {}
        }
      ],
      "id": "D9f12ks6pXfR"
    },
    {
      "cell_type": "code",
      "source": [
        "print(\"Best hyperparameter values: \", random_search_lgbm.best_params_)\n",
        "print(\"Best score: %0.3f\" % (random_search_lgbm.best_score_))"
      ],
      "metadata": {
        "id": "5DJZP5QcpXfR",
        "outputId": "6dad0837-4a0d-4199-8ee8-a028fb916c3c"
      },
      "execution_count": null,
      "outputs": [
        {
          "name": "stdout",
          "output_type": "stream",
          "text": "Best hyperparameter values:  {'lgbmclassifier__learning_rate': 0.01, 'lgbmclassifier__max_depth': 16, 'lgbmclassifier__n_estimators': 97, 'lgbmclassifier__subsample': 0.75}\n\nBest score: 0.755\n"
        }
      ],
      "id": "5DJZP5QcpXfR"
    },
    {
      "cell_type": "code",
      "source": [
        "pd.DataFrame(random_search_lgbm.cv_results_)[\n",
        "    [\n",
        "        \"mean_train_score\",\n",
        "        \"mean_test_score\",\n",
        "        \"param_lgbmclassifier__n_estimators\",\n",
        "        \"param_lgbmclassifier__learning_rate\",\n",
        "        \"param_lgbmclassifier__subsample\",\n",
        "        \"mean_fit_time\",\n",
        "        \"rank_test_score\",\n",
        "    ]\n",
        "].set_index(\"rank_test_score\").sort_index()[:10]"
      ],
      "metadata": {
        "id": "8qCPnTRfpXfS",
        "outputId": "96196f51-2817-4242-8627-734a97939e46"
      },
      "execution_count": null,
      "outputs": [
        {
          "execution_count": 43,
          "output_type": "execute_result",
          "data": {
            "text/html": [
              "<div>\n",
              "<style scoped>\n",
              "    .dataframe tbody tr th:only-of-type {\n",
              "        vertical-align: middle;\n",
              "    }\n",
              "\n",
              "    .dataframe tbody tr th {\n",
              "        vertical-align: top;\n",
              "    }\n",
              "\n",
              "    .dataframe thead th {\n",
              "        text-align: right;\n",
              "    }\n",
              "</style>\n",
              "<table border=\"1\" class=\"dataframe\">\n",
              "  <thead>\n",
              "    <tr style=\"text-align: right;\">\n",
              "      <th></th>\n",
              "      <th>mean_train_score</th>\n",
              "      <th>mean_test_score</th>\n",
              "      <th>param_lgbmclassifier__n_estimators</th>\n",
              "      <th>param_lgbmclassifier__learning_rate</th>\n",
              "      <th>param_lgbmclassifier__subsample</th>\n",
              "      <th>mean_fit_time</th>\n",
              "    </tr>\n",
              "    <tr>\n",
              "      <th>rank_test_score</th>\n",
              "      <th></th>\n",
              "      <th></th>\n",
              "      <th></th>\n",
              "      <th></th>\n",
              "      <th></th>\n",
              "      <th></th>\n",
              "    </tr>\n",
              "  </thead>\n",
              "  <tbody>\n",
              "    <tr>\n",
              "      <th>1</th>\n",
              "      <td>0.775737</td>\n",
              "      <td>0.754902</td>\n",
              "      <td>97</td>\n",
              "      <td>0.01</td>\n",
              "      <td>0.75</td>\n",
              "      <td>0.123248</td>\n",
              "    </tr>\n",
              "    <tr>\n",
              "      <th>2</th>\n",
              "      <td>0.767440</td>\n",
              "      <td>0.752849</td>\n",
              "      <td>87</td>\n",
              "      <td>0.01</td>\n",
              "      <td>0.5</td>\n",
              "      <td>0.105307</td>\n",
              "    </tr>\n",
              "    <tr>\n",
              "      <th>3</th>\n",
              "      <td>0.766429</td>\n",
              "      <td>0.751939</td>\n",
              "      <td>12</td>\n",
              "      <td>0.1</td>\n",
              "      <td>0.5</td>\n",
              "      <td>0.018800</td>\n",
              "    </tr>\n",
              "    <tr>\n",
              "      <th>4</th>\n",
              "      <td>0.775730</td>\n",
              "      <td>0.751322</td>\n",
              "      <td>96</td>\n",
              "      <td>0.01</td>\n",
              "      <td>1</td>\n",
              "      <td>0.099155</td>\n",
              "    </tr>\n",
              "    <tr>\n",
              "      <th>5</th>\n",
              "      <td>0.765963</td>\n",
              "      <td>0.749938</td>\n",
              "      <td>85</td>\n",
              "      <td>0.01</td>\n",
              "      <td>1</td>\n",
              "      <td>0.110979</td>\n",
              "    </tr>\n",
              "    <tr>\n",
              "      <th>6</th>\n",
              "      <td>0.785543</td>\n",
              "      <td>0.749578</td>\n",
              "      <td>13</td>\n",
              "      <td>0.1</td>\n",
              "      <td>0.5</td>\n",
              "      <td>0.023979</td>\n",
              "    </tr>\n",
              "    <tr>\n",
              "      <th>7</th>\n",
              "      <td>0.765667</td>\n",
              "      <td>0.748950</td>\n",
              "      <td>84</td>\n",
              "      <td>0.01</td>\n",
              "      <td>0.5</td>\n",
              "      <td>0.111126</td>\n",
              "    </tr>\n",
              "    <tr>\n",
              "      <th>8</th>\n",
              "      <td>0.779457</td>\n",
              "      <td>0.748589</td>\n",
              "      <td>12</td>\n",
              "      <td>0.1</td>\n",
              "      <td>1</td>\n",
              "      <td>0.021846</td>\n",
              "    </tr>\n",
              "    <tr>\n",
              "      <th>9</th>\n",
              "      <td>0.864360</td>\n",
              "      <td>0.742171</td>\n",
              "      <td>95</td>\n",
              "      <td>0.1</td>\n",
              "      <td>1</td>\n",
              "      <td>0.110549</td>\n",
              "    </tr>\n",
              "    <tr>\n",
              "      <th>10</th>\n",
              "      <td>0.857486</td>\n",
              "      <td>0.742009</td>\n",
              "      <td>79</td>\n",
              "      <td>0.1</td>\n",
              "      <td>0.5</td>\n",
              "      <td>0.101757</td>\n",
              "    </tr>\n",
              "  </tbody>\n",
              "</table>\n",
              "</div>"
            ],
            "text/plain": [
              "                 mean_train_score  mean_test_score  \\\n",
              "rank_test_score                                      \n",
              "1                        0.775737         0.754902   \n",
              "2                        0.767440         0.752849   \n",
              "3                        0.766429         0.751939   \n",
              "4                        0.775730         0.751322   \n",
              "5                        0.765963         0.749938   \n",
              "6                        0.785543         0.749578   \n",
              "7                        0.765667         0.748950   \n",
              "8                        0.779457         0.748589   \n",
              "9                        0.864360         0.742171   \n",
              "10                       0.857486         0.742009   \n",
              "\n",
              "                param_lgbmclassifier__n_estimators  \\\n",
              "rank_test_score                                      \n",
              "1                                               97   \n",
              "2                                               87   \n",
              "3                                               12   \n",
              "4                                               96   \n",
              "5                                               85   \n",
              "6                                               13   \n",
              "7                                               84   \n",
              "8                                               12   \n",
              "9                                               95   \n",
              "10                                              79   \n",
              "\n",
              "                param_lgbmclassifier__learning_rate  \\\n",
              "rank_test_score                                       \n",
              "1                                              0.01   \n",
              "2                                              0.01   \n",
              "3                                               0.1   \n",
              "4                                              0.01   \n",
              "5                                              0.01   \n",
              "6                                               0.1   \n",
              "7                                              0.01   \n",
              "8                                               0.1   \n",
              "9                                               0.1   \n",
              "10                                              0.1   \n",
              "\n",
              "                param_lgbmclassifier__subsample  mean_fit_time  \n",
              "rank_test_score                                                 \n",
              "1                                          0.75       0.123248  \n",
              "2                                           0.5       0.105307  \n",
              "3                                           0.5       0.018800  \n",
              "4                                             1       0.099155  \n",
              "5                                             1       0.110979  \n",
              "6                                           0.5       0.023979  \n",
              "7                                           0.5       0.111126  \n",
              "8                                             1       0.021846  \n",
              "9                                             1       0.110549  \n",
              "10                                          0.5       0.101757  "
            ]
          },
          "metadata": {}
        }
      ],
      "id": "8qCPnTRfpXfS"
    },
    {
      "cell_type": "code",
      "source": [
        "best_lgbm_model = random_search_lgbm.best_estimator_\n",
        "results[\"lgbm (tuned)\"] = mean_std_cross_val_scores(\n",
        "    best_lgbm_model, X_train, y_train, return_train_score=True, scoring=scoring_metric\n",
        ")\n",
        "pd.DataFrame(results).T"
      ],
      "metadata": {
        "id": "aV4YqPvUpXfS",
        "outputId": "11592f7a-52e4-40e3-90e6-d8d690dc3d7d"
      },
      "execution_count": null,
      "outputs": [
        {
          "execution_count": 44,
          "output_type": "execute_result",
          "data": {
            "text/html": [
              "<div>\n",
              "<style scoped>\n",
              "    .dataframe tbody tr th:only-of-type {\n",
              "        vertical-align: middle;\n",
              "    }\n",
              "\n",
              "    .dataframe tbody tr th {\n",
              "        vertical-align: top;\n",
              "    }\n",
              "\n",
              "    .dataframe thead th {\n",
              "        text-align: right;\n",
              "    }\n",
              "</style>\n",
              "<table border=\"1\" class=\"dataframe\">\n",
              "  <thead>\n",
              "    <tr style=\"text-align: right;\">\n",
              "      <th></th>\n",
              "      <th>fit_time</th>\n",
              "      <th>score_time</th>\n",
              "      <th>test_score</th>\n",
              "      <th>train_score</th>\n",
              "    </tr>\n",
              "  </thead>\n",
              "  <tbody>\n",
              "    <tr>\n",
              "      <th>dummy</th>\n",
              "      <td>0.001 (+/- 0.000)</td>\n",
              "      <td>0.001 (+/- 0.001)</td>\n",
              "      <td>0.443 (+/- 0.000)</td>\n",
              "      <td>0.443 (+/- 0.000)</td>\n",
              "    </tr>\n",
              "    <tr>\n",
              "      <th>logreg</th>\n",
              "      <td>0.014 (+/- 0.003)</td>\n",
              "      <td>0.002 (+/- 0.001)</td>\n",
              "      <td>0.644 (+/- 0.016)</td>\n",
              "      <td>0.645 (+/- 0.004)</td>\n",
              "    </tr>\n",
              "    <tr>\n",
              "      <th>logreg (tuned)</th>\n",
              "      <td>0.012 (+/- 0.001)</td>\n",
              "      <td>0.002 (+/- 0.000)</td>\n",
              "      <td>0.649 (+/- 0.012)</td>\n",
              "      <td>0.652 (+/- 0.006)</td>\n",
              "    </tr>\n",
              "    <tr>\n",
              "      <th>random forest</th>\n",
              "      <td>0.570 (+/- 0.027)</td>\n",
              "      <td>0.033 (+/- 0.001)</td>\n",
              "      <td>0.737 (+/- 0.031)</td>\n",
              "      <td>1.000 (+/- 0.000)</td>\n",
              "    </tr>\n",
              "    <tr>\n",
              "      <th>xgboost</th>\n",
              "      <td>0.254 (+/- 0.019)</td>\n",
              "      <td>0.005 (+/- 0.001)</td>\n",
              "      <td>0.729 (+/- 0.018)</td>\n",
              "      <td>0.958 (+/- 0.005)</td>\n",
              "    </tr>\n",
              "    <tr>\n",
              "      <th>lgbm</th>\n",
              "      <td>0.179 (+/- 0.021)</td>\n",
              "      <td>0.004 (+/- 0.001)</td>\n",
              "      <td>0.739 (+/- 0.011)</td>\n",
              "      <td>0.884 (+/- 0.006)</td>\n",
              "    </tr>\n",
              "    <tr>\n",
              "      <th>random forest+ feat_sel</th>\n",
              "      <td>0.565 (+/- 0.026)</td>\n",
              "      <td>0.033 (+/- 0.002)</td>\n",
              "      <td>0.729 (+/- 0.029)</td>\n",
              "      <td>1.000 (+/- 0.000)</td>\n",
              "    </tr>\n",
              "    <tr>\n",
              "      <th>xgboost+ feat_sel</th>\n",
              "      <td>0.235 (+/- 0.005)</td>\n",
              "      <td>0.005 (+/- 0.001)</td>\n",
              "      <td>0.733 (+/- 0.018)</td>\n",
              "      <td>0.961 (+/- 0.005)</td>\n",
              "    </tr>\n",
              "    <tr>\n",
              "      <th>lgbm+ feat_sel</th>\n",
              "      <td>0.138 (+/- 0.018)</td>\n",
              "      <td>0.005 (+/- 0.000)</td>\n",
              "      <td>0.742 (+/- 0.011)</td>\n",
              "      <td>0.885 (+/- 0.006)</td>\n",
              "    </tr>\n",
              "    <tr>\n",
              "      <th>random forest (tuned)</th>\n",
              "      <td>0.182 (+/- 0.027)</td>\n",
              "      <td>0.013 (+/- 0.002)</td>\n",
              "      <td>0.751 (+/- 0.034)</td>\n",
              "      <td>0.915 (+/- 0.005)</td>\n",
              "    </tr>\n",
              "    <tr>\n",
              "      <th>xgboost (tuned)</th>\n",
              "      <td>0.387 (+/- 0.020)</td>\n",
              "      <td>0.006 (+/- 0.001)</td>\n",
              "      <td>0.749 (+/- 0.022)</td>\n",
              "      <td>0.908 (+/- 0.003)</td>\n",
              "    </tr>\n",
              "    <tr>\n",
              "      <th>lgbm (tuned)</th>\n",
              "      <td>0.122 (+/- 0.016)</td>\n",
              "      <td>0.004 (+/- 0.001)</td>\n",
              "      <td>0.755 (+/- 0.030)</td>\n",
              "      <td>0.776 (+/- 0.005)</td>\n",
              "    </tr>\n",
              "  </tbody>\n",
              "</table>\n",
              "</div>"
            ],
            "text/plain": [
              "                                  fit_time         score_time  \\\n",
              "dummy                    0.001 (+/- 0.000)  0.001 (+/- 0.001)   \n",
              "logreg                   0.014 (+/- 0.003)  0.002 (+/- 0.001)   \n",
              "logreg (tuned)           0.012 (+/- 0.001)  0.002 (+/- 0.000)   \n",
              "random forest            0.570 (+/- 0.027)  0.033 (+/- 0.001)   \n",
              "xgboost                  0.254 (+/- 0.019)  0.005 (+/- 0.001)   \n",
              "lgbm                     0.179 (+/- 0.021)  0.004 (+/- 0.001)   \n",
              "random forest+ feat_sel  0.565 (+/- 0.026)  0.033 (+/- 0.002)   \n",
              "xgboost+ feat_sel        0.235 (+/- 0.005)  0.005 (+/- 0.001)   \n",
              "lgbm+ feat_sel           0.138 (+/- 0.018)  0.005 (+/- 0.000)   \n",
              "random forest (tuned)    0.182 (+/- 0.027)  0.013 (+/- 0.002)   \n",
              "xgboost (tuned)          0.387 (+/- 0.020)  0.006 (+/- 0.001)   \n",
              "lgbm (tuned)             0.122 (+/- 0.016)  0.004 (+/- 0.001)   \n",
              "\n",
              "                                test_score        train_score  \n",
              "dummy                    0.443 (+/- 0.000)  0.443 (+/- 0.000)  \n",
              "logreg                   0.644 (+/- 0.016)  0.645 (+/- 0.004)  \n",
              "logreg (tuned)           0.649 (+/- 0.012)  0.652 (+/- 0.006)  \n",
              "random forest            0.737 (+/- 0.031)  1.000 (+/- 0.000)  \n",
              "xgboost                  0.729 (+/- 0.018)  0.958 (+/- 0.005)  \n",
              "lgbm                     0.739 (+/- 0.011)  0.884 (+/- 0.006)  \n",
              "random forest+ feat_sel  0.729 (+/- 0.029)  1.000 (+/- 0.000)  \n",
              "xgboost+ feat_sel        0.733 (+/- 0.018)  0.961 (+/- 0.005)  \n",
              "lgbm+ feat_sel           0.742 (+/- 0.011)  0.885 (+/- 0.006)  \n",
              "random forest (tuned)    0.751 (+/- 0.034)  0.915 (+/- 0.005)  \n",
              "xgboost (tuned)          0.749 (+/- 0.022)  0.908 (+/- 0.003)  \n",
              "lgbm (tuned)             0.755 (+/- 0.030)  0.776 (+/- 0.005)  "
            ]
          },
          "metadata": {}
        }
      ],
      "id": "aV4YqPvUpXfS"
    },
    {
      "cell_type": "markdown",
      "source": [
        "Hyperparameter optimization seems to help with `random forests` as well as `LightGBM`. The scores for both models seem very similar. But we pick `LightGBM` because\n",
        "\n",
        "- it seems to be less overfitting\n",
        "\n",
        "- it's much faster\n",
        "\n",
        "- the standard deviation is smaller compared to random forest."
      ],
      "metadata": {
        "id": "h_fGtdiepXfT"
      },
      "id": "h_fGtdiepXfT"
    },
    {
      "cell_type": "markdown",
      "source": [
        "# 11. Interpretation and feature importances"
      ],
      "metadata": {
        "id": "5EwpypcspXfT"
      },
      "id": "5EwpypcspXfT"
    },
    {
      "cell_type": "code",
      "source": [
        "import eli5\n",
        "eli5.show_weights(\n",
        "    best_lgbm_model.named_steps[\"lgbmclassifier\"],\n",
        "    feature_names=feature_names[:-1],\n",
        ")"
      ],
      "metadata": {
        "id": "dBVcbIhWpXfT",
        "outputId": "1ef305ab-ab23-4f92-836d-a6d24b58c3d5"
      },
      "execution_count": null,
      "outputs": [
        {
          "execution_count": 45,
          "output_type": "execute_result",
          "data": {
            "text/html": [
              "\n",
              "    <style>\n",
              "    table.eli5-weights tr:hover {\n",
              "        filter: brightness(85%);\n",
              "    }\n",
              "</style>\n",
              "\n",
              "\n",
              "\n",
              "    \n",
              "\n",
              "    \n",
              "\n",
              "    \n",
              "\n",
              "    \n",
              "\n",
              "    \n",
              "\n",
              "    \n",
              "\n",
              "\n",
              "    \n",
              "\n",
              "    \n",
              "\n",
              "    \n",
              "\n",
              "    \n",
              "\n",
              "    \n",
              "\n",
              "    \n",
              "\n",
              "\n",
              "    \n",
              "\n",
              "    \n",
              "\n",
              "    \n",
              "\n",
              "    \n",
              "\n",
              "    \n",
              "        <table class=\"eli5-weights eli5-feature-importances\" style=\"border-collapse: collapse; border: none; margin-top: 0em; table-layout: auto;\">\n",
              "    <thead>\n",
              "    <tr style=\"border: none;\">\n",
              "        <th style=\"padding: 0 1em 0 0.5em; text-align: right; border: none;\">Weight</th>\n",
              "        <th style=\"padding: 0 0.5em 0 0.5em; text-align: left; border: none;\">Feature</th>\n",
              "    </tr>\n",
              "    </thead>\n",
              "    <tbody>\n",
              "    \n",
              "        <tr style=\"background-color: hsl(120, 100.00%, 80.00%); border: none;\">\n",
              "            <td style=\"padding: 0 1em 0 0.5em; text-align: right; border: none;\">\n",
              "                0.4146\n",
              "                \n",
              "            </td>\n",
              "            <td style=\"padding: 0 0.5em 0 0.5em; text-align: left; border: none;\">\n",
              "                Age\n",
              "            </td>\n",
              "        </tr>\n",
              "    \n",
              "        <tr style=\"background-color: hsl(120, 100.00%, 84.81%); border: none;\">\n",
              "            <td style=\"padding: 0 1em 0 0.5em; text-align: right; border: none;\">\n",
              "                0.2798\n",
              "                \n",
              "            </td>\n",
              "            <td style=\"padding: 0 0.5em 0 0.5em; text-align: left; border: none;\">\n",
              "                NumOfProducts\n",
              "            </td>\n",
              "        </tr>\n",
              "    \n",
              "        <tr style=\"background-color: hsl(120, 100.00%, 91.01%); border: none;\">\n",
              "            <td style=\"padding: 0 1em 0 0.5em; text-align: right; border: none;\">\n",
              "                0.1323\n",
              "                \n",
              "            </td>\n",
              "            <td style=\"padding: 0 0.5em 0 0.5em; text-align: left; border: none;\">\n",
              "                Balance\n",
              "            </td>\n",
              "        </tr>\n",
              "    \n",
              "        <tr style=\"background-color: hsl(120, 100.00%, 94.42%); border: none;\">\n",
              "            <td style=\"padding: 0 1em 0 0.5em; text-align: right; border: none;\">\n",
              "                0.0669\n",
              "                \n",
              "            </td>\n",
              "            <td style=\"padding: 0 0.5em 0 0.5em; text-align: left; border: none;\">\n",
              "                IsActiveMember_1\n",
              "            </td>\n",
              "        </tr>\n",
              "    \n",
              "        <tr style=\"background-color: hsl(120, 100.00%, 95.78%); border: none;\">\n",
              "            <td style=\"padding: 0 1em 0 0.5em; text-align: right; border: none;\">\n",
              "                0.0448\n",
              "                \n",
              "            </td>\n",
              "            <td style=\"padding: 0 0.5em 0 0.5em; text-align: left; border: none;\">\n",
              "                Geography_Germany\n",
              "            </td>\n",
              "        </tr>\n",
              "    \n",
              "        <tr style=\"background-color: hsl(120, 100.00%, 97.55%); border: none;\">\n",
              "            <td style=\"padding: 0 1em 0 0.5em; text-align: right; border: none;\">\n",
              "                0.0206\n",
              "                \n",
              "            </td>\n",
              "            <td style=\"padding: 0 0.5em 0 0.5em; text-align: left; border: none;\">\n",
              "                EstimatedSalary\n",
              "            </td>\n",
              "        </tr>\n",
              "    \n",
              "        <tr style=\"background-color: hsl(120, 100.00%, 97.92%); border: none;\">\n",
              "            <td style=\"padding: 0 1em 0 0.5em; text-align: right; border: none;\">\n",
              "                0.0164\n",
              "                \n",
              "            </td>\n",
              "            <td style=\"padding: 0 0.5em 0 0.5em; text-align: left; border: none;\">\n",
              "                Gender_Male\n",
              "            </td>\n",
              "        </tr>\n",
              "    \n",
              "        <tr style=\"background-color: hsl(120, 100.00%, 98.00%); border: none;\">\n",
              "            <td style=\"padding: 0 1em 0 0.5em; text-align: right; border: none;\">\n",
              "                0.0154\n",
              "                \n",
              "            </td>\n",
              "            <td style=\"padding: 0 0.5em 0 0.5em; text-align: left; border: none;\">\n",
              "                CreditScore\n",
              "            </td>\n",
              "        </tr>\n",
              "    \n",
              "        <tr style=\"background-color: hsl(120, 100.00%, 99.10%); border: none;\">\n",
              "            <td style=\"padding: 0 1em 0 0.5em; text-align: right; border: none;\">\n",
              "                0.0050\n",
              "                \n",
              "            </td>\n",
              "            <td style=\"padding: 0 0.5em 0 0.5em; text-align: left; border: none;\">\n",
              "                Tenure\n",
              "            </td>\n",
              "        </tr>\n",
              "    \n",
              "        <tr style=\"background-color: hsl(120, 100.00%, 99.41%); border: none;\">\n",
              "            <td style=\"padding: 0 1em 0 0.5em; text-align: right; border: none;\">\n",
              "                0.0027\n",
              "                \n",
              "            </td>\n",
              "            <td style=\"padding: 0 0.5em 0 0.5em; text-align: left; border: none;\">\n",
              "                Geography_France\n",
              "            </td>\n",
              "        </tr>\n",
              "    \n",
              "        <tr style=\"background-color: hsl(120, 100.00%, 99.64%); border: none;\">\n",
              "            <td style=\"padding: 0 1em 0 0.5em; text-align: right; border: none;\">\n",
              "                0.0013\n",
              "                \n",
              "            </td>\n",
              "            <td style=\"padding: 0 0.5em 0 0.5em; text-align: left; border: none;\">\n",
              "                Geography_Spain\n",
              "            </td>\n",
              "        </tr>\n",
              "    \n",
              "        <tr style=\"background-color: hsl(120, 100.00%, 99.93%); border: none;\">\n",
              "            <td style=\"padding: 0 1em 0 0.5em; text-align: right; border: none;\">\n",
              "                0.0001\n",
              "                \n",
              "            </td>\n",
              "            <td style=\"padding: 0 0.5em 0 0.5em; text-align: left; border: none;\">\n",
              "                HasCrCard_1\n",
              "            </td>\n",
              "        </tr>\n",
              "    \n",
              "    \n",
              "    </tbody>\n",
              "</table>\n",
              "    \n",
              "\n",
              "    \n",
              "\n",
              "\n",
              "    \n",
              "\n",
              "    \n",
              "\n",
              "    \n",
              "\n",
              "    \n",
              "\n",
              "    \n",
              "\n",
              "    \n",
              "\n",
              "\n",
              "\n"
            ],
            "text/plain": [
              "<IPython.core.display.HTML object>"
            ]
          },
          "metadata": {}
        }
      ],
      "id": "dBVcbIhWpXfT"
    },
    {
      "cell_type": "code",
      "source": [
        "import shap"
      ],
      "metadata": {
        "id": "FkvBq8lIpXfT",
        "outputId": "7e934713-d84c-4d17-be6e-2a9089264c2c"
      },
      "execution_count": null,
      "outputs": [
        {
          "name": "stderr",
          "output_type": "stream",
          "text": "C:\\Users\\caesa_mt2kv9g\\.conda\\envs\\573\\lib\\site-packages\\tqdm\\auto.py:22: TqdmWarning: IProgress not found. Please update jupyter and ipywidgets. See https://ipywidgets.readthedocs.io/en/stable/user_install.html\n\n  from .autonotebook import tqdm as notebook_tqdm\n"
        }
      ],
      "id": "FkvBq8lIpXfT"
    },
    {
      "cell_type": "code",
      "source": [
        "lgbm_tuned = best_lgbm_model.named_steps[\"lgbmclassifier\"]\n",
        "lgbm_tuned.fit(X_train, y_train)\n",
        "lgbm_explainer = shap.TreeExplainer(lgbm_tuned)\n",
        "lgbm_shap_values = lgbm_explainer.shap_values(X_train)"
      ],
      "metadata": {
        "id": "DccjmZ8ypXfU",
        "outputId": "9c84f862-4b38-4f1f-d628-79d8066d09a3"
      },
      "execution_count": null,
      "outputs": [
        {
          "name": "stderr",
          "output_type": "stream",
          "text": "LightGBM binary classifier with TreeExplainer shap values output has changed to a list of ndarray\n"
        }
      ],
      "id": "DccjmZ8ypXfU"
    },
    {
      "cell_type": "code",
      "source": [
        "lgbm_explainer.expected_value"
      ],
      "metadata": {
        "id": "UoG6dZCTpXfU",
        "outputId": "8be33ea8-1d69-44d5-a0b7-27eb37b89d9b"
      },
      "execution_count": null,
      "outputs": [
        {
          "execution_count": 48,
          "output_type": "execute_result",
          "data": {
            "text/plain": [
              "[0.9038578414635895, -0.9038578414635895]"
            ]
          },
          "metadata": {}
        }
      ],
      "id": "UoG6dZCTpXfU"
    },
    {
      "cell_type": "code",
      "source": [
        "values = np.abs(lgbm_shap_values[0]).mean(0)\n",
        "pd.DataFrame(data=values, index=feature_names[:-1], columns=[\"SHAP\"]).sort_values(\n",
        "    by=\"SHAP\", ascending=False\n",
        ")[:10]"
      ],
      "metadata": {
        "id": "dBhimuikpXfU",
        "outputId": "c39de251-ded1-4420-a5a3-aa2d8dc5e9cc"
      },
      "execution_count": null,
      "outputs": [
        {
          "execution_count": 49,
          "output_type": "execute_result",
          "data": {
            "text/html": [
              "<div>\n",
              "<style scoped>\n",
              "    .dataframe tbody tr th:only-of-type {\n",
              "        vertical-align: middle;\n",
              "    }\n",
              "\n",
              "    .dataframe tbody tr th {\n",
              "        vertical-align: top;\n",
              "    }\n",
              "\n",
              "    .dataframe thead th {\n",
              "        text-align: right;\n",
              "    }\n",
              "</style>\n",
              "<table border=\"1\" class=\"dataframe\">\n",
              "  <thead>\n",
              "    <tr style=\"text-align: right;\">\n",
              "      <th></th>\n",
              "      <th>SHAP</th>\n",
              "    </tr>\n",
              "  </thead>\n",
              "  <tbody>\n",
              "    <tr>\n",
              "      <th>Age</th>\n",
              "      <td>0.438255</td>\n",
              "    </tr>\n",
              "    <tr>\n",
              "      <th>NumOfProducts</th>\n",
              "      <td>0.408064</td>\n",
              "    </tr>\n",
              "    <tr>\n",
              "      <th>IsActiveMember_1</th>\n",
              "      <td>0.173574</td>\n",
              "    </tr>\n",
              "    <tr>\n",
              "      <th>Balance</th>\n",
              "      <td>0.136418</td>\n",
              "    </tr>\n",
              "    <tr>\n",
              "      <th>Geography_Germany</th>\n",
              "      <td>0.085938</td>\n",
              "    </tr>\n",
              "    <tr>\n",
              "      <th>Gender_Male</th>\n",
              "      <td>0.062617</td>\n",
              "    </tr>\n",
              "    <tr>\n",
              "      <th>EstimatedSalary</th>\n",
              "      <td>0.016347</td>\n",
              "    </tr>\n",
              "    <tr>\n",
              "      <th>CreditScore</th>\n",
              "      <td>0.010506</td>\n",
              "    </tr>\n",
              "    <tr>\n",
              "      <th>Geography_France</th>\n",
              "      <td>0.006596</td>\n",
              "    </tr>\n",
              "    <tr>\n",
              "      <th>Tenure</th>\n",
              "      <td>0.004855</td>\n",
              "    </tr>\n",
              "  </tbody>\n",
              "</table>\n",
              "</div>"
            ],
            "text/plain": [
              "                       SHAP\n",
              "Age                0.438255\n",
              "NumOfProducts      0.408064\n",
              "IsActiveMember_1   0.173574\n",
              "Balance            0.136418\n",
              "Geography_Germany  0.085938\n",
              "Gender_Male        0.062617\n",
              "EstimatedSalary    0.016347\n",
              "CreditScore        0.010506\n",
              "Geography_France   0.006596\n",
              "Tenure             0.004855"
            ]
          },
          "metadata": {}
        }
      ],
      "id": "dBhimuikpXfU"
    },
    {
      "cell_type": "code",
      "source": [
        "shap.dependence_plot(\"Age\", lgbm_shap_values[0], X_train)"
      ],
      "metadata": {
        "id": "Ai1fiKlZpXfU",
        "outputId": "469fd994-65c4-4669-81b2-f061765d162b"
      },
      "execution_count": null,
      "outputs": [
        {
          "output_type": "display_data",
          "data": {
            "image/png": "[encoded data removed]",
            "text/plain": [
              "<Figure size 750x500 with 2 Axes>"
            ]
          },
          "metadata": {}
        }
      ],
      "id": "Ai1fiKlZpXfU"
    },
    {
      "cell_type": "markdown",
      "source": [
        "As `Age` increases, SHAP values for class 0 drop at first, suggesting that class is likely to be 1 (exited) with mean values for `Age`.\n",
        "\n",
        "When `Age` increases until the maximum in the dataset, the SHAP values for class 0 increases, suggesting that class is likely to be 0 (stayed).\n",
        "\n",
        "The above dependencies plot and SHAP values make sense as younger customer will stay with the bank when they first join. Middle aged customer will be more likely to exit the bank as they might have more options (e.g. promotion, investment plan, etc.). The oldest customer will stay with the bank as they prefer less changes to their financial decision."
      ],
      "metadata": {
        "id": "AHW6JAa0pXfV"
      },
      "id": "AHW6JAa0pXfV"
    },
    {
      "cell_type": "code",
      "source": [
        "shap.summary_plot(lgbm_shap_values[0], X_train)"
      ],
      "metadata": {
        "id": "4b4CpPLBpXfV",
        "outputId": "49b49105-d4e8-427e-f970-7f87614db03b"
      },
      "execution_count": null,
      "outputs": [
        {
          "output_type": "display_data",
          "data": {
            "image/png": "[encoded data removed]",
            "text/plain": [
              "<Figure size 800x630 with 2 Axes>"
            ]
          },
          "metadata": {}
        }
      ],
      "id": "4b4CpPLBpXfV"
    },
    {
      "cell_type": "code",
      "source": [
        "test_lgbm_shap_values = lgbm_explainer.shap_values(X_test)"
      ],
      "metadata": {
        "id": "Qgm0qofTpXfV",
        "outputId": "b0d6ebc2-dfbb-4f97-e7c4-8161b58bd1a3"
      },
      "execution_count": null,
      "outputs": [
        {
          "name": "stderr",
          "output_type": "stream",
          "text": "LightGBM binary classifier with TreeExplainer shap values output has changed to a list of ndarray\n"
        }
      ],
      "id": "Qgm0qofTpXfV"
    },
    {
      "cell_type": "code",
      "source": [
        "lgbm_tuned.predict_proba(X_test)[1]"
      ],
      "metadata": {
        "id": "6Y0We9H6pXfV",
        "outputId": "27e2121a-8c2e-4d47-fb69-2c4542944dc5"
      },
      "execution_count": null,
      "outputs": [
        {
          "execution_count": 53,
          "output_type": "execute_result",
          "data": {
            "text/plain": [
              "array([0.79487272, 0.20512728])"
            ]
          },
          "metadata": {}
        }
      ],
      "id": "6Y0We9H6pXfV"
    },
    {
      "cell_type": "code",
      "source": [
        "lgbm_tuned.predict(X_test, raw_score=True)[1]"
      ],
      "metadata": {
        "id": "sVAx6qJipXfW",
        "outputId": "de6562be-9a08-4662-9507-226ebe524b0e"
      },
      "execution_count": null,
      "outputs": [
        {
          "execution_count": 54,
          "output_type": "execute_result",
          "data": {
            "text/plain": [
              "-1.3545513161961154"
            ]
          },
          "metadata": {}
        }
      ],
      "id": "sVAx6qJipXfW"
    },
    {
      "cell_type": "code",
      "source": [
        "lgbm_explainer.expected_value"
      ],
      "metadata": {
        "id": "0pCtZj7cpXfW",
        "outputId": "2a7a674f-bc8e-4262-844c-5faff177b425"
      },
      "execution_count": null,
      "outputs": [
        {
          "execution_count": 55,
          "output_type": "execute_result",
          "data": {
            "text/plain": [
              "[0.9038578414635895, -0.9038578414635895]"
            ]
          },
          "metadata": {}
        }
      ],
      "id": "0pCtZj7cpXfW"
    },
    {
      "cell_type": "code",
      "source": [
        "shap.force_plot(\n",
        "    lgbm_explainer.expected_value[0],\n",
        "    test_lgbm_shap_values[0][1, :],\n",
        "    X_test.iloc[1, :],\n",
        "    matplotlib=True,\n",
        "    text_rotation=15\n",
        ")"
      ],
      "metadata": {
        "id": "MySfeeHmpXfW",
        "outputId": "c87a3db4-590e-4703-e03c-831cdb078a24"
      },
      "execution_count": null,
      "outputs": [
        {
          "output_type": "display_data",
          "data": {
            "image/png": "[encoded data removed]",
            "text/plain": [
              "<Figure size 2000x300 with 1 Axes>"
            ]
          },
          "metadata": {}
        }
      ],
      "id": "MySfeeHmpXfW"
    },
    {
      "cell_type": "markdown",
      "source": [
        "From the analysis above we observe that `Age`, `NumOfProducts`, `IsActiveMember` features seem to be one of the most important features with `Age` being the topmost feature.\n",
        "\n",
        "The SHAP dependence plot demonstrates that the class is likely to be 0 (stay) for extreme `Age` values, which makes sense."
      ],
      "metadata": {
        "id": "IJccjLaOpXfW"
      },
      "id": "IJccjLaOpXfW"
    },
    {
      "cell_type": "markdown",
      "source": [
        "# 12. Results on the test set"
      ],
      "metadata": {
        "id": "84Xowtp-pXfW"
      },
      "id": "84Xowtp-pXfW"
    },
    {
      "cell_type": "code",
      "source": [
        "from sklearn.metrics import f1_score\n",
        "\n",
        "best_model = random_search_lgbm.best_estimator_\n",
        "print(\n",
        "    \"Grid Search best model validation score: %0.3f\" % (random_search_lgbm.best_score_)\n",
        ")\n",
        "\n",
        "predictions = best_model.predict(X_test)\n",
        "print(\n",
        "    \"Macro-average f1 score on the test set: %0.3f\"\n",
        "    % (f1_score(y_test, predictions, average=\"macro\"))\n",
        ")"
      ],
      "metadata": {
        "id": "EdsdXszwpXfX",
        "outputId": "ea8e7c08-5621-43dd-9cef-10be77351285"
      },
      "execution_count": null,
      "outputs": [
        {
          "name": "stdout",
          "output_type": "stream",
          "text": "Grid Search best model validation score: 0.755\n\nMacro-average f1 score on the test set: 0.776\n"
        }
      ],
      "id": "EdsdXszwpXfX"
    },
    {
      "cell_type": "code",
      "source": [
        "from sklearn.metrics import classification_report, plot_confusion_matrix\n",
        "import matplotlib.pyplot as plt\n",
        "\n",
        "plot_confusion_matrix(\n",
        "    best_model,\n",
        "    X_test,\n",
        "    y_test,\n",
        "    display_labels=[\"Stayed\", \"Exited\"],\n",
        "    values_format=\"d\",\n",
        "    cmap=plt.cm.Blues,\n",
        ")"
      ],
      "metadata": {
        "id": "BuyEZFCwpXfX",
        "outputId": "982f0fe7-91b2-4178-985a-672bad4e2f75"
      },
      "execution_count": null,
      "outputs": [
        {
          "name": "stderr",
          "output_type": "stream",
          "text": "Function plot_confusion_matrix is deprecated; Function `plot_confusion_matrix` is deprecated in 1.0 and will be removed in 1.2. Use one of the class methods: ConfusionMatrixDisplay.from_predictions or ConfusionMatrixDisplay.from_estimator.\n"
        },
        {
          "execution_count": 58,
          "output_type": "execute_result",
          "data": {
            "text/plain": [
              "<sklearn.metrics._plot.confusion_matrix.ConfusionMatrixDisplay at 0x22f376e02e0>"
            ]
          },
          "metadata": {}
        },
        {
          "output_type": "display_data",
          "data": {
            "image/png": "[encoded data removed]",
            "text/plain": [
              "<Figure size 640x480 with 2 Axes>"
            ]
          },
          "metadata": {}
        }
      ],
      "id": "BuyEZFCwpXfX"
    },
    {
      "cell_type": "code",
      "source": [
        "print(\n",
        "    classification_report(\n",
        "        y_test, predictions, target_names=[\"Stayed\", \"Exited\"]\n",
        "    )\n",
        ")"
      ],
      "metadata": {
        "id": "QvbF8dxApXfX",
        "outputId": "1985f2d4-d0a7-4679-96ad-e69e57c3af9a"
      },
      "execution_count": null,
      "outputs": [
        {
          "name": "stdout",
          "output_type": "stream",
          "text": "              precision    recall  f1-score   support\n\n\n\n      Stayed       0.90      0.93      0.91      2395\n\n      Exited       0.68      0.60      0.64       605\n\n\n\n    accuracy                           0.86      3000\n\n   macro avg       0.79      0.76      0.78      3000\n\nweighted avg       0.86      0.86      0.86      3000\n\n\n"
        }
      ],
      "id": "QvbF8dxApXfX"
    },
    {
      "cell_type": "markdown",
      "source": [
        "The held-out test set's macro-average f1-score (0.776) is roughly in line with the validation score's macro-average f1-score (0.78). There doesn't appear to be much optimization bias in this situation.\n"
      ],
      "metadata": {
        "id": "LvW9cQgNpXfX"
      },
      "id": "LvW9cQgNpXfX"
    },
    {
      "cell_type": "code",
      "source": [
        "# get indices of stayed, exited customer\n",
        "y_test_reset = y_test.reset_index(drop=True)\n",
        "stay_ind = y_test_reset[y_test_reset == 0].index.tolist()\n",
        "exit_ind = y_test_reset[y_test_reset == 1].index.tolist()\n",
        "\n",
        "ex_stay_index = stay_ind[0]\n",
        "ex_exit_index = exit_ind[1]"
      ],
      "metadata": {
        "id": "p8aQpUIfpXfY"
      },
      "execution_count": null,
      "outputs": [],
      "id": "p8aQpUIfpXfY"
    },
    {
      "cell_type": "markdown",
      "source": [
        "**Explanation of a stayed customer prediction**"
      ],
      "metadata": {
        "id": "k0YuGILDpXfY"
      },
      "id": "k0YuGILDpXfY"
    },
    {
      "cell_type": "code",
      "source": [
        "lgbm_tuned.predict_proba(X_test)[ex_stay_index]"
      ],
      "metadata": {
        "id": "rDygT6GmpXfY",
        "outputId": "f85b17d7-0ff6-4b89-99db-f7d02f50ff77"
      },
      "execution_count": null,
      "outputs": [
        {
          "execution_count": 61,
          "output_type": "execute_result",
          "data": {
            "text/plain": [
              "array([0.88680935, 0.11319065])"
            ]
          },
          "metadata": {}
        }
      ],
      "id": "rDygT6GmpXfY"
    },
    {
      "cell_type": "code",
      "source": [
        "lgbm_tuned.predict(X_test, raw_score=True)[ex_stay_index]"
      ],
      "metadata": {
        "id": "UsGnmQItpXfY",
        "outputId": "3072bd81-082a-4e29-c8a3-12607ff049ca"
      },
      "execution_count": null,
      "outputs": [
        {
          "execution_count": 62,
          "output_type": "execute_result",
          "data": {
            "text/plain": [
              "-2.058556469097634"
            ]
          },
          "metadata": {}
        }
      ],
      "id": "UsGnmQItpXfY"
    },
    {
      "cell_type": "code",
      "source": [
        "lgbm_explainer.expected_value"
      ],
      "metadata": {
        "id": "HMcMxW_JpXfZ",
        "outputId": "81626ecb-5f20-40f2-fb45-f2eedbea13b6"
      },
      "execution_count": null,
      "outputs": [
        {
          "execution_count": 63,
          "output_type": "execute_result",
          "data": {
            "text/plain": [
              "[0.9038578414635895, -0.9038578414635895]"
            ]
          },
          "metadata": {}
        }
      ],
      "id": "HMcMxW_JpXfZ"
    },
    {
      "cell_type": "code",
      "source": [
        "shap.force_plot(\n",
        "    lgbm_explainer.expected_value[0],\n",
        "    test_lgbm_shap_values[0][ex_stay_index, :],\n",
        "    X_test.iloc[ex_stay_index, :],\n",
        "    matplotlib=True,\n",
        "    text_rotation=15\n",
        ")"
      ],
      "metadata": {
        "id": "uqnNBDpkpXfZ",
        "outputId": "eb417d9b-841c-48ce-f59f-eff19b0e96bd"
      },
      "execution_count": null,
      "outputs": [
        {
          "output_type": "display_data",
          "data": {
            "image/png": "[encoded data removed]",
            "text/plain": [
              "<Figure size 2000x300 with 1 Axes>"
            ]
          },
          "metadata": {}
        }
      ],
      "id": "uqnNBDpkpXfZ"
    },
    {
      "cell_type": "markdown",
      "source": [
        "The raw model score is 2.06, which is greater than the base value 0.9 and so the prediction is that the user is not likely to exit the bank (because we are consider the SHAP values for class 0)."
      ],
      "metadata": {
        "id": "aXt3dZd1pXfZ"
      },
      "id": "aXt3dZd1pXfZ"
    },
    {
      "cell_type": "markdown",
      "source": [
        "**Explanation of an exited customer prediction**"
      ],
      "metadata": {
        "id": "g6PdhrFVpXfZ"
      },
      "id": "g6PdhrFVpXfZ"
    },
    {
      "cell_type": "code",
      "source": [
        "lgbm_tuned.predict_proba(X_test)[ex_exit_index]"
      ],
      "metadata": {
        "id": "jzG4g5vopXfa",
        "outputId": "3c203203-c189-4c15-ad62-80d3ab42428f"
      },
      "execution_count": null,
      "outputs": [
        {
          "execution_count": 65,
          "output_type": "execute_result",
          "data": {
            "text/plain": [
              "array([0.36124776, 0.63875224])"
            ]
          },
          "metadata": {}
        }
      ],
      "id": "jzG4g5vopXfa"
    },
    {
      "cell_type": "code",
      "source": [
        "lgbm_tuned.predict(X_test, raw_score=True)[ex_exit_index]"
      ],
      "metadata": {
        "id": "41y1pbi2pXfa",
        "outputId": "10102499-d026-492b-b65a-e9c3bb3c8a5b"
      },
      "execution_count": null,
      "outputs": [
        {
          "execution_count": 66,
          "output_type": "execute_result",
          "data": {
            "text/plain": [
              "0.5699525928329695"
            ]
          },
          "metadata": {}
        }
      ],
      "id": "41y1pbi2pXfa"
    },
    {
      "cell_type": "code",
      "source": [
        "lgbm_explainer.expected_value"
      ],
      "metadata": {
        "id": "-c7oRU1ApXfa",
        "outputId": "e9df160d-f7a5-4afb-e0a6-87e1ef50761c"
      },
      "execution_count": null,
      "outputs": [
        {
          "execution_count": 67,
          "output_type": "execute_result",
          "data": {
            "text/plain": [
              "[0.9038578414635895, -0.9038578414635895]"
            ]
          },
          "metadata": {}
        }
      ],
      "id": "-c7oRU1ApXfa"
    },
    {
      "cell_type": "code",
      "source": [
        "shap.force_plot(\n",
        "    lgbm_explainer.expected_value[0],\n",
        "    test_lgbm_shap_values[0][ex_exit_index, :],\n",
        "    X_test.iloc[ex_exit_index, :],\n",
        "    matplotlib=True,\n",
        "    text_rotation=15\n",
        ")"
      ],
      "metadata": {
        "id": "GuaDuvXepXfa",
        "outputId": "27b10cad-a5b6-40b0-ecd0-7a4439625be1"
      },
      "execution_count": null,
      "outputs": [
        {
          "output_type": "display_data",
          "data": {
            "image/png": "[encoded data removed]",
            "text/plain": [
              "<Figure size 2000x300 with 1 Axes>"
            ]
          },
          "metadata": {}
        }
      ],
      "id": "GuaDuvXepXfa"
    },
    {
      "cell_type": "markdown",
      "source": [
        "- The raw model score is -0.57, which is smaller than the base value 0.9 and so the prediction is that the user is likely to exit the bank (class 1).\n",
        "\n",
        "- Positive values for `NumOfProducts` and `Balance` variables seem to push the prediction towards a lower value."
      ],
      "metadata": {
        "id": "hft1KUzfpXfb"
      },
      "id": "hft1KUzfpXfb"
    },
    {
      "cell_type": "markdown",
      "source": [
        "# 13. Summary of results"
      ],
      "metadata": {
        "id": "CegV-L0jpXfg"
      },
      "id": "CegV-L0jpXfg"
    },
    {
      "cell_type": "code",
      "source": [
        "summary_df = pd.DataFrame(results).T"
      ],
      "metadata": {
        "id": "ZMQ43onjpXfg"
      },
      "execution_count": null,
      "outputs": [],
      "id": "ZMQ43onjpXfg"
    },
    {
      "cell_type": "code",
      "source": [
        "comments = {\n",
        "    \"dummy\": \"Baseline of 0.50 macro-average f1 score.\",\n",
        "    \"logreg\": \"Improvement over the baseline but underfitting.\",\n",
        "    \"logreg (tuned)\": \"Slight improvement but still underfitting.\",\n",
        "    \"random forest\": \"Improvement over tuned logistic regression but overfitting.\",\n",
        "    \"xgboost\": \"Less overfitting compared to random forest.\",\n",
        "    \"lgbm\": \"Improvement over xgboost & random forest, and less overfitting.\",\n",
        "    \"random forest+ feat_sel\": \"Feature selection with L1 regularization helps a tiny bit. Selects 11 features.\",\n",
        "    \"xgboost+ feat_sel\": \"Very tiny improvement with L1 feature selection.\",\n",
        "    \"lgbm+ feat_sel\": \"Very tiny improvement with L1 feature selection.\",\n",
        "    \"random forest (tuned)\": \"Hyperparameter optimization helped. Best results so far.\",\n",
        "    \"xgboost (tuned)\": \"Improvement over default XGBoost.\",\n",
        "    \"lgbm (tuned)\": \"Hyperparameter optimization helped. Best results overall. The scores are very similar to random forest scores but picking this as the best model for its speed and less overfitting\",\n",
        "}\n",
        "pd.set_option(\"display.max_colwidth\", 0)\n",
        "summary_df[\"comments\"] = comments.values()\n",
        "summary_df"
      ],
      "metadata": {
        "id": "0HrNxSaIpXfh",
        "outputId": "2a394b9f-d25b-4775-cc43-be072fd0a2f4"
      },
      "execution_count": null,
      "outputs": [
        {
          "execution_count": 70,
          "output_type": "execute_result",
          "data": {
            "text/html": [
              "<div>\n",
              "<style scoped>\n",
              "    .dataframe tbody tr th:only-of-type {\n",
              "        vertical-align: middle;\n",
              "    }\n",
              "\n",
              "    .dataframe tbody tr th {\n",
              "        vertical-align: top;\n",
              "    }\n",
              "\n",
              "    .dataframe thead th {\n",
              "        text-align: right;\n",
              "    }\n",
              "</style>\n",
              "<table border=\"1\" class=\"dataframe\">\n",
              "  <thead>\n",
              "    <tr style=\"text-align: right;\">\n",
              "      <th></th>\n",
              "      <th>fit_time</th>\n",
              "      <th>score_time</th>\n",
              "      <th>test_score</th>\n",
              "      <th>train_score</th>\n",
              "      <th>comments</th>\n",
              "    </tr>\n",
              "  </thead>\n",
              "  <tbody>\n",
              "    <tr>\n",
              "      <th>dummy</th>\n",
              "      <td>0.001 (+/- 0.000)</td>\n",
              "      <td>0.001 (+/- 0.001)</td>\n",
              "      <td>0.443 (+/- 0.000)</td>\n",
              "      <td>0.443 (+/- 0.000)</td>\n",
              "      <td>Baseline of 0.50 macro-average f1 score.</td>\n",
              "    </tr>\n",
              "    <tr>\n",
              "      <th>logreg</th>\n",
              "      <td>0.014 (+/- 0.003)</td>\n",
              "      <td>0.002 (+/- 0.001)</td>\n",
              "      <td>0.644 (+/- 0.016)</td>\n",
              "      <td>0.645 (+/- 0.004)</td>\n",
              "      <td>Improvement over the baseline but underfitting.</td>\n",
              "    </tr>\n",
              "    <tr>\n",
              "      <th>logreg (tuned)</th>\n",
              "      <td>0.012 (+/- 0.001)</td>\n",
              "      <td>0.002 (+/- 0.000)</td>\n",
              "      <td>0.649 (+/- 0.012)</td>\n",
              "      <td>0.652 (+/- 0.006)</td>\n",
              "      <td>Slight improvement but still underfitting.</td>\n",
              "    </tr>\n",
              "    <tr>\n",
              "      <th>random forest</th>\n",
              "      <td>0.570 (+/- 0.027)</td>\n",
              "      <td>0.033 (+/- 0.001)</td>\n",
              "      <td>0.737 (+/- 0.031)</td>\n",
              "      <td>1.000 (+/- 0.000)</td>\n",
              "      <td>Improvement over tuned logistic regression but overfitting.</td>\n",
              "    </tr>\n",
              "    <tr>\n",
              "      <th>xgboost</th>\n",
              "      <td>0.254 (+/- 0.019)</td>\n",
              "      <td>0.005 (+/- 0.001)</td>\n",
              "      <td>0.729 (+/- 0.018)</td>\n",
              "      <td>0.958 (+/- 0.005)</td>\n",
              "      <td>Less overfitting compared to random forest.</td>\n",
              "    </tr>\n",
              "    <tr>\n",
              "      <th>lgbm</th>\n",
              "      <td>0.179 (+/- 0.021)</td>\n",
              "      <td>0.004 (+/- 0.001)</td>\n",
              "      <td>0.739 (+/- 0.011)</td>\n",
              "      <td>0.884 (+/- 0.006)</td>\n",
              "      <td>Improvement over xgboost &amp; random forest, and less overfitting.</td>\n",
              "    </tr>\n",
              "    <tr>\n",
              "      <th>random forest+ feat_sel</th>\n",
              "      <td>0.565 (+/- 0.026)</td>\n",
              "      <td>0.033 (+/- 0.002)</td>\n",
              "      <td>0.729 (+/- 0.029)</td>\n",
              "      <td>1.000 (+/- 0.000)</td>\n",
              "      <td>Feature selection with L1 regularization helps a tiny bit. Selects 11 features.</td>\n",
              "    </tr>\n",
              "    <tr>\n",
              "      <th>xgboost+ feat_sel</th>\n",
              "      <td>0.235 (+/- 0.005)</td>\n",
              "      <td>0.005 (+/- 0.001)</td>\n",
              "      <td>0.733 (+/- 0.018)</td>\n",
              "      <td>0.961 (+/- 0.005)</td>\n",
              "      <td>Very tiny improvement with L1 feature selection.</td>\n",
              "    </tr>\n",
              "    <tr>\n",
              "      <th>lgbm+ feat_sel</th>\n",
              "      <td>0.138 (+/- 0.018)</td>\n",
              "      <td>0.005 (+/- 0.000)</td>\n",
              "      <td>0.742 (+/- 0.011)</td>\n",
              "      <td>0.885 (+/- 0.006)</td>\n",
              "      <td>Very tiny improvement with L1 feature selection.</td>\n",
              "    </tr>\n",
              "    <tr>\n",
              "      <th>random forest (tuned)</th>\n",
              "      <td>0.182 (+/- 0.027)</td>\n",
              "      <td>0.013 (+/- 0.002)</td>\n",
              "      <td>0.751 (+/- 0.034)</td>\n",
              "      <td>0.915 (+/- 0.005)</td>\n",
              "      <td>Hyperparameter optimization helped. Best results so far.</td>\n",
              "    </tr>\n",
              "    <tr>\n",
              "      <th>xgboost (tuned)</th>\n",
              "      <td>0.387 (+/- 0.020)</td>\n",
              "      <td>0.006 (+/- 0.001)</td>\n",
              "      <td>0.749 (+/- 0.022)</td>\n",
              "      <td>0.908 (+/- 0.003)</td>\n",
              "      <td>Improvement over default XGBoost.</td>\n",
              "    </tr>\n",
              "    <tr>\n",
              "      <th>lgbm (tuned)</th>\n",
              "      <td>0.122 (+/- 0.016)</td>\n",
              "      <td>0.004 (+/- 0.001)</td>\n",
              "      <td>0.755 (+/- 0.030)</td>\n",
              "      <td>0.776 (+/- 0.005)</td>\n",
              "      <td>Hyperparameter optimization helped. Best results overall. The scores are very similar to random forest scores but picking this as the best model for its speed and less overfitting</td>\n",
              "    </tr>\n",
              "  </tbody>\n",
              "</table>\n",
              "</div>"
            ],
            "text/plain": [
              "                                  fit_time         score_time  \\\n",
              "dummy                    0.001 (+/- 0.000)  0.001 (+/- 0.001)   \n",
              "logreg                   0.014 (+/- 0.003)  0.002 (+/- 0.001)   \n",
              "logreg (tuned)           0.012 (+/- 0.001)  0.002 (+/- 0.000)   \n",
              "random forest            0.570 (+/- 0.027)  0.033 (+/- 0.001)   \n",
              "xgboost                  0.254 (+/- 0.019)  0.005 (+/- 0.001)   \n",
              "lgbm                     0.179 (+/- 0.021)  0.004 (+/- 0.001)   \n",
              "random forest+ feat_sel  0.565 (+/- 0.026)  0.033 (+/- 0.002)   \n",
              "xgboost+ feat_sel        0.235 (+/- 0.005)  0.005 (+/- 0.001)   \n",
              "lgbm+ feat_sel           0.138 (+/- 0.018)  0.005 (+/- 0.000)   \n",
              "random forest (tuned)    0.182 (+/- 0.027)  0.013 (+/- 0.002)   \n",
              "xgboost (tuned)          0.387 (+/- 0.020)  0.006 (+/- 0.001)   \n",
              "lgbm (tuned)             0.122 (+/- 0.016)  0.004 (+/- 0.001)   \n",
              "\n",
              "                                test_score        train_score  \\\n",
              "dummy                    0.443 (+/- 0.000)  0.443 (+/- 0.000)   \n",
              "logreg                   0.644 (+/- 0.016)  0.645 (+/- 0.004)   \n",
              "logreg (tuned)           0.649 (+/- 0.012)  0.652 (+/- 0.006)   \n",
              "random forest            0.737 (+/- 0.031)  1.000 (+/- 0.000)   \n",
              "xgboost                  0.729 (+/- 0.018)  0.958 (+/- 0.005)   \n",
              "lgbm                     0.739 (+/- 0.011)  0.884 (+/- 0.006)   \n",
              "random forest+ feat_sel  0.729 (+/- 0.029)  1.000 (+/- 0.000)   \n",
              "xgboost+ feat_sel        0.733 (+/- 0.018)  0.961 (+/- 0.005)   \n",
              "lgbm+ feat_sel           0.742 (+/- 0.011)  0.885 (+/- 0.006)   \n",
              "random forest (tuned)    0.751 (+/- 0.034)  0.915 (+/- 0.005)   \n",
              "xgboost (tuned)          0.749 (+/- 0.022)  0.908 (+/- 0.003)   \n",
              "lgbm (tuned)             0.755 (+/- 0.030)  0.776 (+/- 0.005)   \n",
              "\n",
              "                                                                                                                                                                                                    comments  \n",
              "dummy                    Baseline of 0.50 macro-average f1 score.                                                                                                                                             \n",
              "logreg                   Improvement over the baseline but underfitting.                                                                                                                                      \n",
              "logreg (tuned)           Slight improvement but still underfitting.                                                                                                                                           \n",
              "random forest            Improvement over tuned logistic regression but overfitting.                                                                                                                          \n",
              "xgboost                  Less overfitting compared to random forest.                                                                                                                                          \n",
              "lgbm                     Improvement over xgboost & random forest, and less overfitting.                                                                                                                      \n",
              "random forest+ feat_sel  Feature selection with L1 regularization helps a tiny bit. Selects 11 features.                                                                                                      \n",
              "xgboost+ feat_sel        Very tiny improvement with L1 feature selection.                                                                                                                                     \n",
              "lgbm+ feat_sel           Very tiny improvement with L1 feature selection.                                                                                                                                     \n",
              "random forest (tuned)    Hyperparameter optimization helped. Best results so far.                                                                                                                             \n",
              "xgboost (tuned)          Improvement over default XGBoost.                                                                                                                                                    \n",
              "lgbm (tuned)             Hyperparameter optimization helped. Best results overall. The scores are very similar to random forest scores but picking this as the best model for its speed and less overfitting  "
            ]
          },
          "metadata": {}
        }
      ],
      "id": "0HrNxSaIpXfh"
    },
    {
      "cell_type": "markdown",
      "source": [
        "**Concluding remarks**\n",
        "\n",
        "All our models outperformed the baseline. Our best model was LightGBM classifier with tuned hyperparameters. It obtained a 0.776 cross-validation macro-average f1 score. The scores do not appear to overfit much; there isn't a significant difference between the mean train score (0.776) and mean cross-validation score (0.755). These scores are very similar to the tuned random forest (CV score: 0.751). But random forest seems to overfit (train score: 0.915). It is also considerably slower than LightGBM. we decided to use the LightGBM model as our final model.\n",
        "\n",
        "On the held out test set, we observed the macro-average f1 score of 0.776 using this model, which is consistent with the mean cross-validation macro-average f1-score (0.755). There doesn't appear to be much optimization bias in this situation.\n",
        "\n",
        "We observed that L1 feature selection helped a tiny bit for all the tree-based models. In general, we have small number of features in this problem and feature selection doesn't seem crucial.\n",
        "\n",
        "Our analysis of feature importance shows that our `Age`, `NumOfProducts`, `IsActiveMember` variables seems to be most important features.\n"
      ],
      "metadata": {
        "id": "V5CcT6tDpXfh"
      },
      "id": "V5CcT6tDpXfh"
    },
    {
      "cell_type": "code",
      "source": [],
      "metadata": {
        "id": "_yirbROo4zc3"
      },
      "id": "_yirbROo4zc3",
      "execution_count": null,
      "outputs": []
    }
  ]
}